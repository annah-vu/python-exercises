{
 "cells": [
  {
   "cell_type": "code",
   "execution_count": 2,
   "id": "ea3d8f97-aee2-4431-b822-737782b77123",
   "metadata": {},
   "outputs": [],
   "source": [
    "class Person:\n",
    "    def __init__(self, name, sex, profession):\n",
    "        self.name = name\n",
    "        self.sex = sex\n",
    "        self.profession = profession\n",
    "        \n",
    "    def show(self):\n",
    "        print('Name:', self.name, 'Sex:', self.sex, 'Profession:', self.profession)\n",
    "        \n",
    "    def work(self):\n",
    "        print(self.name, 'working as a', self.profession)"
   ]
  },
  {
   "cell_type": "code",
   "execution_count": 3,
   "id": "d8f0202b-29cf-46db-a5ba-3f12c172f479",
   "metadata": {},
   "outputs": [],
   "source": [
    "jessa = Person('Jessa', 'Female','Software Engineer')"
   ]
  },
  {
   "cell_type": "code",
   "execution_count": 5,
   "id": "737e5418-123c-44b0-8847-c43dd813b59c",
   "metadata": {},
   "outputs": [
    {
     "name": "stdout",
     "output_type": "stream",
     "text": [
      "Name: Jessa Sex: Female Profession: Software Engineer\n",
      "Jessa working as a Software Engineer\n"
     ]
    }
   ],
   "source": [
    "jessa.show()\n",
    "jessa.work()"
   ]
  },
  {
   "cell_type": "code",
   "execution_count": 9,
   "id": "0d809287-1a7b-4b33-8e62-f0aa3fe9a516",
   "metadata": {},
   "outputs": [
    {
     "name": "stdout",
     "output_type": "stream",
     "text": [
      "Student: Alex 12\n",
      "School name: Teddy Rose\n"
     ]
    }
   ],
   "source": [
    "class Student:\n",
    "    school_name = 'Teddy Rose'\n",
    "    def __init__(self, name, age):\n",
    "        self.name = name\n",
    "        self.age = age\n",
    "    \n",
    "    def show(self):\n",
    "        # access instance variables and class variables\n",
    "        print('Student:', self.name, self.age, Student.school_name)\n",
    "        \n",
    "    def change_age(self, new_age):\n",
    "        # modify instance variable\n",
    "        self.age = new_age\n",
    "        \n",
    "    @classmethod\n",
    "    def modify_school_name(cls, new_name):\n",
    "        # modify class variable\n",
    "        cls.school_name = new_name\n",
    "        \n",
    "#access instance variable\n",
    "s1 = Student('Alex', 12)\n",
    "print('Student:', s1.name, s1.age)\n",
    "\n",
    "#access class variable\n",
    "print('School name:', Student.school_name)"
   ]
  },
  {
   "cell_type": "code",
   "execution_count": 8,
   "id": "7292c5cc-3ad1-4bc4-9bfa-b98d3300d4ba",
   "metadata": {},
   "outputs": [
    {
     "name": "stdout",
     "output_type": "stream",
     "text": [
      "Student: Anna 23\n",
      "School name: Codeup\n"
     ]
    }
   ],
   "source": [
    "#modify instance variable\n",
    "s1 = Student('Anna', 23)\n",
    "print('Student:', s1.name, s1.age)\n",
    "\n",
    "#modify class variable\n",
    "Student.school_name = 'Codeup'\n",
    "print('School name:', Student.school_name)"
   ]
  },
  {
   "cell_type": "code",
   "execution_count": 14,
   "id": "209e04f5-62ca-4d95-bc07-ec09d6e481b1",
   "metadata": {},
   "outputs": [
    {
     "name": "stdout",
     "output_type": "stream",
     "text": [
      "Student: Anna 23 Teddy Rose\n"
     ]
    }
   ],
   "source": [
    "s1 = Student('Anna', 23)\n",
    "s1.show()"
   ]
  },
  {
   "cell_type": "code",
   "execution_count": 15,
   "id": "37810286-ba16-4235-a82d-7b7ee5c386fd",
   "metadata": {},
   "outputs": [],
   "source": [
    "#call instance methods\n",
    "s1.change_age(24)"
   ]
  },
  {
   "cell_type": "code",
   "execution_count": 16,
   "id": "229f3a65-9704-4f0a-83c1-3c2569f67247",
   "metadata": {},
   "outputs": [
    {
     "name": "stdout",
     "output_type": "stream",
     "text": [
      "Student: Anna 24 Teddy Rose\n"
     ]
    }
   ],
   "source": [
    "s1.show()"
   ]
  },
  {
   "cell_type": "code",
   "execution_count": 17,
   "id": "70969f58-5ccd-411b-9f83-e0acb35656b2",
   "metadata": {},
   "outputs": [
    {
     "name": "stdout",
     "output_type": "stream",
     "text": [
      "Student: Anna 24 Codeup\n"
     ]
    }
   ],
   "source": [
    "#call class methods\n",
    "Student.modify_school_name('Codeup')\n",
    "s1.show()"
   ]
  },
  {
   "cell_type": "code",
   "execution_count": 18,
   "id": "9cff7fd7-c366-4125-80db-6ab8b452fef7",
   "metadata": {},
   "outputs": [],
   "source": [
    "class Fruit:\n",
    "    def __init__(self, name, color):\n",
    "        self.name = name\n",
    "        self.color = color\n",
    "\n",
    "    def show(self):\n",
    "        print(\"Fruit is\", self.name, \"and Color is\", self.color)"
   ]
  },
  {
   "cell_type": "code",
   "execution_count": 19,
   "id": "f3e6fcaa-9e93-4be1-b225-c19ae2f970a2",
   "metadata": {},
   "outputs": [],
   "source": [
    "obj = Fruit('Apple','red')"
   ]
  },
  {
   "cell_type": "code",
   "execution_count": 22,
   "id": "8de7d6f7-38c9-488b-a137-c0e082289fa2",
   "metadata": {},
   "outputs": [],
   "source": [
    "obj.name='Strawberry'"
   ]
  },
  {
   "cell_type": "code",
   "execution_count": 23,
   "id": "2eecbbeb-f09f-4237-a536-1c603a31826a",
   "metadata": {},
   "outputs": [
    {
     "name": "stdout",
     "output_type": "stream",
     "text": [
      "Fruit is Strawberry and Color is red\n"
     ]
    }
   ],
   "source": [
    "obj.show()"
   ]
  },
  {
   "cell_type": "code",
   "execution_count": 24,
   "id": "9a9f2115-dc9a-4015-9320-446d0d94615b",
   "metadata": {},
   "outputs": [],
   "source": [
    "#you can delete the object property by saying \n",
    "\n",
    "#del obj.name"
   ]
  },
  {
   "cell_type": "markdown",
   "id": "574b67b5-32ff-4cfd-8146-7da459d057aa",
   "metadata": {},
   "source": [
    "### Instance Variables\n",
    " - Bound to object\n",
    " - declared inside the __init()__ method\n",
    " - not shared by objects. \n",
    " \n",
    "### Class Variables\n",
    " - Bound to the class\n",
    " - Declared inside of class, but outside of method \n",
    " - Shared by all objects of a class\n",
    " \n",
    " \n",
    " ### Example\n",
    "  - Class: Person\n",
    "  - Object: Jessa\n",
    "  - State: name, sex, profession\n",
    "  - Behavior: what they do"
   ]
  },
  {
   "cell_type": "markdown",
   "id": "3bdb231c-115c-4c0b-8586-1c26d64062f8",
   "metadata": {},
   "source": [
    "# OOP Exercise 1: Create a Vehicle class with max_speed and mileage instance attributes"
   ]
  },
  {
   "cell_type": "code",
   "execution_count": 1,
   "id": "0b713030-6927-42e5-a7d3-d2dcd6f9d650",
   "metadata": {},
   "outputs": [
    {
     "name": "stdout",
     "output_type": "stream",
     "text": [
      "200 24\n"
     ]
    }
   ],
   "source": [
    "class Vehicle:\n",
    "    def __init__(self, max_speed, mileage):\n",
    "        self.max_speed = max_speed\n",
    "        self.mileage = mileage\n",
    "modelX = Vehicle(200,24)\n",
    "print(modelX.max_speed, modelX.mileage)"
   ]
  },
  {
   "cell_type": "markdown",
   "id": "322a501e-685c-4e84-8fbf-f10da535d7d0",
   "metadata": {},
   "source": [
    "<br>\n",
    "\n",
    "# OOP Exercise 2: Create a Vehicle class without any variables and methods"
   ]
  },
  {
   "cell_type": "code",
   "execution_count": 2,
   "id": "00b9d3c7-3195-47b6-985d-ebb95ccc3bcb",
   "metadata": {},
   "outputs": [],
   "source": [
    "class Vehicle:\n",
    "    pass"
   ]
  },
  {
   "cell_type": "markdown",
   "id": "e7577f6a-a128-437f-bc64-cd1c4ffa4fd7",
   "metadata": {},
   "source": [
    "<br>\n",
    "\n",
    "# OOP Exercise 3: Create a child class Bus that will inherit all of the variables and methods of the Vehicle class"
   ]
  },
  {
   "cell_type": "code",
   "execution_count": 3,
   "id": "eebba15e-6b3f-44c8-ac40-2c619c493c06",
   "metadata": {},
   "outputs": [],
   "source": [
    "class Vehicle:\n",
    "    def __init__(self, max_speed, mileage):\n",
    "        self.max_speed = max_speed\n",
    "        self.mileage = mileage\n",
    "\n",
    "class Bus(Vehicle):\n",
    "    pass"
   ]
  },
  {
   "cell_type": "code",
   "execution_count": 4,
   "id": "81465a82-8fc0-4b25-bb2b-2caaa3a149c6",
   "metadata": {},
   "outputs": [],
   "source": [
    "school_bus = Bus(40, 7)"
   ]
  },
  {
   "cell_type": "code",
   "execution_count": 8,
   "id": "1104990a-12e4-442b-a055-8abcc0411dc8",
   "metadata": {},
   "outputs": [
    {
     "name": "stdout",
     "output_type": "stream",
     "text": [
      "40 7\n"
     ]
    }
   ],
   "source": [
    "print(school_bus.max_speed, school_bus.mileage)"
   ]
  },
  {
   "cell_type": "markdown",
   "id": "476cef09-615f-4332-967f-71834b731a6c",
   "metadata": {},
   "source": [
    "# Create a Bus class that inherits from the Vehicle class. Give the capacity argument of Bus.seating_capacity() a default value of 50."
   ]
  },
  {
   "cell_type": "code",
   "execution_count": 13,
   "id": "01fd042e-897d-497d-a0da-ad4dbc64de84",
   "metadata": {},
   "outputs": [],
   "source": [
    "class Vehicle:\n",
    "    def __init__(self, name, max_speed, mileage):\n",
    "        self.name = name\n",
    "        self.max_speed = max_speed\n",
    "        self.mileage = mileage\n",
    "\n",
    "    def seating_capacity(self, capacity):\n",
    "        return f\"The seating capacity of a {self.name} is {capacity} passengers\"\n",
    "    \n",
    "class Bus(Vehicle):\n",
    "    def seating_capacity(self, capacity = 50):\n",
    "        return super().seating_capacity(capacity=50)"
   ]
  },
  {
   "cell_type": "code",
   "execution_count": 14,
   "id": "e49c7575-a9bc-40c1-ad2e-232f828ed115",
   "metadata": {},
   "outputs": [],
   "source": [
    "school_bus = Bus('Magic School Bus',45, 7)"
   ]
  },
  {
   "cell_type": "code",
   "execution_count": 16,
   "id": "a87c67a0-4d11-4e51-8fea-6e1b0fafcb3e",
   "metadata": {},
   "outputs": [
    {
     "data": {
      "text/plain": [
       "('Magic School Bus', 45, 7)"
      ]
     },
     "execution_count": 16,
     "metadata": {},
     "output_type": "execute_result"
    }
   ],
   "source": [
    "school_bus.name, school_bus.max_speed, school_bus.mileage"
   ]
  },
  {
   "cell_type": "code",
   "execution_count": 25,
   "id": "baa78dc3-319c-493a-bc0e-64fec9cfb628",
   "metadata": {},
   "outputs": [
    {
     "data": {
      "text/plain": [
       "'The seating capacity of a Magic School Bus is 50 passengers'"
      ]
     },
     "execution_count": 25,
     "metadata": {},
     "output_type": "execute_result"
    }
   ],
   "source": [
    "school_bus.seating_capacity()"
   ]
  },
  {
   "cell_type": "code",
   "execution_count": 24,
   "id": "386780c1-7e7c-43fe-8c6b-b5d00f974c55",
   "metadata": {},
   "outputs": [
    {
     "name": "stdout",
     "output_type": "stream",
     "text": [
      "The seating capacity of a Magic School Bus is 50 passengers\n"
     ]
    }
   ],
   "source": [
    "print(school_bus.seating_capacity())"
   ]
  },
  {
   "cell_type": "markdown",
   "id": "9aff1c98-ca72-48c8-aaed-c356b443883e",
   "metadata": {},
   "source": [
    "# OOP Exercise 5: Define property that should have the same value for every class instance\n",
    "\n",
    "Define a class attribute”color” with a default value white. I.e., Every Vehicle should be white."
   ]
  },
  {
   "cell_type": "code",
   "execution_count": 26,
   "id": "199236a0-5340-4816-90fe-87567a69357a",
   "metadata": {},
   "outputs": [],
   "source": [
    "class Vehicle:\n",
    "    color = 'white'\n",
    "    def __init__(self, name, max_speed, mileage):\n",
    "        self.name = name\n",
    "        self.max_speed = max_speed\n",
    "        self.mileage = mileage\n",
    "\n",
    "class Bus(Vehicle):\n",
    "    pass\n",
    "\n",
    "class Car(Vehicle):\n",
    "    pass"
   ]
  },
  {
   "cell_type": "code",
   "execution_count": 27,
   "id": "1ee5222a-b762-4764-a6f3-aa9dd3358c98",
   "metadata": {},
   "outputs": [],
   "source": [
    "School_bus = Bus(\"School Volvo\", 180, 12)"
   ]
  },
  {
   "cell_type": "code",
   "execution_count": 28,
   "id": "720c7538-2344-4aa0-938d-15de354f7b30",
   "metadata": {},
   "outputs": [
    {
     "data": {
      "text/plain": [
       "'white'"
      ]
     },
     "execution_count": 28,
     "metadata": {},
     "output_type": "execute_result"
    }
   ],
   "source": [
    "School_bus.color"
   ]
  },
  {
   "cell_type": "markdown",
   "id": "1d07b04e-f715-43ed-afe6-7c8afe7ce95c",
   "metadata": {},
   "source": [
    "### Ray's Roman Numeral Function"
   ]
  },
  {
   "cell_type": "code",
   "execution_count": 2,
   "id": "44731b1d-1f90-4126-b2e7-a0e169021ca6",
   "metadata": {},
   "outputs": [],
   "source": [
    "class NumberClass:\n",
    "    '''\n",
    "    Converts a passed integer, between 0 - 999, into a Roman numeral string.\n",
    "    '''\n",
    "    \n",
    "    \n",
    "    def __init__(self, num):\n",
    "        self.num = num\n",
    "        \n",
    "        \n",
    "    def _convert_ones_place(self):\n",
    "        if self.num % 10 <= 3:\n",
    "            ones = 'I' * (self.num % 10)\n",
    "        elif self.num % 10 == 4:\n",
    "            ones = 'IV'\n",
    "        elif self.num % 10 < 9:\n",
    "            ones = 'V' + 'I' * ((self.num % 10) - 5)\n",
    "        else:\n",
    "            ones = 'IX'\n",
    "            \n",
    "        return ones\n",
    "    \n",
    "    \n",
    "    def _convert_tens_place(self):\n",
    "        if int(self.num % 100 / 10) <= 3:\n",
    "            tens = 'X' * int(self.num % 100 / 10)\n",
    "        elif int(self.num % 100 / 10) == 4:\n",
    "            tens = 'XL'\n",
    "        elif int(self.num % 100 / 10) < 9:\n",
    "            tens = 'L' + 'X' * (int(self.num % 100 / 10) - 5)\n",
    "        else:\n",
    "            tens = 'XC'\n",
    "        \n",
    "        return tens\n",
    "    \n",
    "    def _convert_hundreds_place(self):\n",
    "        if int(self.num % 1000 / 100) <= 3:\n",
    "            hundreds = 'C' * int(self.num % 1000 / 100)\n",
    "        elif int(self.num % 1000 / 100) == 4:\n",
    "            hundreds = 'CD'\n",
    "        elif int(self.num % 1000 / 100) < 9:\n",
    "            hundreds = 'D' + 'C' * (int(self.num % 1000 / 100) - 5)\n",
    "        else:\n",
    "            hundreds = 'CM'\n",
    "        \n",
    "        return hundreds\n",
    "    \n",
    "    \n",
    "    def to_numeral(self):\n",
    "        ones = self._convert_ones_place()\n",
    "        tens = self._convert_tens_place()\n",
    "        hundreds = self._convert_hundreds_place()\n",
    "        \n",
    "        return hundreds + tens + ones"
   ]
  },
  {
   "cell_type": "code",
   "execution_count": 54,
   "id": "e41718ed-376c-4efb-a6cf-49635700456e",
   "metadata": {},
   "outputs": [],
   "source": [
    "my_number = NumberClass(999)"
   ]
  },
  {
   "cell_type": "code",
   "execution_count": 55,
   "id": "ac94782f-7cd7-401d-b2da-dbc2fe71c745",
   "metadata": {},
   "outputs": [
    {
     "data": {
      "text/plain": [
       "999"
      ]
     },
     "execution_count": 55,
     "metadata": {},
     "output_type": "execute_result"
    }
   ],
   "source": [
    "my_number.num"
   ]
  },
  {
   "cell_type": "code",
   "execution_count": 56,
   "id": "8dc1cb2a-8c77-4c7f-bc8b-71cd88bdcd8e",
   "metadata": {},
   "outputs": [
    {
     "data": {
      "text/plain": [
       "'CMXCIX'"
      ]
     },
     "execution_count": 56,
     "metadata": {},
     "output_type": "execute_result"
    }
   ],
   "source": [
    "my_number.to_numeral()"
   ]
  },
  {
   "cell_type": "code",
   "execution_count": null,
   "id": "8b899fd0-ad39-407e-8ce2-ed7e3a417a9e",
   "metadata": {},
   "outputs": [],
   "source": [
    "#wow so cool"
   ]
  },
  {
   "cell_type": "code",
   "execution_count": 58,
   "id": "28625087-cb19-4f86-a386-95ec13dbe646",
   "metadata": {},
   "outputs": [],
   "source": [
    "class NumberClass:\n",
    "    \n",
    "    \n",
    "    def __init__(self, num):\n",
    "        self.num = num\n",
    "\n",
    "        \n",
    "    #################### Integer -> Roman Numeral ####################\n",
    "        \n",
    "        \n",
    "    def _convert_ones_to_numeral(self):\n",
    "        if self.num % 10 <= 3:\n",
    "            ones = 'I' * (self.num % 10)\n",
    "        elif self.num % 10 == 4:\n",
    "            ones = 'IV'\n",
    "        elif self.num % 10 < 9:\n",
    "            ones = 'V' + 'I' * ((self.num % 10) - 5)\n",
    "        else:\n",
    "            ones = 'IX'\n",
    "            \n",
    "        return ones\n",
    "    \n",
    "    \n",
    "    def _convert_tens_to_numeral(self):\n",
    "        if int(self.num % 100 / 10) <= 3:\n",
    "            tens = 'X' * int(self.num % 100 / 10)\n",
    "        elif int(self.num % 100 / 10) == 4:\n",
    "            tens = 'XL'\n",
    "        elif int(self.num % 100 / 10) < 9:\n",
    "            tens = 'L' + 'X' * (int(self.num % 100 / 10) - 5)\n",
    "        else:\n",
    "            tens = 'XC'\n",
    "        \n",
    "        return tens\n",
    "\n",
    "    \n",
    "    def _convert_hundreds_to_numeral(self):\n",
    "        if int(self.num % 1000 / 100) <= 3:\n",
    "            hundreds = 'C' * int(self.num % 1000 / 100)\n",
    "        elif int(self.num % 1000 / 100) == 4:\n",
    "            hundreds = 'CD'\n",
    "        elif int(self.num % 1000 / 100) < 9:\n",
    "            hundreds = 'D' + 'C' * (int(self.num % 1000 / 100) - 5)\n",
    "        else:\n",
    "            hundreds = 'CM'\n",
    "        \n",
    "        return hundreds\n",
    "    \n",
    "    \n",
    "    def to_numeral(self):\n",
    "        '''\n",
    "        Converts a passed integer, between 0 - 999, into a Roman numeral string.\n",
    "        '''\n",
    "        try:\n",
    "            ones = self._convert_ones_to_numeral()\n",
    "            tens = self._convert_tens_to_numeral()\n",
    "            hundreds = self._convert_hundreds_to_numeral()\n",
    "        except:\n",
    "            raise TypeError('Please ensure value is integer type')\n",
    "        self.num = hundreds + tens + ones\n",
    "        \n",
    "        return self.num\n",
    "\n",
    "    \n",
    "    #################### Roman Numeral -> Integer ####################\n",
    "\n",
    "    \n",
    "    def _convert_ones_to_integer(self):\n",
    "        if 'IX' in self.num:\n",
    "            ones = 9\n",
    "        elif 'VI' in self.num:\n",
    "            ones = 5 + len([i for i in self.num if i == 'I'])\n",
    "        elif 'IV' in self.num:\n",
    "            ones = 5 - len([i for i in self.num if i == 'I'])\n",
    "        elif 'V' in self.num:\n",
    "            ones = 5\n",
    "        else:\n",
    "            ones = len([i for i in self.num if i == 'I'])\n",
    "        \n",
    "        return ones\n",
    "\n",
    "    \n",
    "    def _convert_tens_to_integer(self):\n",
    "        if 'XC' in self.num:\n",
    "            tens = 90\n",
    "        elif 'X' in self.num and 'L' not in self.num:\n",
    "            tens = len([i for i in self.num if i == 'X']) * 10\n",
    "        elif 'LX' in self.num:\n",
    "            tens = 50 + (len([i for i in self.num if i == 'X']) * 10)\n",
    "        elif 'XL' in self.num:\n",
    "            tens = 50 - (len([i for i in self.num if i == 'X']) * 10)\n",
    "        elif 'L' in self.num:\n",
    "            tens = 50\n",
    "        else:\n",
    "            tens = 0\n",
    "        \n",
    "        return tens\n",
    "\n",
    "    def _convert_hundreds_to_integer(self):\n",
    "        if 'CM' in self.num:\n",
    "            hundreds = 900\n",
    "        elif 'C' in self.num and 'D' not in self.num:\n",
    "            hundreds = len([i for i in self.num if i == 'C']) * 100\n",
    "        elif 'DC' in self.num:\n",
    "            hundreds = 500 + len([i for i in self.num if i == 'C']) * 100\n",
    "        elif 'CD' in self.num:\n",
    "            hundreds = 500 - len([i for i in self.num if i == 'C']) * 100\n",
    "        elif 'D' in self.num:\n",
    "            hundreds = 500\n",
    "        else:\n",
    "            hundreds = 0\n",
    "        \n",
    "        return hundreds\n",
    "    \n",
    "    \n",
    "    def to_integer(self):\n",
    "        '''\n",
    "        Converts a passed Roman numeral string, corresponding to numbers between 0 - 999, into an integer.\n",
    "        '''\n",
    "        try:\n",
    "            ones = self._convert_ones_to_integer()\n",
    "            tens = self._convert_tens_to_integer()\n",
    "            hundreds = self._convert_hundreds_to_integer()\n",
    "        except:\n",
    "            raise TypeError('Please ensure value is \"string\" type')\n",
    "        self.num = ones + tens + hundreds\n",
    "        \n",
    "        return self.num"
   ]
  },
  {
   "cell_type": "code",
   "execution_count": 68,
   "id": "ff9b0e6d-cf1c-4492-bbbf-22f72c4d8094",
   "metadata": {},
   "outputs": [],
   "source": [
    "my_number = NumberClass(999)"
   ]
  },
  {
   "cell_type": "code",
   "execution_count": 69,
   "id": "895733c9-bf18-456c-b198-590aa30d2362",
   "metadata": {},
   "outputs": [
    {
     "data": {
      "text/plain": [
       "'CMXCIX'"
      ]
     },
     "execution_count": 69,
     "metadata": {},
     "output_type": "execute_result"
    }
   ],
   "source": [
    "my_number.to_numeral()"
   ]
  },
  {
   "cell_type": "code",
   "execution_count": 70,
   "id": "d5c7f481-da7d-40ed-ab30-c19ef12230fb",
   "metadata": {},
   "outputs": [],
   "source": [
    "my_number = NumberClass('CMXCIX')"
   ]
  },
  {
   "cell_type": "code",
   "execution_count": 71,
   "id": "3ac6e6f2-0733-4f87-80f2-054beeeb8f40",
   "metadata": {},
   "outputs": [
    {
     "data": {
      "text/plain": [
       "999"
      ]
     },
     "execution_count": 71,
     "metadata": {},
     "output_type": "execute_result"
    }
   ],
   "source": [
    "my_number.to_integer()"
   ]
  },
  {
   "cell_type": "code",
   "execution_count": null,
   "id": "75723f63-aba7-4be0-ae0c-4917ca33bb79",
   "metadata": {},
   "outputs": [],
   "source": []
  }
 ],
 "metadata": {
  "kernelspec": {
   "display_name": "Python 3",
   "language": "python",
   "name": "python3"
  },
  "language_info": {
   "codemirror_mode": {
    "name": "ipython",
    "version": 3
   },
   "file_extension": ".py",
   "mimetype": "text/x-python",
   "name": "python",
   "nbconvert_exporter": "python",
   "pygments_lexer": "ipython3",
   "version": "3.8.5"
  }
 },
 "nbformat": 4,
 "nbformat_minor": 5
}
