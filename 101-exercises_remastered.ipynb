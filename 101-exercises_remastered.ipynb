{
 "cells": [
  {
   "cell_type": "markdown",
   "metadata": {},
   "source": [
    "# Welcome to 101 Exercises for Python Fundamentals\n",
    "\n",
    "Solving these exercises will help make you a better programmer. Solve them in order, because each solution builds scaffolding, working code, and knowledge you can use on future problems. Read the directions carefully, and have fun!\n",
    "\n",
    "> \"Learning to program takes a little bit of study and a *lot* of practice\" - Luis Montealegre"
   ]
  },
  {
   "cell_type": "markdown",
   "metadata": {},
   "source": [
    "## Getting Started\n",
    "1. Go to https://colab.research.google.com/github/ryanorsinger/101-exercises/blob/main/101-exercises.ipynb\n",
    "2. To save your work to your Google Drive, go to File then \"Save Copy in Drive\".\n",
    "3. Your own work will now appear in your Google Drive account!\n",
    "\n",
    "If you need a fresh, blank copy of this document, go to https://colab.research.google.com/github/ryanorsinger/101-exercises/blob/main/101-exercises.ipynb and save a fresh copy in your Google Drive."
   ]
  },
  {
   "cell_type": "markdown",
   "metadata": {},
   "source": [
    "## Orientation\n",
    "- This code notebook is composed of cells. Each cell is either text or Python code.\n",
    "- To run a cell of code, click the \"play button\" icon to the left of the cell or click on the cell and press \"Shift+Enter\" on your keyboard. This will execute the Python code contained in the cell. Executing a cell that defines a variable is important before executing or authoring a cell that depends on that previously created variable assignment.\n",
    "- Each *assert* line is both an example and a test that tests for the presence and functionality of the instructed exercise. \n",
    "\n",
    "\n",
    "## Outline\n",
    "- Each cell starts with a problem statement that describes the exercise to complete.\n",
    "- Underneath each problem statement, learners will need to write code to produce an answer.\n",
    "- The **assert** lines test to see that your code solves the problem appropriately.\n",
    "- Do not alter or delete the assertion tests, since those are providing automated testing.\n",
    "- Many exercises will rely on previous solutions to be correctly completed\n",
    "- The `print(\"Exercise is complete\")` line will only run if your solution passes the assertion test(s)\n",
    "- Be sure to create programmatic solutions that will work for all inputs:\n",
    "- For example, calling the `is_even(2)` returns `True`, but your function should work for all even numbers, both positive and negative.\n",
    "\n",
    "\n",
    "## Guidance\n",
    "- Get Python to do the work for you. For example, if the exercise instructs you to reverse a list of numbers, your job is to find the \n",
    "- Save often by clicking the blue \"Save\" button.\n",
    "- If you need to clear the output or reset the notebook, go to \"Run\" then \"Restart Session\" to clear up any error messages.\n",
    "- Do not move or alter the lines of code that contain the `assert` statements. Those are what run your solution and test its actual output vs. expected outputs.\n",
    "- Seek to understand the problem before trying to solve it. Can you explain the problem to someone else in English? Can you explain the solution in English?\n",
    "- Slow down and read any error messages you encounter. Error messages provide insight into how to resolve the error. When in doubt, put your exact error into a search engine and look for results that reference an identical or similar problem.\n",
    "\n",
    "## Get Python To Do The Work For You\n",
    "One of the main jobs of a programming language is to help people solve problems programatically, so we don't have to do so much by hand. For example, it's easy for a person to manually reverse the list `[1, 2, 3]`, but imagine reversing a list of a million things or sorting a list of even a hundred things. When we write programmatic solutions in code, we are providing instructions to the computer to do a task. Computers follow the letter of the code, not the intent, and do exactly what they are told to do. In this way, Python can reverse a list of 3 numbers or 100 numbers or ten million numbers with the same instructions. Repetition is a key idea behind programming languages.\n",
    "\n",
    "This means that your task with these exercises is to determine a sequence of steps that solve the problem and then find the Python code that will run those instructions. If you're sorting or reversing things by hand, you're not doing it right!\n",
    "\n",
    "## How To Discover How To Do Something in Python\n",
    "1. The first step is to make sure you know what the problem is asking.\n",
    "2. The second step is to determine, in English (or your first spoken language), what steps you need to take.\n",
    "3. Use a search engine to look for code examples to identical or similar problems.\n",
    "\n",
    "One of the best ways to discover how to do things in Python is to use a search engine. Go to your favorite search engine and search for \"how to reverse a list in Python\" or \"how to sort a list in Python\". That's how both learners and professionals find answers and examples all the time. Search for what you want and add \"in Python\" and you'll get lots of code examples. Searching for \"How to sum a list of numbers in Python\" is a very effective way to discover exactly how to do that task."
   ]
  },
  {
   "cell_type": "markdown",
   "metadata": {},
   "source": [
    "### Learning to Program and Code\n",
    "- You can make a new blank cell for Python code at any time in this document.\n",
    "- If you want more freedom to explore learning Python in a blank notebook, go here https://colab.research.google.com/#create=true and make yourself a blank, new notebook.\n",
    "- Programming is an intellectual activity of designing a solution. \"Coding\" means turning your programmatic solution into code w/ all the right syntax and parts of the programming language.\n",
    "- Expect to make mistakes and adopt the attitude that **the error message provides the information you need to proceed**. You will put lots of error messages into search engines to learn this craft!\n",
    "- Because computers have zero ability to read in between the lines or \"catch the drift\" or know what you mean, code only does what it is told to do.\n",
    "- Code doesn't do what you *want* it to do, code does what you've told it to do.\n",
    "- Before writing any code, figure out how you would solve the problem in spoken language to describe the sequence of steps in the solution.\n",
    "- Think about your solution in English (or your natural language). It's **critical** to solve the problem in your natural language before trying to get a programming language to do the work."
   ]
  },
  {
   "cell_type": "markdown",
   "metadata": {},
   "source": [
    "## Troubleshooting\n",
    "- If this entire document shows \"Name Error\" for many cells, it means you should read the \"Getting Started\" instructions above to make your own copy.\n",
    "- Be sure to commit your work to make save points, as you go.\n",
    "- If you load this page and you see your code but not the results of the code, be sure to run each cell (shift + Enter makes this quick)\n",
    "- \"Name Error\" means that you need to assign a variable or define the function as instructed.\n",
    "- \"Assertion Error\" means that your provided solution does not match the correct answer.\n",
    "- \"Type Error\" means that your data type provided is not accurate\n",
    "- If your kernel freezes, click on \"Run\" then select \"Restart Session\"\n",
    "- If you require additional troubleshooting assistance, click on \"Help\" and then \"Docs\" to access documentation for this platform.\n",
    "- If you have discoverd a bug or typo, please triple check your spelling then create a new issue at [https://github.com/ryanorsinger/101-exercises/issues](https://github.com/ryanorsinger/101-exercises/issues) to notify the author.\n",
    "\n",
    "## What to do when you don't know what to do next\n",
    "- When the exercise asks you to reverse an list, the way forward is to search for \"How to reverse a list in Python\" in your favorite search engine.\n",
    "- When the exercise asks you to check if a number is even, the way forward is to search for \"how to check if a number is even in Python\".\n",
    "- When the exercise has you calculate the area of a circle, the way forward is to search for \"how to calculate the area of a circle in Python\" or \"How to get pi in Python\".\n",
    "\n",
    "> The pattern for finding what you need in JavaScript is to rely very heavily on search engine searches so you can find examples of working code and discussions about code that speak to your questions."
   ]
  },
  {
   "cell_type": "code",
   "execution_count": 39,
   "metadata": {
    "_cell_guid": "79c7e3d0-c299-4dcb-8224-4455121ee9b0",
    "_uuid": "d629ff2d2480ee46fbb7e2d37f6b5fab8052498a",
    "execution": {
     "iopub.execute_input": "2021-09-04T21:10:34.809033Z",
     "iopub.status.busy": "2021-09-04T21:10:34.808664Z",
     "iopub.status.idle": "2021-09-04T21:10:34.814621Z",
     "shell.execute_reply": "2021-09-04T21:10:34.813431Z",
     "shell.execute_reply.started": "2021-09-04T21:10:34.808972Z"
    }
   },
   "outputs": [
    {
     "name": "stdout",
     "output_type": "stream",
     "text": [
      "Exercise 0 is correct\n"
     ]
    }
   ],
   "source": [
    "# Example problem:\n",
    "# Uncomment the line below and run this cell.\n",
    "# The hashtag \"#\" character in a line of Python code is the comment character. \n",
    "doing_python_right_now = True\n",
    "\n",
    "# The lines below will test your answer. If you see an error, then it means that your answer is incorrect or incomplete.\n",
    "assert doing_python_right_now == True, \"If you see a NameError, it means that the variable is not created and assigned a value. An 'Assertion Error' means that the value of the variable is incorrect.\" \n",
    "print(\"Exercise 0 is correct\") # This line will print if your solution passes the assertion above."
   ]
  },
  {
   "cell_type": "code",
   "execution_count": 40,
   "metadata": {
    "execution": {
     "iopub.execute_input": "2021-09-04T21:10:34.841204Z",
     "iopub.status.busy": "2021-09-04T21:10:34.840701Z",
     "iopub.status.idle": "2021-09-04T21:10:34.845744Z",
     "shell.execute_reply": "2021-09-04T21:10:34.845080Z",
     "shell.execute_reply.started": "2021-09-04T21:10:34.841159Z"
    }
   },
   "outputs": [
    {
     "name": "stdout",
     "output_type": "stream",
     "text": [
      "Exercise 1 is correct.\n"
     ]
    }
   ],
   "source": [
    "# Exercise 1\n",
    "# On the line below, create a variable named on_mars_right_now and assign it the boolean value of False\n",
    "\n",
    "on_mars_right_now = False\n",
    "assert on_mars_right_now == False, \"If you see a Name Error, be sure to create the variable and assign it a value.\"\n",
    "print(\"Exercise 1 is correct.\")"
   ]
  },
  {
   "cell_type": "code",
   "execution_count": 41,
   "metadata": {
    "execution": {
     "iopub.execute_input": "2021-09-04T21:10:34.873003Z",
     "iopub.status.busy": "2021-09-04T21:10:34.872451Z",
     "iopub.status.idle": "2021-09-04T21:10:34.878427Z",
     "shell.execute_reply": "2021-09-04T21:10:34.877448Z",
     "shell.execute_reply.started": "2021-09-04T21:10:34.872954Z"
    }
   },
   "outputs": [
    {
     "name": "stdout",
     "output_type": "stream",
     "text": [
      "Exercise 2 is correct.\n"
     ]
    }
   ],
   "source": [
    "# Exercise 2\n",
    "# Create a variable named fruits and assign it a list of fruits containing the following fruit names as strings: \n",
    "# mango, banana, guava, kiwi, and strawberry.\n",
    "fruits = ['mango', 'banana','guava','kiwi','strawberry']\n",
    "\n",
    "assert fruits == [\"mango\", \"banana\", \"guava\", \"kiwi\", \"strawberry\"], \"If you see an Assert Error, ensure the variable contains all the strings in the provided order\"\n",
    "print(\"Exercise 2 is correct.\")"
   ]
  },
  {
   "cell_type": "code",
   "execution_count": 42,
   "metadata": {
    "execution": {
     "iopub.execute_input": "2021-09-04T21:10:34.905328Z",
     "iopub.status.busy": "2021-09-04T21:10:34.904866Z",
     "iopub.status.idle": "2021-09-04T21:10:34.911557Z",
     "shell.execute_reply": "2021-09-04T21:10:34.910320Z",
     "shell.execute_reply.started": "2021-09-04T21:10:34.905283Z"
    }
   },
   "outputs": [
    {
     "name": "stdout",
     "output_type": "stream",
     "text": [
      "Exercise 3 is correct.\n"
     ]
    }
   ],
   "source": [
    "# Exercise 3\n",
    "# Create a variable named vegetables and assign it a list of fruits containing the following vegetable names as strings: \n",
    "# eggplant, broccoli, carrot, cauliflower, and zucchini\n",
    "vegetables = [\"eggplant\", \"broccoli\", \"carrot\", \"cauliflower\", \"zucchini\"]\n",
    "assert vegetables == [\"eggplant\", \"broccoli\", \"carrot\", \"cauliflower\", \"zucchini\"], \"Ensure the variable contains all the strings in the provided order\"\n",
    "print(\"Exercise 3 is correct.\")"
   ]
  },
  {
   "cell_type": "code",
   "execution_count": 43,
   "metadata": {
    "execution": {
     "iopub.execute_input": "2021-09-04T21:10:34.914594Z",
     "iopub.status.busy": "2021-09-04T21:10:34.914094Z",
     "iopub.status.idle": "2021-09-04T21:10:34.924186Z",
     "shell.execute_reply": "2021-09-04T21:10:34.923392Z",
     "shell.execute_reply.started": "2021-09-04T21:10:34.914519Z"
    }
   },
   "outputs": [
    {
     "name": "stdout",
     "output_type": "stream",
     "text": [
      "Exercise 4 is correct.\n"
     ]
    }
   ],
   "source": [
    "# Exercise 4\n",
    "# Create a variable named numbers and assign it a list of numbers, 1, 2, 3, 4, 5, 6, 7, 8, 9, 10\n",
    "numbers = [1,2,3,4,5,6,7,8,9,10]\n",
    "assert numbers == [1, 2, 3, 4, 5, 6, 7, 8, 9, 10], \"Ensure the variable contains the numbers 1-10 in order.\"\n",
    "print(\"Exercise 4 is correct.\")"
   ]
  },
  {
   "cell_type": "markdown",
   "metadata": {},
   "source": [
    "## List Operations\n",
    "**Hint** Recommend finding and using built-in Python functionality whenever possible."
   ]
  },
  {
   "cell_type": "code",
   "execution_count": 44,
   "metadata": {
    "execution": {
     "iopub.execute_input": "2021-09-04T21:10:34.925825Z",
     "iopub.status.busy": "2021-09-04T21:10:34.925350Z",
     "iopub.status.idle": "2021-09-04T21:10:34.938908Z",
     "shell.execute_reply": "2021-09-04T21:10:34.937849Z",
     "shell.execute_reply.started": "2021-09-04T21:10:34.925771Z"
    }
   },
   "outputs": [
    {
     "name": "stdout",
     "output_type": "stream",
     "text": [
      "Exercise 5 is correct\n"
     ]
    }
   ],
   "source": [
    "# Exercise 5\n",
    "# Given the following assigment of the list of fruits, add \"tomato\" to the end of the list. \n",
    "fruits = [\"mango\", \"banana\", \"guava\", \"kiwi\", \"strawberry\"]\n",
    "fruits.append('tomato')\n",
    "assert fruits == [\"mango\", \"banana\", \"guava\", \"kiwi\", \"strawberry\", \"tomato\"], \"Ensure the variable contains all the strings in the right order\"\n",
    "print(\"Exercise 5 is correct\")"
   ]
  },
  {
   "cell_type": "code",
   "execution_count": 45,
   "metadata": {
    "execution": {
     "iopub.execute_input": "2021-09-04T21:10:34.941247Z",
     "iopub.status.busy": "2021-09-04T21:10:34.940950Z",
     "iopub.status.idle": "2021-09-04T21:10:34.951167Z",
     "shell.execute_reply": "2021-09-04T21:10:34.949847Z",
     "shell.execute_reply.started": "2021-09-04T21:10:34.941192Z"
    }
   },
   "outputs": [
    {
     "name": "stdout",
     "output_type": "stream",
     "text": [
      "Exercise 6 is correct\n"
     ]
    }
   ],
   "source": [
    "# Exercise 6\n",
    "# Given the following assignment of the vegetables list, add \"tomato\" to the end of the list.\n",
    "vegetables = [\"eggplant\", \"broccoli\", \"carrot\", \"cauliflower\", \"zucchini\"]\n",
    "vegetables.append('tomato')\n",
    "assert vegetables == [\"eggplant\", \"broccoli\", \"carrot\", \"cauliflower\", \"zucchini\", \"tomato\"], \"Ensure the variable contains all the strings in the provided order\"\n",
    "print(\"Exercise 6 is correct\")"
   ]
  },
  {
   "cell_type": "code",
   "execution_count": 46,
   "metadata": {
    "execution": {
     "iopub.execute_input": "2021-09-04T21:10:34.953562Z",
     "iopub.status.busy": "2021-09-04T21:10:34.953230Z",
     "iopub.status.idle": "2021-09-04T21:10:34.968822Z",
     "shell.execute_reply": "2021-09-04T21:10:34.967859Z",
     "shell.execute_reply.started": "2021-09-04T21:10:34.953506Z"
    }
   },
   "outputs": [
    {
     "name": "stdout",
     "output_type": "stream",
     "text": [
      "Exercise 7 is correct.\n"
     ]
    }
   ],
   "source": [
    "# Exercise 7\n",
    "# Given the list of numbers defined below, reverse the list of numbers that you created above. \n",
    "numbers = [1, 2, 3, 4, 5, 6, 7, 8, 9, 10]\n",
    "numbers.reverse()\n",
    "\n",
    "assert numbers == [10, 9, 8, 7, 6, 5, 4, 3, 2, 1], \"Assert Error means that the answer is incorrect.\" \n",
    "print(\"Exercise 7 is correct.\")"
   ]
  },
  {
   "cell_type": "code",
   "execution_count": 47,
   "metadata": {
    "execution": {
     "iopub.execute_input": "2021-09-04T21:10:34.970074Z",
     "iopub.status.busy": "2021-09-04T21:10:34.969842Z",
     "iopub.status.idle": "2021-09-04T21:10:34.982136Z",
     "shell.execute_reply": "2021-09-04T21:10:34.981051Z",
     "shell.execute_reply.started": "2021-09-04T21:10:34.970040Z"
    }
   },
   "outputs": [
    {
     "name": "stdout",
     "output_type": "stream",
     "text": [
      "Exercise 8 is correct.\n"
     ]
    }
   ],
   "source": [
    "# Exercise 8\n",
    "# Sort the vegetables in alphabetical order\n",
    "vegetables.sort()\n",
    "assert vegetables == ['broccoli', 'carrot', 'cauliflower', 'eggplant', 'tomato', 'zucchini']\n",
    "print(\"Exercise 8 is correct.\")"
   ]
  },
  {
   "cell_type": "code",
   "execution_count": 48,
   "metadata": {
    "execution": {
     "iopub.execute_input": "2021-09-04T21:10:34.984505Z",
     "iopub.status.busy": "2021-09-04T21:10:34.984233Z",
     "iopub.status.idle": "2021-09-04T21:10:34.993994Z",
     "shell.execute_reply": "2021-09-04T21:10:34.992925Z",
     "shell.execute_reply.started": "2021-09-04T21:10:34.984451Z"
    }
   },
   "outputs": [
    {
     "name": "stdout",
     "output_type": "stream",
     "text": [
      "Exercise 9 is correct.\n"
     ]
    }
   ],
   "source": [
    "# Exercise 9\n",
    "# Write the code necessary to sort the fruits in reverse alphabetical order\n",
    "fruits.sort(reverse=True)\n",
    "assert fruits == ['tomato', 'strawberry', 'mango', 'kiwi', 'guava', 'banana']\n",
    "print(\"Exercise 9 is correct.\")"
   ]
  },
  {
   "cell_type": "code",
   "execution_count": 49,
   "metadata": {
    "execution": {
     "iopub.execute_input": "2021-09-04T21:10:34.996910Z",
     "iopub.status.busy": "2021-09-04T21:10:34.996461Z",
     "iopub.status.idle": "2021-09-04T21:10:35.008366Z",
     "shell.execute_reply": "2021-09-04T21:10:35.007514Z",
     "shell.execute_reply.started": "2021-09-04T21:10:34.996833Z"
    }
   },
   "outputs": [
    {
     "name": "stdout",
     "output_type": "stream",
     "text": [
      "Exercise 10 is correct\n"
     ]
    }
   ],
   "source": [
    "# Exercise 10\n",
    "# Write the code necessary to produce a single list that holds all fruits then all vegetables in the order as they were sorted above.\n",
    "fruits_and_veggies = fruits + vegetables\n",
    "assert fruits_and_veggies == ['tomato', 'strawberry', 'mango', 'kiwi', 'guava', 'banana', 'broccoli', 'carrot', 'cauliflower', 'eggplant', 'tomato', 'zucchini']\n",
    "print(\"Exercise 10 is correct\")"
   ]
  },
  {
   "cell_type": "markdown",
   "metadata": {},
   "source": [
    "## Basic Functions\n",
    "**Hint** Be sure to `return` values from your function definitions. The assert statements will call your function(s) for you."
   ]
  },
  {
   "cell_type": "code",
   "execution_count": 50,
   "metadata": {
    "execution": {
     "iopub.execute_input": "2021-09-04T21:10:35.010423Z",
     "iopub.status.busy": "2021-09-04T21:10:35.010173Z",
     "iopub.status.idle": "2021-09-04T21:10:35.020033Z",
     "shell.execute_reply": "2021-09-04T21:10:35.018937Z",
     "shell.execute_reply.started": "2021-09-04T21:10:35.010388Z"
    }
   },
   "outputs": [
    {
     "name": "stdout",
     "output_type": "stream",
     "text": [
      "We now have some random numbers available for future exercises.\n",
      "The random positive even number is 14\n",
      "The random positive odd nubmer is 7\n",
      "The random negative even number -78\n",
      "The random negative odd number -33\n"
     ]
    }
   ],
   "source": [
    "# Run this cell in order to generate some numbers to use in our functions after this.\n",
    "import random\n",
    "    \n",
    "positive_even_number = random.randrange(2, 101, 2)\n",
    "negative_even_number = random.randrange(-100, -1, 2)\n",
    "\n",
    "positive_odd_number = random.randrange(1, 100, 2)\n",
    "negative_odd_number = random.randrange(-101, 0, 2)\n",
    "print(\"We now have some random numbers available for future exercises.\")\n",
    "print(\"The random positive even number is\", positive_even_number)\n",
    "print(\"The random positive odd nubmer is\", positive_odd_number)\n",
    "print(\"The random negative even number\", negative_even_number)\n",
    "print(\"The random negative odd number\", negative_odd_number)\n"
   ]
  },
  {
   "cell_type": "code",
   "execution_count": 51,
   "metadata": {
    "execution": {
     "iopub.execute_input": "2021-09-04T21:10:35.021969Z",
     "iopub.status.busy": "2021-09-04T21:10:35.021558Z",
     "iopub.status.idle": "2021-09-04T21:10:35.038462Z",
     "shell.execute_reply": "2021-09-04T21:10:35.037531Z",
     "shell.execute_reply.started": "2021-09-04T21:10:35.021897Z"
    }
   },
   "outputs": [
    {
     "name": "stdout",
     "output_type": "stream",
     "text": [
      "The example function definition ran appropriately\n"
     ]
    }
   ],
   "source": [
    "# Example function defintion:\n",
    "# Write a say_hello function that adds the string \"Hello, \" to the beginning and \"!\" to the end of any given input.\n",
    "def say_hello(name):\n",
    "    return \"Hello, \" + name + \"!\"\n",
    "\n",
    "assert say_hello(\"Jane\") == \"Hello, Jane!\", \"Double check the inputs and data types\"\n",
    "assert say_hello(\"Pat\") == \"Hello, Pat!\", \"Double check the inputs and data types\"\n",
    "assert say_hello(\"Astrud\") == \"Hello, Astrud!\", \"Double check the inputs and data types\"\n",
    "print(\"The example function definition ran appropriately\")"
   ]
  },
  {
   "cell_type": "code",
   "execution_count": 52,
   "metadata": {
    "execution": {
     "iopub.execute_input": "2021-09-04T21:10:35.039785Z",
     "iopub.status.busy": "2021-09-04T21:10:35.039535Z",
     "iopub.status.idle": "2021-09-04T21:10:35.050090Z",
     "shell.execute_reply": "2021-09-04T21:10:35.049039Z",
     "shell.execute_reply.started": "2021-09-04T21:10:35.039749Z"
    }
   },
   "outputs": [
    {
     "name": "stdout",
     "output_type": "stream",
     "text": [
      "The plus_two assertions executed appropriately... The second function definition example executed appropriately.\n"
     ]
    }
   ],
   "source": [
    "# Another example function definition:\n",
    "# This plus_two function takes in a variable and adds 2 to it.\n",
    "def plus_two(number):\n",
    "    return number + 2\n",
    "\n",
    "assert plus_two(3) == 5\n",
    "assert plus_two(0) == 2\n",
    "assert plus_two(-2) == 0\n",
    "print(\"The plus_two assertions executed appropriately... The second function definition example executed appropriately.\")"
   ]
  },
  {
   "cell_type": "code",
   "execution_count": 53,
   "metadata": {
    "execution": {
     "iopub.execute_input": "2021-09-04T21:10:35.051997Z",
     "iopub.status.busy": "2021-09-04T21:10:35.051611Z",
     "iopub.status.idle": "2021-09-04T21:10:35.061092Z",
     "shell.execute_reply": "2021-09-04T21:10:35.060113Z",
     "shell.execute_reply.started": "2021-09-04T21:10:35.051929Z"
    }
   },
   "outputs": [
    {
     "name": "stdout",
     "output_type": "stream",
     "text": [
      "Exercise 11 is correct.\n"
     ]
    }
   ],
   "source": [
    "# Exercise 11\n",
    "# Write a function definition for a function named add_one that takes in a number and returns that number plus one.\n",
    "def add_one(number):\n",
    "    added_one = number + 1\n",
    "    return added_one\n",
    "    \n",
    "assert add_one(2) == 3, \"Ensure that the function is defined, named properly, and returns the correct value\"\n",
    "assert add_one(0) == 1, \"Zero plus one is one.\"\n",
    "assert add_one(positive_even_number) == positive_even_number + 1, \"Ensure that the function is defined, named properly, and returns the correct value\"\n",
    "assert add_one(negative_odd_number) == negative_odd_number + 1, \"Ensure that the function is defined, named properly, and returns the correct value\"\n",
    "print(\"Exercise 11 is correct.\") "
   ]
  },
  {
   "cell_type": "code",
   "execution_count": 54,
   "metadata": {
    "execution": {
     "iopub.execute_input": "2021-09-04T21:10:35.063863Z",
     "iopub.status.busy": "2021-09-04T21:10:35.063532Z",
     "iopub.status.idle": "2021-09-04T21:10:35.075735Z",
     "shell.execute_reply": "2021-09-04T21:10:35.074968Z",
     "shell.execute_reply.started": "2021-09-04T21:10:35.063806Z"
    }
   },
   "outputs": [
    {
     "name": "stdout",
     "output_type": "stream",
     "text": [
      "Exercise 12 is correct.\n"
     ]
    }
   ],
   "source": [
    "# Exercise 12\n",
    "# Write a function definition named is_positive that takes in a number and returns True or False if that number is positive.\n",
    "\n",
    "def is_positive(x):\n",
    "    if x >0:\n",
    "        return True\n",
    "    else: \n",
    "        return False\n",
    "\n",
    "assert is_positive(positive_odd_number) == True, \"Ensure that the function is defined, named properly, and returns the correct value\"\n",
    "assert is_positive(positive_even_number) == True, \"Ensure that the function is defined, named properly, and returns the correct value\"\n",
    "assert is_positive(negative_odd_number) == False, \"Ensure that the function is defined, named properly, and returns the correct value\"\n",
    "assert is_positive(negative_even_number) == False, \"Ensure that the function is defined, named properly, and returns the correct value\"\n",
    "assert is_positive(0) == False, \"Zero is not a positive number.\"\n",
    "print(\"Exercise 12 is correct.\")"
   ]
  },
  {
   "cell_type": "code",
   "execution_count": 55,
   "metadata": {
    "execution": {
     "iopub.execute_input": "2021-09-04T21:10:35.077914Z",
     "iopub.status.busy": "2021-09-04T21:10:35.077615Z",
     "iopub.status.idle": "2021-09-04T21:10:35.088056Z",
     "shell.execute_reply": "2021-09-04T21:10:35.086941Z",
     "shell.execute_reply.started": "2021-09-04T21:10:35.077867Z"
    }
   },
   "outputs": [
    {
     "name": "stdout",
     "output_type": "stream",
     "text": [
      "Exercise 13 is correct.\n"
     ]
    }
   ],
   "source": [
    "# Exercise 13\n",
    "# Write a function definition named is_negative that takes in a number and returns True or False if that number is negative.\n",
    "def is_negative(x):\n",
    "    if x <0:\n",
    "        return True\n",
    "    else: \n",
    "        return False\n",
    "assert is_negative(positive_odd_number) == False, \"Ensure that the function is defined, named properly, and returns the correct value\"\n",
    "assert is_negative(positive_even_number) == False, \"Ensure that the function is defined, named properly, and returns the correct value\"\n",
    "assert is_negative(negative_odd_number) == True, \"Ensure that the function is defined, named properly, and returns the correct value\"\n",
    "assert is_negative(negative_even_number) == True, \"Ensure that the function is defined, named properly, and returns the correct value\"\n",
    "assert is_negative(0) == False, \"Zero is not a negative number.\"\n",
    "print(\"Exercise 13 is correct.\")"
   ]
  },
  {
   "cell_type": "code",
   "execution_count": 56,
   "metadata": {
    "execution": {
     "iopub.execute_input": "2021-09-04T21:10:35.089966Z",
     "iopub.status.busy": "2021-09-04T21:10:35.089610Z",
     "iopub.status.idle": "2021-09-04T21:10:35.102878Z",
     "shell.execute_reply": "2021-09-04T21:10:35.101744Z",
     "shell.execute_reply.started": "2021-09-04T21:10:35.089906Z"
    }
   },
   "outputs": [
    {
     "name": "stdout",
     "output_type": "stream",
     "text": [
      "Exercise 14 is correct.\n"
     ]
    }
   ],
   "source": [
    "# Exercise 14\n",
    "# Write a function definition named is_odd that takes in a number and returns True or False if that number is odd.\n",
    "def is_odd(x):\n",
    "    if x%2==0:\n",
    "        return False\n",
    "    else:\n",
    "        return True\n",
    "assert is_odd(positive_odd_number) == True, \"Ensure that the function is defined, named properly, and returns the correct value\"\n",
    "assert is_odd(positive_even_number) == False, \"Ensure that the function is defined, named properly, and returns the correct value\"\n",
    "assert is_odd(negative_odd_number) == True, \"Ensure that the function is defined, named properly, and returns the correct value\"\n",
    "assert is_odd(negative_even_number) == False, \"Ensure that the function is defined, named properly, and returns the correct value\"\n",
    "print(\"Exercise 14 is correct.\")"
   ]
  },
  {
   "cell_type": "code",
   "execution_count": 57,
   "metadata": {
    "execution": {
     "iopub.execute_input": "2021-09-04T21:10:35.104382Z",
     "iopub.status.busy": "2021-09-04T21:10:35.104133Z",
     "iopub.status.idle": "2021-09-04T21:10:35.115558Z",
     "shell.execute_reply": "2021-09-04T21:10:35.114596Z",
     "shell.execute_reply.started": "2021-09-04T21:10:35.104341Z"
    }
   },
   "outputs": [
    {
     "name": "stdout",
     "output_type": "stream",
     "text": [
      "Exercise 15 is correct.\n"
     ]
    }
   ],
   "source": [
    "# Exercise 15\n",
    "# Write a function definition named is_even that takes in a number and returns True or False if that number is even.\n",
    "def is_even(x):\n",
    "    if x%2!=0:\n",
    "        return False\n",
    "    else:\n",
    "        return True\n",
    "assert is_even(2) == True, \"Ensure that the function is defined, named properly, and returns the correct value\"\n",
    "assert is_even(positive_odd_number) == False, \"Ensure that the function is defined, named properly, and returns the correct value\"\n",
    "assert is_even(positive_even_number) == True, \"Ensure that the function is defined, named properly, and returns the correct value\"\n",
    "assert is_even(negative_odd_number) == False, \"Ensure that the function is defined, named properly, and returns the correct value\"\n",
    "assert is_even(negative_even_number) == True, \"Ensure that the function is defined, named properly, and returns the correct value\"\n",
    "print(\"Exercise 15 is correct.\")"
   ]
  },
  {
   "cell_type": "code",
   "execution_count": 58,
   "metadata": {
    "execution": {
     "iopub.execute_input": "2021-09-04T21:10:35.116915Z",
     "iopub.status.busy": "2021-09-04T21:10:35.116639Z",
     "iopub.status.idle": "2021-09-04T21:10:35.129990Z",
     "shell.execute_reply": "2021-09-04T21:10:35.129012Z",
     "shell.execute_reply.started": "2021-09-04T21:10:35.116879Z"
    }
   },
   "outputs": [
    {
     "name": "stdout",
     "output_type": "stream",
     "text": [
      "Exercise 16 is correct.\n"
     ]
    }
   ],
   "source": [
    "# Exercise 16\n",
    "# Write a function definition named identity that takes in any argument and returns that argument's value. Don't overthink this one!\n",
    "def identity(x):\n",
    "    return x\n",
    "assert identity(fruits) == fruits, \"Ensure that the function is defined, named properly, and returns the correct value\"\n",
    "assert identity(vegetables) == vegetables, \"Ensure that the function is defined, named properly, and returns the correct value\"\n",
    "assert identity(positive_odd_number) == positive_odd_number, \"Ensure that the function is defined, named properly, and returns the correct value\"\n",
    "assert identity(positive_even_number) == positive_even_number, \"Ensure that the function is defined, named properly, and returns the correct value\"\n",
    "assert identity(negative_odd_number) == negative_odd_number, \"Ensure that the function is defined, named properly, and returns the correct value\"\n",
    "assert identity(negative_even_number) == negative_even_number, \"Ensure that the function is defined, named properly, and returns the correct value\"\n",
    "print(\"Exercise 16 is correct.\")"
   ]
  },
  {
   "cell_type": "code",
   "execution_count": 59,
   "metadata": {
    "execution": {
     "iopub.execute_input": "2021-09-04T21:10:35.131617Z",
     "iopub.status.busy": "2021-09-04T21:10:35.131330Z",
     "iopub.status.idle": "2021-09-04T21:10:35.144781Z",
     "shell.execute_reply": "2021-09-04T21:10:35.143860Z",
     "shell.execute_reply.started": "2021-09-04T21:10:35.131567Z"
    }
   },
   "outputs": [
    {
     "name": "stdout",
     "output_type": "stream",
     "text": [
      "Exercise 17 is correct.\n"
     ]
    }
   ],
   "source": [
    "# Exercise 17\n",
    "# Write a function definition named is_positive_odd that takes in a number and returns True or False if the value is both greater than zero and odd\n",
    "def is_positive_odd(x):\n",
    "    if x>0 and x%2!=0:\n",
    "        return True\n",
    "    else:\n",
    "        return False\n",
    "assert is_positive_odd(3) == True, \"Double check your syntax and logic\" \n",
    "assert is_positive_odd(positive_odd_number) == True, \"Double check your syntax and logic\"\n",
    "assert is_positive_odd(positive_even_number) == False, \"Double check your syntax and logic\"\n",
    "assert is_positive_odd(negative_odd_number) == False, \"Double check your syntax and logic\"\n",
    "assert is_positive_odd(negative_even_number) == False, \"Double check your syntax and logic\"\n",
    "print(\"Exercise 17 is correct.\")"
   ]
  },
  {
   "cell_type": "code",
   "execution_count": 60,
   "metadata": {
    "execution": {
     "iopub.execute_input": "2021-09-04T21:10:35.148287Z",
     "iopub.status.busy": "2021-09-04T21:10:35.148029Z",
     "iopub.status.idle": "2021-09-04T21:10:35.164136Z",
     "shell.execute_reply": "2021-09-04T21:10:35.162556Z",
     "shell.execute_reply.started": "2021-09-04T21:10:35.148250Z"
    }
   },
   "outputs": [
    {
     "name": "stdout",
     "output_type": "stream",
     "text": [
      "Exercise 18 is correct.\n"
     ]
    }
   ],
   "source": [
    "# Exercise 18\n",
    "# Write a function definition named is_positive_even that takes in a number and returns True or False if the value is both greater than zero and even\n",
    "def is_positive_even(x):\n",
    "    if x>0 and x%2==0:\n",
    "        return True\n",
    "    else: \n",
    "        return False\n",
    "assert is_positive_even(4) == True, \"Double check your syntax and logic\" \n",
    "assert is_positive_even(positive_odd_number) == False, \"Double check your syntax and logic\"\n",
    "assert is_positive_even(positive_even_number) == True, \"Double check your syntax and logic\"\n",
    "assert is_positive_even(negative_odd_number) == False, \"Double check your syntax and logic\"\n",
    "assert is_positive_even(negative_even_number) == False, \"Double check your syntax and logic\"\n",
    "print(\"Exercise 18 is correct.\")"
   ]
  },
  {
   "cell_type": "code",
   "execution_count": 61,
   "metadata": {
    "execution": {
     "iopub.execute_input": "2021-09-04T21:10:35.167226Z",
     "iopub.status.busy": "2021-09-04T21:10:35.166922Z",
     "iopub.status.idle": "2021-09-04T21:10:35.178206Z",
     "shell.execute_reply": "2021-09-04T21:10:35.177175Z",
     "shell.execute_reply.started": "2021-09-04T21:10:35.167182Z"
    }
   },
   "outputs": [
    {
     "name": "stdout",
     "output_type": "stream",
     "text": [
      "Exercise 19 is correct.\n"
     ]
    }
   ],
   "source": [
    "# Exercise 19\n",
    "# Write a function definition named is_negative_odd that takes in a number and returns True or False if the value is both less than zero and odd.\n",
    "def is_negative_odd(x):\n",
    "    if x <0 and x%2!=0:\n",
    "        return True\n",
    "    else: \n",
    "        return False\n",
    "assert is_negative_odd(-3) == True, \"Double check your syntax and logic\" \n",
    "assert is_negative_odd(positive_odd_number) == False, \"Double check your syntax and logic\"\n",
    "assert is_negative_odd(positive_even_number) == False, \"Double check your syntax and logic\"\n",
    "assert is_negative_odd(negative_odd_number) == True, \"Double check your syntax and logic\"\n",
    "assert is_negative_odd(negative_even_number) == False, \"Double check your syntax and logic\"\n",
    "print(\"Exercise 19 is correct.\")\n"
   ]
  },
  {
   "cell_type": "code",
   "execution_count": 62,
   "metadata": {
    "execution": {
     "iopub.execute_input": "2021-09-04T21:10:35.180348Z",
     "iopub.status.busy": "2021-09-04T21:10:35.179902Z",
     "iopub.status.idle": "2021-09-04T21:10:35.193709Z",
     "shell.execute_reply": "2021-09-04T21:10:35.192539Z",
     "shell.execute_reply.started": "2021-09-04T21:10:35.180290Z"
    }
   },
   "outputs": [
    {
     "name": "stdout",
     "output_type": "stream",
     "text": [
      "Exercise 20 is correct.\n"
     ]
    }
   ],
   "source": [
    "# Exercise 20\n",
    "# Write a function definition named is_negative_even that takes in a number and returns True or False if the value is both less than zero and even.\n",
    "def is_negative_even(x):\n",
    "    if x <0 and x%2==0:\n",
    "        return True\n",
    "    else: \n",
    "        return False\n",
    "assert is_negative_even(-4) == True, \"Double check your syntax and logic\" \n",
    "assert is_negative_even(positive_odd_number) == False, \"Double check your syntax and logic\"\n",
    "assert is_negative_even(positive_even_number) == False, \"Double check your syntax and logic\"\n",
    "assert is_negative_even(negative_odd_number) == False, \"Double check your syntax and logic\"\n",
    "assert is_negative_even(negative_even_number) == True, \"Double check your syntax and logic\"\n",
    "print(\"Exercise 20 is correct.\")"
   ]
  },
  {
   "cell_type": "code",
   "execution_count": 63,
   "metadata": {
    "execution": {
     "iopub.execute_input": "2021-09-04T21:10:35.195862Z",
     "iopub.status.busy": "2021-09-04T21:10:35.195463Z",
     "iopub.status.idle": "2021-09-04T21:10:35.204942Z",
     "shell.execute_reply": "2021-09-04T21:10:35.204103Z",
     "shell.execute_reply.started": "2021-09-04T21:10:35.195793Z"
    }
   },
   "outputs": [
    {
     "name": "stdout",
     "output_type": "stream",
     "text": [
      "Exercise 21 is correct.\n"
     ]
    }
   ],
   "source": [
    "# Exercise 21\n",
    "# Write a function definition named half that takes in a number and returns half the provided number.\n",
    "def half(x):\n",
    "    halved = x/2\n",
    "    return halved\n",
    "assert half(4) == 2\n",
    "assert half(5) == 2.5\n",
    "assert half(positive_odd_number) == positive_odd_number / 2\n",
    "assert half(positive_even_number) == positive_even_number / 2\n",
    "assert half(negative_odd_number) == negative_odd_number / 2\n",
    "assert half(negative_even_number) == negative_even_number / 2\n",
    "print(\"Exercise 21 is correct.\")"
   ]
  },
  {
   "cell_type": "code",
   "execution_count": 64,
   "metadata": {
    "execution": {
     "iopub.execute_input": "2021-09-04T21:10:35.207816Z",
     "iopub.status.busy": "2021-09-04T21:10:35.207496Z",
     "iopub.status.idle": "2021-09-04T21:10:35.218905Z",
     "shell.execute_reply": "2021-09-04T21:10:35.217834Z",
     "shell.execute_reply.started": "2021-09-04T21:10:35.207746Z"
    }
   },
   "outputs": [
    {
     "name": "stdout",
     "output_type": "stream",
     "text": [
      "Exercise 22 is correct.\n"
     ]
    }
   ],
   "source": [
    "# Exercise 22\n",
    "# Write a function definition named double that takes in a number and returns double the provided number.\n",
    "def double(x):\n",
    "    doubled = x*2\n",
    "    return doubled\n",
    "    \n",
    "assert double(4) == 8\n",
    "assert double(5) == 10\n",
    "assert double(positive_odd_number) == positive_odd_number * 2\n",
    "assert double(positive_even_number) == positive_even_number * 2\n",
    "assert double(negative_odd_number) == negative_odd_number * 2\n",
    "assert double(negative_even_number) == negative_even_number * 2\n",
    "print(\"Exercise 22 is correct.\")"
   ]
  },
  {
   "cell_type": "code",
   "execution_count": 65,
   "metadata": {
    "execution": {
     "iopub.execute_input": "2021-09-04T21:10:35.220234Z",
     "iopub.status.busy": "2021-09-04T21:10:35.220010Z",
     "iopub.status.idle": "2021-09-04T21:10:35.235666Z",
     "shell.execute_reply": "2021-09-04T21:10:35.234560Z",
     "shell.execute_reply.started": "2021-09-04T21:10:35.220201Z"
    }
   },
   "outputs": [
    {
     "name": "stdout",
     "output_type": "stream",
     "text": [
      "Exercise 23 is correct.\n"
     ]
    }
   ],
   "source": [
    "# Exercise 23\n",
    "# Write a function definition named triple that takes in a number and returns triple the provided number.\n",
    "def triple(x):\n",
    "    tripled = x*3\n",
    "    return tripled\n",
    "assert triple(4) == 12\n",
    "assert triple(5) == 15\n",
    "assert triple(positive_odd_number) == positive_odd_number * 3\n",
    "assert triple(positive_even_number) == positive_even_number * 3\n",
    "assert triple(negative_odd_number) == negative_odd_number * 3\n",
    "assert triple(negative_even_number) == negative_even_number * 3\n",
    "print(\"Exercise 23 is correct.\")"
   ]
  },
  {
   "cell_type": "code",
   "execution_count": 66,
   "metadata": {
    "execution": {
     "iopub.execute_input": "2021-09-04T21:10:35.237786Z",
     "iopub.status.busy": "2021-09-04T21:10:35.237500Z",
     "iopub.status.idle": "2021-09-04T21:10:35.245564Z",
     "shell.execute_reply": "2021-09-04T21:10:35.244628Z",
     "shell.execute_reply.started": "2021-09-04T21:10:35.237734Z"
    }
   },
   "outputs": [
    {
     "name": "stdout",
     "output_type": "stream",
     "text": [
      "Exercise 24 is correct.\n"
     ]
    }
   ],
   "source": [
    "# Exercise 24\n",
    "# Write a function definition named reverse_sign that takes in a number and returns the provided number but with the sign reversed.\n",
    "def reverse_sign(x):\n",
    "    negate = x*-1\n",
    "    return negate\n",
    "assert reverse_sign(4) == -4\n",
    "assert reverse_sign(-5) == 5\n",
    "assert reverse_sign(positive_odd_number) == positive_odd_number * -1\n",
    "assert reverse_sign(positive_even_number) == positive_even_number * -1\n",
    "assert reverse_sign(negative_odd_number) == negative_odd_number * -1\n",
    "assert reverse_sign(negative_even_number) == negative_even_number * -1\n",
    "print(\"Exercise 24 is correct.\")"
   ]
  },
  {
   "cell_type": "code",
   "execution_count": 67,
   "metadata": {
    "execution": {
     "iopub.execute_input": "2021-09-04T21:10:35.247222Z",
     "iopub.status.busy": "2021-09-04T21:10:35.246980Z",
     "iopub.status.idle": "2021-09-04T21:10:35.258003Z",
     "shell.execute_reply": "2021-09-04T21:10:35.256834Z",
     "shell.execute_reply.started": "2021-09-04T21:10:35.247182Z"
    }
   },
   "outputs": [
    {
     "name": "stdout",
     "output_type": "stream",
     "text": [
      "Exercise 25 is correct.\n"
     ]
    }
   ],
   "source": [
    "# Exercise 25\n",
    "# Write a function definition named absolute_value that takes in a number and returns the absolute value of the provided number\n",
    "def absolute_value(x):\n",
    "    absolute= abs(x)\n",
    "    return absolute\n",
    "assert absolute_value(4) == 4\n",
    "assert absolute_value(-5) == 5\n",
    "assert absolute_value(positive_odd_number) == positive_odd_number\n",
    "assert absolute_value(positive_even_number) == positive_even_number\n",
    "assert absolute_value(negative_odd_number) == negative_odd_number * -1\n",
    "assert absolute_value(negative_even_number) == negative_even_number * -1\n",
    "print(\"Exercise 25 is correct.\")"
   ]
  },
  {
   "cell_type": "code",
   "execution_count": 68,
   "metadata": {
    "execution": {
     "iopub.execute_input": "2021-09-04T21:10:35.259866Z",
     "iopub.status.busy": "2021-09-04T21:10:35.259405Z",
     "iopub.status.idle": "2021-09-04T21:10:35.272804Z",
     "shell.execute_reply": "2021-09-04T21:10:35.271803Z",
     "shell.execute_reply.started": "2021-09-04T21:10:35.259663Z"
    }
   },
   "outputs": [
    {
     "name": "stdout",
     "output_type": "stream",
     "text": [
      "Exercise 26 is correct.\n"
     ]
    }
   ],
   "source": [
    "# Exercise 26\n",
    "# Write a function definition named is_multiple_of_three that takes in a number and returns True or False if the number is evenly divisible by 3.\n",
    "def is_multiple_of_three(x):\n",
    "    if x%3 == 0:\n",
    "        return True\n",
    "    else:\n",
    "        return False\n",
    "    \n",
    "assert is_multiple_of_three(3) == True\n",
    "assert is_multiple_of_three(15) == True\n",
    "assert is_multiple_of_three(9) == True\n",
    "assert is_multiple_of_three(4) == False\n",
    "assert is_multiple_of_three(10) == False\n",
    "print(\"Exercise 26 is correct.\")"
   ]
  },
  {
   "cell_type": "code",
   "execution_count": 69,
   "metadata": {
    "execution": {
     "iopub.execute_input": "2021-09-04T21:10:35.274996Z",
     "iopub.status.busy": "2021-09-04T21:10:35.274369Z",
     "iopub.status.idle": "2021-09-04T21:10:35.285654Z",
     "shell.execute_reply": "2021-09-04T21:10:35.284865Z",
     "shell.execute_reply.started": "2021-09-04T21:10:35.274638Z"
    }
   },
   "outputs": [
    {
     "name": "stdout",
     "output_type": "stream",
     "text": [
      "Exercise 27 is correct.\n"
     ]
    }
   ],
   "source": [
    "# Exercise 27\n",
    "# Write a function definition named is_multiple_of_five that takes in a number and returns True or False if the number is evenly divisible by 5.\n",
    "def is_multiple_of_five(x):\n",
    "    if x%5 == 0:\n",
    "        return True\n",
    "    else:\n",
    "        return False\n",
    "    \n",
    "assert is_multiple_of_five(3) == False\n",
    "assert is_multiple_of_five(15) == True\n",
    "assert is_multiple_of_five(9) == False\n",
    "assert is_multiple_of_five(4) == False\n",
    "assert is_multiple_of_five(10) == True\n",
    "print(\"Exercise 27 is correct.\")"
   ]
  },
  {
   "cell_type": "code",
   "execution_count": 70,
   "metadata": {
    "execution": {
     "iopub.execute_input": "2021-09-04T21:10:35.287224Z",
     "iopub.status.busy": "2021-09-04T21:10:35.286984Z",
     "iopub.status.idle": "2021-09-04T21:10:35.300394Z",
     "shell.execute_reply": "2021-09-04T21:10:35.299434Z",
     "shell.execute_reply.started": "2021-09-04T21:10:35.287189Z"
    }
   },
   "outputs": [
    {
     "name": "stdout",
     "output_type": "stream",
     "text": [
      "Exercise 28 is correct.\n"
     ]
    }
   ],
   "source": [
    "# Exercise 28\n",
    "# Write a function definition named is_multiple_of_both_three_and_five that takes in a number and returns True or False if the number is evenly divisible by both 3 and 5.\n",
    "def is_multiple_of_both_three_and_five(x):\n",
    "    if x%3 ==0 and x%5 == 0:\n",
    "        return True\n",
    "    else:\n",
    "        return False\n",
    "assert is_multiple_of_both_three_and_five(15) == True\n",
    "assert is_multiple_of_both_three_and_five(45) == True\n",
    "assert is_multiple_of_both_three_and_five(3) == False\n",
    "assert is_multiple_of_both_three_and_five(9) == False\n",
    "assert is_multiple_of_both_three_and_five(4) == False\n",
    "print(\"Exercise 28 is correct.\")"
   ]
  },
  {
   "cell_type": "code",
   "execution_count": 71,
   "metadata": {
    "execution": {
     "iopub.execute_input": "2021-09-04T21:10:35.303499Z",
     "iopub.status.busy": "2021-09-04T21:10:35.302958Z",
     "iopub.status.idle": "2021-09-04T21:10:35.318152Z",
     "shell.execute_reply": "2021-09-04T21:10:35.316763Z",
     "shell.execute_reply.started": "2021-09-04T21:10:35.303420Z"
    }
   },
   "outputs": [
    {
     "name": "stdout",
     "output_type": "stream",
     "text": [
      "Exercise 29 is correct.\n"
     ]
    }
   ],
   "source": [
    "# Exercise 29\n",
    "# Write a function definition named square that takes in a number and returns the number times itself.\n",
    "def square(x):\n",
    "    squared = x**2\n",
    "    return squared\n",
    "assert square(3) == 9\n",
    "assert square(2) == 4\n",
    "assert square(9) == 81\n",
    "assert square(positive_odd_number) == positive_odd_number * positive_odd_number\n",
    "print(\"Exercise 29 is correct.\")"
   ]
  },
  {
   "cell_type": "code",
   "execution_count": 72,
   "metadata": {
    "execution": {
     "iopub.execute_input": "2021-09-04T21:10:35.320881Z",
     "iopub.status.busy": "2021-09-04T21:10:35.320338Z",
     "iopub.status.idle": "2021-09-04T21:10:35.329425Z",
     "shell.execute_reply": "2021-09-04T21:10:35.328219Z",
     "shell.execute_reply.started": "2021-09-04T21:10:35.320799Z"
    }
   },
   "outputs": [
    {
     "name": "stdout",
     "output_type": "stream",
     "text": [
      "Exercise 30 is correct.\n"
     ]
    }
   ],
   "source": [
    "# Exercise 30\n",
    "# Write a function definition named add that takes in two numbers and returns the sum.\n",
    "def add(x,y):\n",
    "    added = x + y\n",
    "    return added\n",
    "    \n",
    "assert add(3, 2) == 5\n",
    "assert add(10, -2) == 8\n",
    "assert add(5, 7) == 12\n",
    "print(\"Exercise 30 is correct.\")"
   ]
  },
  {
   "cell_type": "code",
   "execution_count": 73,
   "metadata": {
    "execution": {
     "iopub.execute_input": "2021-09-04T21:10:35.331540Z",
     "iopub.status.busy": "2021-09-04T21:10:35.331266Z",
     "iopub.status.idle": "2021-09-04T21:10:35.340064Z",
     "shell.execute_reply": "2021-09-04T21:10:35.338839Z",
     "shell.execute_reply.started": "2021-09-04T21:10:35.331496Z"
    }
   },
   "outputs": [
    {
     "name": "stdout",
     "output_type": "stream",
     "text": [
      "Exercise 31 is correct.\n"
     ]
    }
   ],
   "source": [
    "# Exercise 31\n",
    "# Write a function definition named cube that takes in a number and returns the number times itself, times itself.\n",
    "def cube(x):\n",
    "    cubed = x**3\n",
    "    return cubed\n",
    "assert cube(3) == 27\n",
    "assert cube(2) == 8\n",
    "assert cube(5) == 125\n",
    "assert cube(positive_odd_number) == positive_odd_number * positive_odd_number * positive_odd_number\n",
    "print(\"Exercise 31 is correct.\")"
   ]
  },
  {
   "cell_type": "code",
   "execution_count": 74,
   "metadata": {
    "execution": {
     "iopub.execute_input": "2021-09-04T21:10:35.342148Z",
     "iopub.status.busy": "2021-09-04T21:10:35.341564Z",
     "iopub.status.idle": "2021-09-04T21:10:35.351931Z",
     "shell.execute_reply": "2021-09-04T21:10:35.350671Z",
     "shell.execute_reply.started": "2021-09-04T21:10:35.342080Z"
    }
   },
   "outputs": [
    {
     "name": "stdout",
     "output_type": "stream",
     "text": [
      "Exercise 32 is correct.\n"
     ]
    }
   ],
   "source": [
    "# Exercise 32\n",
    "# Write a function definition named square_root that takes in a number and returns the square root of the provided number\n",
    "import math\n",
    "def square_root(x):\n",
    "    return math.sqrt(x)\n",
    "assert square_root(4) == 2.0\n",
    "assert square_root(64) == 8.0\n",
    "assert square_root(81) == 9.0\n",
    "print(\"Exercise 32 is correct.\")"
   ]
  },
  {
   "cell_type": "code",
   "execution_count": 75,
   "metadata": {
    "execution": {
     "iopub.execute_input": "2021-09-04T21:10:35.354127Z",
     "iopub.status.busy": "2021-09-04T21:10:35.353581Z",
     "iopub.status.idle": "2021-09-04T21:10:35.365265Z",
     "shell.execute_reply": "2021-09-04T21:10:35.363838Z",
     "shell.execute_reply.started": "2021-09-04T21:10:35.354060Z"
    }
   },
   "outputs": [
    {
     "name": "stdout",
     "output_type": "stream",
     "text": [
      "Exercise 33 is correct.\n"
     ]
    }
   ],
   "source": [
    "# Exercise 33\n",
    "# Write a function definition named subtract that takes in two numbers and returns the first minus the second argument.\n",
    "def subtract(x,y):\n",
    "    return x-y\n",
    "assert subtract(8, 6) == 2\n",
    "assert subtract(27, 4) == 23\n",
    "assert subtract(12, 2) == 10\n",
    "print(\"Exercise 33 is correct.\")"
   ]
  },
  {
   "cell_type": "code",
   "execution_count": 76,
   "metadata": {
    "execution": {
     "iopub.execute_input": "2021-09-04T21:10:35.367208Z",
     "iopub.status.busy": "2021-09-04T21:10:35.366840Z",
     "iopub.status.idle": "2021-09-04T21:10:35.381646Z",
     "shell.execute_reply": "2021-09-04T21:10:35.380626Z",
     "shell.execute_reply.started": "2021-09-04T21:10:35.367080Z"
    }
   },
   "outputs": [
    {
     "name": "stdout",
     "output_type": "stream",
     "text": [
      "Exercise 34 is correct.\n"
     ]
    }
   ],
   "source": [
    "# Exercise 34\n",
    "# Write a function definition named multiply that takes in two numbers and returns the first times the second argument.\n",
    "def multiply(x,y):\n",
    "    return x*y\n",
    "assert multiply(2, 1) == 2\n",
    "assert multiply(3, 5) == 15\n",
    "assert multiply(5, 2) == 10\n",
    "print(\"Exercise 34 is correct.\")"
   ]
  },
  {
   "cell_type": "code",
   "execution_count": 77,
   "metadata": {
    "execution": {
     "iopub.execute_input": "2021-09-04T21:10:35.383443Z",
     "iopub.status.busy": "2021-09-04T21:10:35.383150Z",
     "iopub.status.idle": "2021-09-04T21:10:35.393138Z",
     "shell.execute_reply": "2021-09-04T21:10:35.392200Z",
     "shell.execute_reply.started": "2021-09-04T21:10:35.383392Z"
    }
   },
   "outputs": [
    {
     "name": "stdout",
     "output_type": "stream",
     "text": [
      "Exercise 35 is correct.\n"
     ]
    }
   ],
   "source": [
    "# Exercise 35\n",
    "# Write a function definition named divide that takes in two numbers and returns the first argument divided by the second argument.\n",
    "def divide(x,y):\n",
    "    return x/y\n",
    "assert divide(27, 9) == 3\n",
    "assert divide(15, 3) == 5\n",
    "assert divide(5, 2) == 2.5\n",
    "assert divide(10, 2) == 5\n",
    "print(\"Exercise 35 is correct.\")"
   ]
  },
  {
   "cell_type": "code",
   "execution_count": 78,
   "metadata": {
    "execution": {
     "iopub.execute_input": "2021-09-04T21:10:35.394835Z",
     "iopub.status.busy": "2021-09-04T21:10:35.394398Z",
     "iopub.status.idle": "2021-09-04T21:10:35.403842Z",
     "shell.execute_reply": "2021-09-04T21:10:35.403066Z",
     "shell.execute_reply.started": "2021-09-04T21:10:35.394730Z"
    }
   },
   "outputs": [
    {
     "name": "stdout",
     "output_type": "stream",
     "text": [
      "Exercise 36 is correct.\n"
     ]
    }
   ],
   "source": [
    "# Exercise 36\n",
    "# Write a function definition named quotient that takes in two numbers and returns only the quotient from dividing the first argument by the second argument.\n",
    "def quotient(x,y):\n",
    "    return x//y\n",
    "assert quotient(27, 9) == 3\n",
    "assert quotient(5, 2) == 2\n",
    "assert quotient(10, 3) == 3\n",
    "print(\"Exercise 36 is correct.\")"
   ]
  },
  {
   "cell_type": "code",
   "execution_count": 79,
   "metadata": {
    "execution": {
     "iopub.execute_input": "2021-09-04T21:10:35.405303Z",
     "iopub.status.busy": "2021-09-04T21:10:35.405078Z",
     "iopub.status.idle": "2021-09-04T21:10:35.416837Z",
     "shell.execute_reply": "2021-09-04T21:10:35.415828Z",
     "shell.execute_reply.started": "2021-09-04T21:10:35.405270Z"
    }
   },
   "outputs": [
    {
     "name": "stdout",
     "output_type": "stream",
     "text": [
      "Exercise 37 is correct.\n"
     ]
    }
   ],
   "source": [
    "# Exercise 37\n",
    "# Write a function definition named remainder that takes in two numbers and returns the remainder of first argument divided by the second argument.\n",
    "def remainder(x,y):\n",
    "    return x%y\n",
    "assert remainder(3, 3) == 0\n",
    "assert remainder(5, 2) == 1\n",
    "assert remainder(7, 5) == 2\n",
    "print(\"Exercise 37 is correct.\")"
   ]
  },
  {
   "cell_type": "code",
   "execution_count": 80,
   "metadata": {
    "execution": {
     "iopub.execute_input": "2021-09-04T21:10:35.418653Z",
     "iopub.status.busy": "2021-09-04T21:10:35.418256Z",
     "iopub.status.idle": "2021-09-04T21:10:35.428582Z",
     "shell.execute_reply": "2021-09-04T21:10:35.427770Z",
     "shell.execute_reply.started": "2021-09-04T21:10:35.418547Z"
    }
   },
   "outputs": [
    {
     "name": "stdout",
     "output_type": "stream",
     "text": [
      "Exercise 38 is correct.\n"
     ]
    }
   ],
   "source": [
    "# Exercise 38\n",
    "# Write a function definition named sum_of_squares that takes in two numbers, squares each number, then returns the sum of both squares.\n",
    "def sum_of_squares(x,y):\n",
    "    number_one = x**2\n",
    "    number_two = y**2\n",
    "    return number_one + number_two\n",
    "    \n",
    "assert sum_of_squares(3, 2) == 13\n",
    "assert sum_of_squares(5, 2) == 29\n",
    "assert sum_of_squares(2, 4) == 20\n",
    "print(\"Exercise 38 is correct.\")"
   ]
  },
  {
   "cell_type": "code",
   "execution_count": 81,
   "metadata": {
    "execution": {
     "iopub.execute_input": "2021-09-04T21:10:35.430379Z",
     "iopub.status.busy": "2021-09-04T21:10:35.429924Z",
     "iopub.status.idle": "2021-09-04T21:10:35.440179Z",
     "shell.execute_reply": "2021-09-04T21:10:35.439166Z",
     "shell.execute_reply.started": "2021-09-04T21:10:35.430301Z"
    }
   },
   "outputs": [
    {
     "name": "stdout",
     "output_type": "stream",
     "text": [
      "Exercise 39 is correct.\n"
     ]
    }
   ],
   "source": [
    "# Exercise 39\n",
    "# Write a function definition named times_two_plus_three that takes in a number, multiplies it by two, adds 3 and returns the result.\n",
    "def times_two_plus_three(x):\n",
    "    return (x*2)+3\n",
    "assert times_two_plus_three(0) == 3\n",
    "assert times_two_plus_three(1) == 5\n",
    "assert times_two_plus_three(2) == 7\n",
    "assert times_two_plus_three(3) == 9\n",
    "assert times_two_plus_three(5) == 13\n",
    "print(\"Exercise 39 is correct.\")"
   ]
  },
  {
   "cell_type": "code",
   "execution_count": 82,
   "metadata": {
    "execution": {
     "iopub.execute_input": "2021-09-04T21:10:35.442030Z",
     "iopub.status.busy": "2021-09-04T21:10:35.441462Z",
     "iopub.status.idle": "2021-09-04T21:10:35.457535Z",
     "shell.execute_reply": "2021-09-04T21:10:35.456171Z",
     "shell.execute_reply.started": "2021-09-04T21:10:35.441979Z"
    }
   },
   "outputs": [
    {
     "name": "stdout",
     "output_type": "stream",
     "text": [
      "Exercise 40 is correct.\n"
     ]
    }
   ],
   "source": [
    "# Exercise 40\n",
    "# Write a function definition named area_of_rectangle that takes in two numbers and returns the product.\n",
    "def area_of_rectangle(x,y):\n",
    "    rectangle_area = x*y\n",
    "    return rectangle_area\n",
    "assert area_of_rectangle(1, 3) == 3\n",
    "assert area_of_rectangle(5, 2) == 10\n",
    "assert area_of_rectangle(2, 7) == 14\n",
    "assert area_of_rectangle(5.3, 10.3) == 54.59\n",
    "print(\"Exercise 40 is correct.\")"
   ]
  },
  {
   "cell_type": "code",
   "execution_count": 83,
   "metadata": {
    "execution": {
     "iopub.execute_input": "2021-09-04T21:10:35.460324Z",
     "iopub.status.busy": "2021-09-04T21:10:35.459741Z",
     "iopub.status.idle": "2021-09-04T21:10:35.469963Z",
     "shell.execute_reply": "2021-09-04T21:10:35.468489Z",
     "shell.execute_reply.started": "2021-09-04T21:10:35.460256Z"
    }
   },
   "outputs": [
    {
     "name": "stdout",
     "output_type": "stream",
     "text": [
      "Exercise 41 is correct.\n"
     ]
    }
   ],
   "source": [
    "import math\n",
    "# Exercise 41\n",
    "# Write a function definition named area_of_circle that takes in a number representing a circle's radius and returns the area of the circl\n",
    "def area_of_circle(radius):\n",
    "    return math.pi*(radius**2)\n",
    "assert area_of_circle(3) == 28.274333882308138\n",
    "assert area_of_circle(5) == 78.53981633974483\n",
    "assert area_of_circle(7) == 153.93804002589985\n",
    "print(\"Exercise 41 is correct.\")"
   ]
  },
  {
   "cell_type": "code",
   "execution_count": 84,
   "metadata": {
    "execution": {
     "iopub.execute_input": "2021-09-04T21:10:35.472453Z",
     "iopub.status.busy": "2021-09-04T21:10:35.471989Z",
     "iopub.status.idle": "2021-09-04T21:10:35.484449Z",
     "shell.execute_reply": "2021-09-04T21:10:35.483478Z",
     "shell.execute_reply.started": "2021-09-04T21:10:35.472407Z"
    }
   },
   "outputs": [
    {
     "name": "stdout",
     "output_type": "stream",
     "text": [
      "Exercise 42 is correct.\n"
     ]
    }
   ],
   "source": [
    "import math\n",
    "# Exercise 42\n",
    "# Write a function definition named circumference that takes in a number representing a circle's radius and returns the circumference.\n",
    "def circumference(radius):\n",
    "    return 2*math.pi*radius\n",
    "assert circumference(3) == 18.84955592153876\n",
    "assert circumference(5) == 31.41592653589793\n",
    "assert circumference(7) == 43.982297150257104\n",
    "print(\"Exercise 42 is correct.\")"
   ]
  },
  {
   "cell_type": "markdown",
   "metadata": {},
   "source": [
    "## Functions working with strings\n",
    "If you need some guidance working with the next few problems, recommend reading through [this example code](https://gist.github.com/ryanorsinger/f758599c886549e7615ec43488ae514c)"
   ]
  },
  {
   "cell_type": "code",
   "execution_count": 85,
   "metadata": {
    "execution": {
     "iopub.execute_input": "2021-09-04T21:10:35.492050Z",
     "iopub.status.busy": "2021-09-04T21:10:35.491742Z",
     "iopub.status.idle": "2021-09-04T21:10:35.501437Z",
     "shell.execute_reply": "2021-09-04T21:10:35.500268Z",
     "shell.execute_reply.started": "2021-09-04T21:10:35.492004Z"
    }
   },
   "outputs": [
    {
     "name": "stdout",
     "output_type": "stream",
     "text": [
      "Exercise 43 is correct.\n"
     ]
    }
   ],
   "source": [
    "# Exercise 43\n",
    "# Write a function definition named is_vowel that takes in value and returns True if the value is a, e, i, o, u in upper or lower case.\n",
    "vowels = ['a','e','i','o','u']\n",
    "def is_vowel(letter):\n",
    "    letter = letter.lower()\n",
    "    if letter in vowels:\n",
    "        return True\n",
    "    else:\n",
    "        return False\n",
    "\n",
    "assert is_vowel(\"a\") == True\n",
    "assert is_vowel(\"e\") == True\n",
    "assert is_vowel(\"i\") == True\n",
    "assert is_vowel(\"o\") == True\n",
    "assert is_vowel(\"u\") == True\n",
    "assert is_vowel(\"A\") == True\n",
    "assert is_vowel(\"E\") == True\n",
    "assert is_vowel(\"I\") == True\n",
    "assert is_vowel(\"O\") == True\n",
    "assert is_vowel(\"U\") == True\n",
    "assert is_vowel(\"banana\") == False\n",
    "assert is_vowel(\"Q\") == False\n",
    "assert is_vowel(\"y\") == False\n",
    "assert is_vowel(\"aei\") == False\n",
    "assert is_vowel(\"iou\") == False\n",
    "print(\"Exercise 43 is correct.\")"
   ]
  },
  {
   "cell_type": "code",
   "execution_count": 88,
   "metadata": {
    "execution": {
     "iopub.execute_input": "2021-09-04T21:11:24.812592Z",
     "iopub.status.busy": "2021-09-04T21:11:24.811968Z",
     "iopub.status.idle": "2021-09-04T21:11:24.819672Z",
     "shell.execute_reply": "2021-09-04T21:11:24.818815Z",
     "shell.execute_reply.started": "2021-09-04T21:11:24.812543Z"
    }
   },
   "outputs": [
    {
     "name": "stdout",
     "output_type": "stream",
     "text": [
      "Exercise 44 is correct.\n"
     ]
    }
   ],
   "source": [
    "# Exercise 44\n",
    "# Write a function definition named has_vowels that takes in value and returns True if the string contains any vowels.\n",
    "vowels = ['a','e','i','o','u']\n",
    "def has_vowels(word):\n",
    "    word = word.lower()\n",
    "    for i in word:\n",
    "        if i in vowels:\n",
    "            return True\n",
    "    else:\n",
    "        return False\n",
    "\n",
    "assert has_vowels(\"banana\") == True\n",
    "assert has_vowels(\"ubuntu\") == True\n",
    "assert has_vowels(\"QQQQ\") == False\n",
    "assert has_vowels(\"wyrd\") == False\n",
    "print(\"Exercise 44 is correct.\")"
   ]
  },
  {
   "cell_type": "code",
   "execution_count": 94,
   "metadata": {
    "execution": {
     "iopub.execute_input": "2021-09-04T21:16:02.980909Z",
     "iopub.status.busy": "2021-09-04T21:16:02.980423Z",
     "iopub.status.idle": "2021-09-04T21:16:02.987267Z",
     "shell.execute_reply": "2021-09-04T21:16:02.986518Z",
     "shell.execute_reply.started": "2021-09-04T21:16:02.980865Z"
    }
   },
   "outputs": [
    {
     "name": "stdout",
     "output_type": "stream",
     "text": [
      "Exercise 45 is correct.\n"
     ]
    }
   ],
   "source": [
    "# Exercise 45\n",
    "# Write a function definition named count_vowels that takes in value and returns the count of the nubmer of vowels in a sequence.\n",
    "vowels = ['a','e','i','o','u']\n",
    "def count_vowels(word):\n",
    "    count = 0\n",
    "    for i in word:\n",
    "        if i in vowels:\n",
    "            count+=1\n",
    "    return count\n",
    "assert count_vowels(\"banana\") == 3\n",
    "assert count_vowels(\"ubuntu\") == 3\n",
    "assert count_vowels(\"mango\") == 2\n",
    "assert count_vowels(\"QQQQ\") == 0\n",
    "assert count_vowels(\"wyrd\") == 0\n",
    "print(\"Exercise 45 is correct.\")"
   ]
  },
  {
   "cell_type": "code",
   "execution_count": 99,
   "metadata": {
    "execution": {
     "iopub.execute_input": "2021-09-04T21:21:36.159305Z",
     "iopub.status.busy": "2021-09-04T21:21:36.158989Z",
     "iopub.status.idle": "2021-09-04T21:21:36.166272Z",
     "shell.execute_reply": "2021-09-04T21:21:36.165120Z",
     "shell.execute_reply.started": "2021-09-04T21:21:36.159257Z"
    }
   },
   "outputs": [
    {
     "name": "stdout",
     "output_type": "stream",
     "text": [
      "Exercise 46 is correct.\n"
     ]
    }
   ],
   "source": [
    "# Exercise 46\n",
    "# Write a function definition named remove_vowels that takes in string and returns the string without any vowels\n",
    "vowels = ['a','e','i','o','u']\n",
    "def remove_vowels(word):\n",
    "    for i in word:\n",
    "        if i.lower() in vowels:\n",
    "            word = word.replace(i,\"\")\n",
    "    return word\n",
    "\n",
    "assert remove_vowels(\"banana\") == \"bnn\"\n",
    "assert remove_vowels(\"ubuntu\") == \"bnt\"\n",
    "assert remove_vowels(\"mango\") == \"mng\"\n",
    "assert remove_vowels(\"QQQQ\") == \"QQQQ\"\n",
    "print(\"Exercise 46 is correct.\")"
   ]
  },
  {
   "cell_type": "code",
   "execution_count": 100,
   "metadata": {
    "execution": {
     "iopub.execute_input": "2021-09-04T21:24:45.093389Z",
     "iopub.status.busy": "2021-09-04T21:24:45.093004Z",
     "iopub.status.idle": "2021-09-04T21:24:45.100010Z",
     "shell.execute_reply": "2021-09-04T21:24:45.099192Z",
     "shell.execute_reply.started": "2021-09-04T21:24:45.093321Z"
    }
   },
   "outputs": [
    {
     "name": "stdout",
     "output_type": "stream",
     "text": [
      "Exercise 47 is correct.\n"
     ]
    }
   ],
   "source": [
    "# Exercise 47\n",
    "# Write a function definition named starts_with_vowel that takes in string and True if the string starts with a vowel\n",
    "vowels = ['a','e','i','o','u']\n",
    "def starts_with_vowel(word):\n",
    "    word = word.lower()\n",
    "    if word[0] in vowels:\n",
    "        return True\n",
    "    else: \n",
    "        return False\n",
    "assert starts_with_vowel(\"ubuntu\") == True\n",
    "assert starts_with_vowel(\"banana\") == False\n",
    "assert starts_with_vowel(\"mango\") == False\n",
    "print(\"Exercise 47 is correct.\")"
   ]
  },
  {
   "cell_type": "code",
   "execution_count": 101,
   "metadata": {
    "execution": {
     "iopub.execute_input": "2021-09-04T21:26:16.641587Z",
     "iopub.status.busy": "2021-09-04T21:26:16.641248Z",
     "iopub.status.idle": "2021-09-04T21:26:16.648214Z",
     "shell.execute_reply": "2021-09-04T21:26:16.647334Z",
     "shell.execute_reply.started": "2021-09-04T21:26:16.641535Z"
    }
   },
   "outputs": [
    {
     "name": "stdout",
     "output_type": "stream",
     "text": [
      "Exercise 48 is correct.\n"
     ]
    }
   ],
   "source": [
    "# Exercise 48\n",
    "# Write a function definition named ends_with_vowel that takes in string and True if the string ends with a vowel\n",
    "vowels = ['a','e','i','o','u']\n",
    "def ends_with_vowel(word):\n",
    "    word = word.lower()\n",
    "    if word[-1] in vowels:\n",
    "        return True\n",
    "    else:\n",
    "        return False\n",
    "assert ends_with_vowel(\"ubuntu\") == True\n",
    "assert ends_with_vowel(\"banana\") == True\n",
    "assert ends_with_vowel(\"mango\") == True\n",
    "assert ends_with_vowel(\"spinach\") == False\n",
    "print(\"Exercise 48 is correct.\")"
   ]
  },
  {
   "cell_type": "code",
   "execution_count": 5,
   "metadata": {
    "execution": {
     "iopub.execute_input": "2021-09-04T23:33:58.576370Z",
     "iopub.status.busy": "2021-09-04T23:33:58.576061Z",
     "iopub.status.idle": "2021-09-04T23:33:58.584668Z",
     "shell.execute_reply": "2021-09-04T23:33:58.583453Z",
     "shell.execute_reply.started": "2021-09-04T23:33:58.576318Z"
    }
   },
   "outputs": [
    {
     "name": "stdout",
     "output_type": "stream",
     "text": [
      "Exercise 49 is correct.\n"
     ]
    }
   ],
   "source": [
    "# Exercise 49\n",
    "# Write a function definition named starts_and_ends_with_vowel that takes in string and returns True if the string starts and ends with a vowel\n",
    "vowels = ['a','e','i','o','u']\n",
    "def starts_and_ends_with_vowel(word):\n",
    "    word = word.lower()\n",
    "    if word[0] in vowels and word[-1] in vowels:\n",
    "        return True\n",
    "    else:\n",
    "        return False\n",
    "\n",
    "assert starts_and_ends_with_vowel(\"ubuntu\") == True\n",
    "assert starts_and_ends_with_vowel(\"banana\") == False\n",
    "assert starts_and_ends_with_vowel(\"mango\") == False\n",
    "print(\"Exercise 49 is correct.\")"
   ]
  },
  {
   "cell_type": "markdown",
   "metadata": {},
   "source": [
    "## Accessing List Elements"
   ]
  },
  {
   "cell_type": "code",
   "execution_count": 109,
   "metadata": {
    "execution": {
     "iopub.execute_input": "2021-09-04T21:31:45.637980Z",
     "iopub.status.busy": "2021-09-04T21:31:45.637421Z",
     "iopub.status.idle": "2021-09-04T21:31:45.644220Z",
     "shell.execute_reply": "2021-09-04T21:31:45.643430Z",
     "shell.execute_reply.started": "2021-09-04T21:31:45.637918Z"
    }
   },
   "outputs": [
    {
     "name": "stdout",
     "output_type": "stream",
     "text": [
      "Exercise 50 is correct.\n"
     ]
    }
   ],
   "source": [
    "# Exercise 50\n",
    "# Write a function definition named first that takes in sequence and returns the first value of that sequence.\n",
    "def first(sequence):\n",
    "    return sequence[0]\n",
    "assert first(\"ubuntu\") == \"u\"\n",
    "assert first([1, 2, 3]) == 1\n",
    "assert first([\"python\", \"is\", \"awesome\"]) == \"python\"\n",
    "print(\"Exercise 50 is correct.\")"
   ]
  },
  {
   "cell_type": "code",
   "execution_count": 110,
   "metadata": {
    "execution": {
     "iopub.execute_input": "2021-09-04T21:32:05.508150Z",
     "iopub.status.busy": "2021-09-04T21:32:05.507646Z",
     "iopub.status.idle": "2021-09-04T21:32:05.513375Z",
     "shell.execute_reply": "2021-09-04T21:32:05.512754Z",
     "shell.execute_reply.started": "2021-09-04T21:32:05.508089Z"
    }
   },
   "outputs": [
    {
     "name": "stdout",
     "output_type": "stream",
     "text": [
      "Exercise 51 is correct.\n"
     ]
    }
   ],
   "source": [
    "# Exercise 51\n",
    "# Write a function definition named second that takes in sequence and returns the second value of that sequence.\n",
    "def second(sequence):\n",
    "    return sequence[1]\n",
    "assert second(\"ubuntu\") == \"b\"\n",
    "assert second([1, 2, 3]) == 2\n",
    "assert second([\"python\", \"is\", \"awesome\"]) == \"is\"\n",
    "print(\"Exercise 51 is correct.\")"
   ]
  },
  {
   "cell_type": "code",
   "execution_count": 111,
   "metadata": {
    "execution": {
     "iopub.execute_input": "2021-09-04T21:32:21.801285Z",
     "iopub.status.busy": "2021-09-04T21:32:21.800958Z",
     "iopub.status.idle": "2021-09-04T21:32:21.807508Z",
     "shell.execute_reply": "2021-09-04T21:32:21.806584Z",
     "shell.execute_reply.started": "2021-09-04T21:32:21.801236Z"
    }
   },
   "outputs": [
    {
     "name": "stdout",
     "output_type": "stream",
     "text": [
      "Exercise 52 is correct.\n"
     ]
    }
   ],
   "source": [
    "# Exercise 52\n",
    "# Write a function definition named third that takes in sequence and returns the third value of that sequence.\n",
    "def third(sequence):\n",
    "    return sequence[2]\n",
    "assert third(\"ubuntu\") == \"u\"\n",
    "assert third([1, 2, 3]) == 3\n",
    "assert third([\"python\", \"is\", \"awesome\"]) == \"awesome\"\n",
    "print(\"Exercise 52 is correct.\")"
   ]
  },
  {
   "cell_type": "code",
   "execution_count": 112,
   "metadata": {
    "execution": {
     "iopub.execute_input": "2021-09-04T21:32:35.858570Z",
     "iopub.status.busy": "2021-09-04T21:32:35.858254Z",
     "iopub.status.idle": "2021-09-04T21:32:35.865169Z",
     "shell.execute_reply": "2021-09-04T21:32:35.864157Z",
     "shell.execute_reply.started": "2021-09-04T21:32:35.858521Z"
    }
   },
   "outputs": [
    {
     "name": "stdout",
     "output_type": "stream",
     "text": [
      "Exercise 53 is correct.\n"
     ]
    }
   ],
   "source": [
    "# Exercise 53\n",
    "# Write a function definition named forth that takes in sequence and returns the forth value of that sequence.\n",
    "def forth(sequence):\n",
    "    return sequence[3]\n",
    "assert forth(\"ubuntu\") == \"n\"\n",
    "assert forth([1, 2, 3, 4]) == 4\n",
    "assert forth([\"python\", \"is\", \"awesome\", \"right?\"]) == \"right?\"\n",
    "print(\"Exercise 53 is correct.\")"
   ]
  },
  {
   "cell_type": "code",
   "execution_count": 113,
   "metadata": {
    "execution": {
     "iopub.execute_input": "2021-09-04T21:32:52.283684Z",
     "iopub.status.busy": "2021-09-04T21:32:52.282987Z",
     "iopub.status.idle": "2021-09-04T21:32:52.290180Z",
     "shell.execute_reply": "2021-09-04T21:32:52.289110Z",
     "shell.execute_reply.started": "2021-09-04T21:32:52.283632Z"
    }
   },
   "outputs": [
    {
     "name": "stdout",
     "output_type": "stream",
     "text": [
      "Exercise 54 is correct.\n"
     ]
    }
   ],
   "source": [
    "# Exercise 54\n",
    "# Write a function definition named last that takes in sequence and returns the last value of that sequence.\n",
    "def last(sequence):\n",
    "    return sequence[-1]\n",
    "assert last(\"ubuntu\") == \"u\"\n",
    "assert last([1, 2, 3, 4]) == 4\n",
    "assert last([\"python\", \"is\", \"awesome\"]) == \"awesome\"\n",
    "assert last([\"kiwi\", \"mango\", \"guava\"]) == \"guava\"\n",
    "print(\"Exercise 54 is correct.\")"
   ]
  },
  {
   "cell_type": "code",
   "execution_count": 114,
   "metadata": {
    "execution": {
     "iopub.execute_input": "2021-09-04T21:33:15.719757Z",
     "iopub.status.busy": "2021-09-04T21:33:15.719418Z",
     "iopub.status.idle": "2021-09-04T21:33:15.725845Z",
     "shell.execute_reply": "2021-09-04T21:33:15.724856Z",
     "shell.execute_reply.started": "2021-09-04T21:33:15.719705Z"
    }
   },
   "outputs": [
    {
     "name": "stdout",
     "output_type": "stream",
     "text": [
      "Exercise 55 is correct.\n"
     ]
    }
   ],
   "source": [
    "# Exercise 55\n",
    "# Write a function definition named second_to_last that takes in sequence and returns the second to last value of that sequence.\n",
    "def second_to_last(sequence):\n",
    "    return sequence[-2]\n",
    "assert second_to_last(\"ubuntu\") == \"t\"\n",
    "assert second_to_last([1, 2, 3, 4]) == 3\n",
    "assert second_to_last([\"python\", \"is\", \"awesome\"]) == \"is\"\n",
    "assert second_to_last([\"kiwi\", \"mango\", \"guava\"]) == \"mango\"\n",
    "print(\"Exercise 55 is correct.\")"
   ]
  },
  {
   "cell_type": "code",
   "execution_count": 115,
   "metadata": {
    "execution": {
     "iopub.execute_input": "2021-09-04T21:36:44.624724Z",
     "iopub.status.busy": "2021-09-04T21:36:44.624377Z",
     "iopub.status.idle": "2021-09-04T21:36:44.631432Z",
     "shell.execute_reply": "2021-09-04T21:36:44.630752Z",
     "shell.execute_reply.started": "2021-09-04T21:36:44.624668Z"
    }
   },
   "outputs": [
    {
     "name": "stdout",
     "output_type": "stream",
     "text": [
      "Exercise 56 is correct.\n"
     ]
    }
   ],
   "source": [
    "# Exercise 56\n",
    "# Write a function definition named third_to_last that takes in sequence and returns the third to last value of that sequence.\n",
    "def third_to_last(sequence):\n",
    "    return sequence[-3]\n",
    "assert third_to_last(\"ubuntu\") == \"n\"\n",
    "assert third_to_last([1, 2, 3, 4]) == 2\n",
    "assert third_to_last([\"python\", \"is\", \"awesome\"]) == \"python\"\n",
    "assert third_to_last([\"strawberry\", \"kiwi\", \"mango\", \"guava\"]) == \"kiwi\"\n",
    "print(\"Exercise 56 is correct.\")"
   ]
  },
  {
   "cell_type": "code",
   "execution_count": 117,
   "metadata": {
    "execution": {
     "iopub.execute_input": "2021-09-04T21:40:22.634362Z",
     "iopub.status.busy": "2021-09-04T21:40:22.633919Z",
     "iopub.status.idle": "2021-09-04T21:40:22.641809Z",
     "shell.execute_reply": "2021-09-04T21:40:22.640749Z",
     "shell.execute_reply.started": "2021-09-04T21:40:22.634319Z"
    }
   },
   "outputs": [
    {
     "name": "stdout",
     "output_type": "stream",
     "text": [
      "Exercise 57 is correct.\n"
     ]
    }
   ],
   "source": [
    "# Exercise 57\n",
    "# Write a function definition named first_and_second that takes in sequence and returns the first and second value of that sequence as a list\n",
    "def first_and_second(seq):\n",
    "    return seq[0:2]\n",
    "assert first_and_second([1, 2, 3, 4]) == [1, 2]\n",
    "assert first_and_second([\"python\", \"is\", \"awesome\"]) == [\"python\", \"is\"]\n",
    "assert first_and_second([\"strawberry\", \"kiwi\", \"mango\", \"guava\"]) == [\"strawberry\", \"kiwi\"]\n",
    "print(\"Exercise 57 is correct.\")"
   ]
  },
  {
   "cell_type": "code",
   "execution_count": 119,
   "metadata": {
    "execution": {
     "iopub.execute_input": "2021-09-04T21:42:02.120307Z",
     "iopub.status.busy": "2021-09-04T21:42:02.119781Z",
     "iopub.status.idle": "2021-09-04T21:42:02.127396Z",
     "shell.execute_reply": "2021-09-04T21:42:02.126372Z",
     "shell.execute_reply.started": "2021-09-04T21:42:02.120260Z"
    }
   },
   "outputs": [
    {
     "name": "stdout",
     "output_type": "stream",
     "text": [
      "Exercise 58 is correct.\n"
     ]
    }
   ],
   "source": [
    "# Exercise 58\n",
    "# Write a function definition named first_and_last that takes in sequence and returns the first and last value of that sequence as a list\n",
    "def first_and_last(seq):\n",
    "    return [seq[0], seq[-1]]\n",
    "assert first_and_last([1, 2, 3, 4]) == [1, 4]\n",
    "assert first_and_last([\"python\", \"is\", \"awesome\"]) == [\"python\", \"awesome\"]\n",
    "assert first_and_last([\"strawberry\", \"kiwi\", \"mango\", \"guava\"]) == [\"strawberry\", \"guava\"]\n",
    "print(\"Exercise 58 is correct.\")"
   ]
  },
  {
   "cell_type": "code",
   "execution_count": 120,
   "metadata": {
    "execution": {
     "iopub.execute_input": "2021-09-04T21:44:15.864377Z",
     "iopub.status.busy": "2021-09-04T21:44:15.863954Z",
     "iopub.status.idle": "2021-09-04T21:44:15.871811Z",
     "shell.execute_reply": "2021-09-04T21:44:15.870890Z",
     "shell.execute_reply.started": "2021-09-04T21:44:15.864322Z"
    }
   },
   "outputs": [
    {
     "name": "stdout",
     "output_type": "stream",
     "text": [
      "Exercise 59 is correct.\n"
     ]
    }
   ],
   "source": [
    "# Exercise 59\n",
    "# Write a function definition named first_to_last that takes in sequence and returns the sequence with the first value moved to the end of the sequence.\n",
    "def first_to_last(seq):\n",
    "    moving = seq[0]\n",
    "    seq.append(moving)\n",
    "    return seq[1:]\n",
    "    \n",
    "assert first_to_last([1, 2, 3, 4]) == [2, 3, 4, 1]\n",
    "assert first_to_last([\"python\", \"is\", \"awesome\"]) == [\"is\", \"awesome\", \"python\"]\n",
    "assert first_to_last([\"strawberry\", \"kiwi\", \"mango\", \"guava\"]) == [\"kiwi\", \"mango\", \"guava\", \"strawberry\"]\n",
    "print(\"Exercise 59 is correct.\")"
   ]
  },
  {
   "cell_type": "markdown",
   "metadata": {},
   "source": [
    "## Functions to describe data "
   ]
  },
  {
   "cell_type": "code",
   "execution_count": 121,
   "metadata": {
    "execution": {
     "iopub.execute_input": "2021-09-04T21:45:06.091636Z",
     "iopub.status.busy": "2021-09-04T21:45:06.091302Z",
     "iopub.status.idle": "2021-09-04T21:45:06.097428Z",
     "shell.execute_reply": "2021-09-04T21:45:06.096766Z",
     "shell.execute_reply.started": "2021-09-04T21:45:06.091584Z"
    }
   },
   "outputs": [
    {
     "name": "stdout",
     "output_type": "stream",
     "text": [
      "Exercise 60 is correct.\n"
     ]
    }
   ],
   "source": [
    "# Exercise 60\n",
    "# Write a function definition named sum_all that takes in sequence of numbers and returns all the numbers added together.\n",
    "def sum_all(seq):\n",
    "    return sum(seq)\n",
    "assert sum_all([1, 2, 3, 4]) == 10\n",
    "assert sum_all([3, 3, 3]) == 9\n",
    "assert sum_all([0, 5, 6]) == 11\n",
    "print(\"Exercise 60 is correct.\")"
   ]
  },
  {
   "cell_type": "code",
   "execution_count": 122,
   "metadata": {
    "execution": {
     "iopub.execute_input": "2021-09-04T21:45:52.918472Z",
     "iopub.status.busy": "2021-09-04T21:45:52.918129Z",
     "iopub.status.idle": "2021-09-04T21:45:52.924719Z",
     "shell.execute_reply": "2021-09-04T21:45:52.923727Z",
     "shell.execute_reply.started": "2021-09-04T21:45:52.918424Z"
    }
   },
   "outputs": [
    {
     "name": "stdout",
     "output_type": "stream",
     "text": [
      "Exercise 61 is correct.\n"
     ]
    }
   ],
   "source": [
    "# Exercise 61\n",
    "# Write a function definition named mean that takes in sequence of numbers and returns the average value\n",
    "def mean(seq):\n",
    "    mean = sum(seq)/len(seq)\n",
    "    return mean\n",
    "assert mean([1, 2, 3, 4]) == 2.5\n",
    "assert mean([3, 3, 3]) == 3\n",
    "assert mean([1, 5, 6]) == 4\n",
    "print(\"Exercise 61 is correct.\")"
   ]
  },
  {
   "cell_type": "code",
   "execution_count": 125,
   "metadata": {
    "execution": {
     "iopub.execute_input": "2021-09-04T21:53:50.599974Z",
     "iopub.status.busy": "2021-09-04T21:53:50.599655Z",
     "iopub.status.idle": "2021-09-04T21:53:50.607681Z",
     "shell.execute_reply": "2021-09-04T21:53:50.606612Z",
     "shell.execute_reply.started": "2021-09-04T21:53:50.599928Z"
    }
   },
   "outputs": [
    {
     "name": "stdout",
     "output_type": "stream",
     "text": [
      "Exercise 62 is correct.\n"
     ]
    }
   ],
   "source": [
    "# Exercise 62\n",
    "# Write a function definition named median that takes in sequence of numbers and returns the average value\n",
    "\n",
    "def median(lst):\n",
    "    sortedLst = sorted(lst)\n",
    "    lstLen = len(lst)\n",
    "    index = (lstLen - 1) // 2\n",
    "   \n",
    "    if (lstLen % 2):\n",
    "        return sortedLst[index]\n",
    "    else:\n",
    "        return (sortedLst[index] + sortedLst[index + 1])/2.0\n",
    "        \n",
    "assert median([1, 2, 3, 4, 5]) == 3.0\n",
    "assert median([1, 2, 3]) == 2.0\n",
    "assert median([1, 5, 6]) == 5.0\n",
    "assert median([1, 2, 5, 6]) == 3.5\n",
    "print(\"Exercise 62 is correct.\")"
   ]
  },
  {
   "cell_type": "code",
   "execution_count": 136,
   "metadata": {},
   "outputs": [
    {
     "name": "stdout",
     "output_type": "stream",
     "text": [
      "Exercise 63 is correct.\n"
     ]
    }
   ],
   "source": [
    "# Exercise 63\n",
    "# Write a function definition named mode that takes in sequence of numbers and returns the most commonly occuring value\n",
    "def mode(x):\n",
    "    if x ==[]:\n",
    "        return None\n",
    "    else: \n",
    "        return max(set(x), key = x.count)\n",
    "      \n",
    "assert mode([1, 2, 2, 3, 4]) == 2\n",
    "assert mode([1, 1, 2, 3]) == 1\n",
    "assert mode([2, 2, 3, 3, 3]) == 3\n",
    "print(\"Exercise 63 is correct.\")"
   ]
  },
  {
   "cell_type": "code",
   "execution_count": 137,
   "metadata": {
    "execution": {
     "iopub.execute_input": "2021-09-04T22:03:53.949053Z",
     "iopub.status.busy": "2021-09-04T22:03:53.948666Z",
     "iopub.status.idle": "2021-09-04T22:03:53.955359Z",
     "shell.execute_reply": "2021-09-04T22:03:53.954373Z",
     "shell.execute_reply.started": "2021-09-04T22:03:53.949001Z"
    }
   },
   "outputs": [
    {
     "name": "stdout",
     "output_type": "stream",
     "text": [
      "Exercise 64 is correct.\n"
     ]
    }
   ],
   "source": [
    "# Exercise 64\n",
    "# Write a function definition named product_of_all that takes in sequence of numbers and returns the product of multiplying all the numbers together\n",
    "def product_of_all(seq):\n",
    "    answer = 1\n",
    "    for i in seq:\n",
    "        answer = answer * i\n",
    "    return answer\n",
    "assert product_of_all([1, 2, 3]) == 6\n",
    "assert product_of_all([3, 4, 5]) == 60\n",
    "assert product_of_all([2, 2, 3, 0]) == 0\n",
    "print(\"Exercise 64 is correct.\")"
   ]
  },
  {
   "cell_type": "markdown",
   "metadata": {},
   "source": [
    "## Applying functions to lists"
   ]
  },
  {
   "cell_type": "code",
   "execution_count": 140,
   "metadata": {
    "execution": {
     "iopub.execute_input": "2021-09-04T22:08:46.428169Z",
     "iopub.status.busy": "2021-09-04T22:08:46.427637Z",
     "iopub.status.idle": "2021-09-04T22:08:46.436188Z",
     "shell.execute_reply": "2021-09-04T22:08:46.435171Z",
     "shell.execute_reply.started": "2021-09-04T22:08:46.428110Z"
    }
   },
   "outputs": [
    {
     "name": "stdout",
     "output_type": "stream",
     "text": [
      "Exercise 65 is correct.\n"
     ]
    }
   ],
   "source": [
    "# Exercise 65\n",
    "# Write a function definition named get_highest_number that takes in sequence of numbers and returns the largest number.\n",
    "def get_highest_number(seq):\n",
    "    return max(seq)\n",
    "assert get_highest_number([1, 2, 3]) == 3\n",
    "assert get_highest_number([-5, -4, -3, -2, -1, 1, 2, 3, 4, 5]) == 5\n",
    "assert get_highest_number([-5, -3, 1]) == 1\n",
    "print(\"Exercise 65 is correct.\")"
   ]
  },
  {
   "cell_type": "code",
   "execution_count": 141,
   "metadata": {
    "execution": {
     "iopub.execute_input": "2021-09-04T22:09:04.056786Z",
     "iopub.status.busy": "2021-09-04T22:09:04.056218Z",
     "iopub.status.idle": "2021-09-04T22:09:04.067250Z",
     "shell.execute_reply": "2021-09-04T22:09:04.066010Z",
     "shell.execute_reply.started": "2021-09-04T22:09:04.056719Z"
    }
   },
   "outputs": [
    {
     "name": "stdout",
     "output_type": "stream",
     "text": [
      "Exercise 66 is correct.\n"
     ]
    }
   ],
   "source": [
    "# Exercise 66\n",
    "# Write a function definition named get_smallest_number that takes in sequence of numbers and returns the smallest number.\n",
    "def get_smallest_number(seq):\n",
    "    return min(seq)\n",
    "assert get_smallest_number([1, 3, 2]) == 1\n",
    "assert get_smallest_number([5, -5, -4, -3, -2, -1, 1, 2, 3, 4]) == -5\n",
    "assert get_smallest_number([-4, -3, 1, -10]) == -10\n",
    "print(\"Exercise 66 is correct.\")"
   ]
  },
  {
   "cell_type": "code",
   "execution_count": 150,
   "metadata": {
    "execution": {
     "iopub.execute_input": "2021-09-04T22:18:21.092715Z",
     "iopub.status.busy": "2021-09-04T22:18:21.092371Z",
     "iopub.status.idle": "2021-09-04T22:18:21.101015Z",
     "shell.execute_reply": "2021-09-04T22:18:21.099569Z",
     "shell.execute_reply.started": "2021-09-04T22:18:21.092660Z"
    }
   },
   "outputs": [
    {
     "name": "stdout",
     "output_type": "stream",
     "text": [
      "Exercise 67 is correct.\n"
     ]
    }
   ],
   "source": [
    "# Exercise 67\n",
    "# Write a function definition named only_odd_numbers that takes in sequence of numbers and returns the odd numbers in a list.\n",
    "def only_odd_numbers(seq):\n",
    "    odd = []\n",
    "    for i in seq:\n",
    "        if i%2 !=0:\n",
    "            odd.append(i)\n",
    "    return odd\n",
    "\n",
    "    \n",
    "assert only_odd_numbers([1, 2, 3]) == [1, 3]\n",
    "assert only_odd_numbers([-5, -4, -3, -2, -1, 1, 2, 3, 4, 5]) == [-5, -3, -1, 1, 3, 5]\n",
    "assert only_odd_numbers([-4, -3, 1]) == [-3, 1]\n",
    "assert only_odd_numbers([2, 2, 2, 2, 2]) == []\n",
    "print(\"Exercise 67 is correct.\")"
   ]
  },
  {
   "cell_type": "code",
   "execution_count": 152,
   "metadata": {
    "execution": {
     "iopub.execute_input": "2021-09-04T22:40:21.070878Z",
     "iopub.status.busy": "2021-09-04T22:40:21.070383Z",
     "iopub.status.idle": "2021-09-04T22:40:21.080278Z",
     "shell.execute_reply": "2021-09-04T22:40:21.079128Z",
     "shell.execute_reply.started": "2021-09-04T22:40:21.070815Z"
    }
   },
   "outputs": [
    {
     "name": "stdout",
     "output_type": "stream",
     "text": [
      "Exercise 68 is correct.\n"
     ]
    }
   ],
   "source": [
    "# Exercise 68\n",
    "# Write a function definition named only_even_numbers that takes in sequence of numbers and returns the even numbers in a list.\n",
    "def only_even_numbers(seq):\n",
    "    evens = []\n",
    "    for i in seq:\n",
    "        if i%2 ==0:\n",
    "            evens.append(i)\n",
    "    return evens\n",
    "\n",
    "assert only_even_numbers([1, 2, 3]) == [2]\n",
    "assert only_even_numbers([-5, -4, -3, -2, -1, 1, 2, 3, 4, 5]) == [-4, -2, 2, 4]\n",
    "assert only_even_numbers([-4, -3, 1]) == [-4]\n",
    "assert only_even_numbers([1, 1, 1, 1, 1, 1]) == []\n",
    "print(\"Exercise 68 is correct.\")"
   ]
  },
  {
   "cell_type": "code",
   "execution_count": 153,
   "metadata": {
    "execution": {
     "iopub.execute_input": "2021-09-04T22:41:54.128060Z",
     "iopub.status.busy": "2021-09-04T22:41:54.127721Z",
     "iopub.status.idle": "2021-09-04T22:41:54.135147Z",
     "shell.execute_reply": "2021-09-04T22:41:54.134222Z",
     "shell.execute_reply.started": "2021-09-04T22:41:54.128011Z"
    }
   },
   "outputs": [
    {
     "name": "stdout",
     "output_type": "stream",
     "text": [
      "Exercise 69 is correct.\n"
     ]
    }
   ],
   "source": [
    "# Exercise 69\n",
    "# Write a function definition named only_positive_numbers that takes in sequence of numbers and returns the positive numbers in a list.\n",
    "def only_positive_numbers(seq):\n",
    "    pos = []\n",
    "    for i in seq:\n",
    "        if i > 0:\n",
    "            pos.append(i)\n",
    "    return pos\n",
    "assert only_positive_numbers([1, 2, 3]) == [1, 2, 3]\n",
    "assert only_positive_numbers([-5, -4, -3, -2, -1, 1, 2, 3, 4, 5]) == [1, 2, 3, 4, 5]\n",
    "assert only_positive_numbers([-4, -3, 1]) == [1]\n",
    "print(\"Exercise 69 is correct.\")"
   ]
  },
  {
   "cell_type": "code",
   "execution_count": 154,
   "metadata": {
    "execution": {
     "iopub.execute_input": "2021-09-04T22:45:43.698318Z",
     "iopub.status.busy": "2021-09-04T22:45:43.697947Z",
     "iopub.status.idle": "2021-09-04T22:45:43.705832Z",
     "shell.execute_reply": "2021-09-04T22:45:43.704908Z",
     "shell.execute_reply.started": "2021-09-04T22:45:43.698259Z"
    }
   },
   "outputs": [
    {
     "name": "stdout",
     "output_type": "stream",
     "text": [
      "Exercise 70 is correct.\n"
     ]
    }
   ],
   "source": [
    "# Exercise 70\n",
    "# Write a function definition named only_negative_numbers that takes in sequence of numbers and returns the negative numbers in a list.\n",
    "def only_negative_numbers(seq):\n",
    "    neg = []\n",
    "    for i in seq:\n",
    "        if i < 0:\n",
    "            neg.append(i)\n",
    "    return neg\n",
    "assert only_negative_numbers([1, 2, 3]) == []\n",
    "assert only_negative_numbers([-5, -4, -3, -2, -1, 1, 2, 3, 4, 5]) == [-5, -4, -3, -2, -1]\n",
    "assert only_negative_numbers([-4, -3, 1]) == [-4, -3]\n",
    "print(\"Exercise 70 is correct.\")"
   ]
  },
  {
   "cell_type": "code",
   "execution_count": 159,
   "metadata": {
    "execution": {
     "iopub.execute_input": "2021-09-04T22:47:20.852621Z",
     "iopub.status.busy": "2021-09-04T22:47:20.852298Z",
     "iopub.status.idle": "2021-09-04T22:47:20.859131Z",
     "shell.execute_reply": "2021-09-04T22:47:20.858230Z",
     "shell.execute_reply.started": "2021-09-04T22:47:20.852565Z"
    }
   },
   "outputs": [
    {
     "name": "stdout",
     "output_type": "stream",
     "text": [
      "Exercise 71 is correct.\n"
     ]
    }
   ],
   "source": [
    "# Exercise 71\n",
    "# Write a function definition named has_evens that takes in sequence of numbers and returns True if there are any even numbers in the sequence\n",
    "def has_evens(seq):\n",
    "    for i in seq:\n",
    "        if i%2 ==0:\n",
    "            return True\n",
    "    else:\n",
    "        return False\n",
    "assert has_evens([1, 2, 3]) == True\n",
    "assert has_evens([2, 5, 6]) == True\n",
    "assert has_evens([3, 3, 3]) == False\n",
    "assert has_evens([]) == False\n",
    "print(\"Exercise 71 is correct.\")"
   ]
  },
  {
   "cell_type": "code",
   "execution_count": 160,
   "metadata": {
    "execution": {
     "iopub.execute_input": "2021-09-04T22:48:59.553304Z",
     "iopub.status.busy": "2021-09-04T22:48:59.552916Z",
     "iopub.status.idle": "2021-09-04T22:48:59.560118Z",
     "shell.execute_reply": "2021-09-04T22:48:59.559159Z",
     "shell.execute_reply.started": "2021-09-04T22:48:59.553242Z"
    }
   },
   "outputs": [
    {
     "name": "stdout",
     "output_type": "stream",
     "text": [
      "Exercise 72 is correct.\n"
     ]
    }
   ],
   "source": [
    "# Exercise 72\n",
    "# Write a function definition named count_evens that takes in sequence of numbers and returns the number of even numbers\n",
    "def count_evens(seq):\n",
    "    count = 0\n",
    "    for i in seq:\n",
    "        if i%2 ==0:\n",
    "            count +=1\n",
    "    return count\n",
    "assert count_evens([1, 2, 3]) == 1\n",
    "assert count_evens([2, 5, 6]) == 2\n",
    "assert count_evens([3, 3, 3]) == 0\n",
    "assert count_evens([5, 6, 7, 8] ) == 2\n",
    "print(\"Exercise 72 is correct.\")"
   ]
  },
  {
   "cell_type": "code",
   "execution_count": 161,
   "metadata": {
    "execution": {
     "iopub.execute_input": "2021-09-04T22:51:38.649950Z",
     "iopub.status.busy": "2021-09-04T22:51:38.649573Z",
     "iopub.status.idle": "2021-09-04T22:51:38.657151Z",
     "shell.execute_reply": "2021-09-04T22:51:38.655871Z",
     "shell.execute_reply.started": "2021-09-04T22:51:38.649900Z"
    }
   },
   "outputs": [
    {
     "name": "stdout",
     "output_type": "stream",
     "text": [
      "Exercise 73 is correct.\n"
     ]
    }
   ],
   "source": [
    "# Exercise 73\n",
    "# Write a function definition named has_odds that takes in sequence of numbers and returns True if there are any odd numbers in the sequence\n",
    "def has_odds(seq):\n",
    "    for i in seq:\n",
    "        if i%2 !=0:\n",
    "            return True\n",
    "    else:\n",
    "        return False\n",
    "    \n",
    "assert has_odds([1, 2, 3]) == True\n",
    "assert has_odds([2, 5, 6]) == True\n",
    "assert has_odds([3, 3, 3]) == True\n",
    "assert has_odds([2, 4, 6]) == False\n",
    "print(\"Exercise 73 is correct.\")"
   ]
  },
  {
   "cell_type": "code",
   "execution_count": 162,
   "metadata": {
    "execution": {
     "iopub.execute_input": "2021-09-04T22:52:37.799227Z",
     "iopub.status.busy": "2021-09-04T22:52:37.798886Z",
     "iopub.status.idle": "2021-09-04T22:52:37.806794Z",
     "shell.execute_reply": "2021-09-04T22:52:37.805801Z",
     "shell.execute_reply.started": "2021-09-04T22:52:37.799178Z"
    }
   },
   "outputs": [
    {
     "name": "stdout",
     "output_type": "stream",
     "text": [
      "Exercise 74 is correct.\n"
     ]
    }
   ],
   "source": [
    "# Exercise 74\n",
    "# Write a function definition named count_odds that takes in sequence of numbers and returns True if there are any odd numbers in the sequence\n",
    "def count_odds(seq):\n",
    "    count = 0\n",
    "    for i in seq:\n",
    "        if i%2 !=0:\n",
    "            count +=1\n",
    "    return count\n",
    "assert count_odds([1, 2, 3]) == 2\n",
    "assert count_odds([2, 5, 6]) == 1\n",
    "assert count_odds([3, 3, 3]) == 3\n",
    "assert count_odds([2, 4, 6]) == 0\n",
    "print(\"Exercise 74 is correct.\")"
   ]
  },
  {
   "cell_type": "code",
   "execution_count": 163,
   "metadata": {
    "execution": {
     "iopub.execute_input": "2021-09-04T22:56:07.863271Z",
     "iopub.status.busy": "2021-09-04T22:56:07.862934Z",
     "iopub.status.idle": "2021-09-04T22:56:07.870216Z",
     "shell.execute_reply": "2021-09-04T22:56:07.869480Z",
     "shell.execute_reply.started": "2021-09-04T22:56:07.863222Z"
    }
   },
   "outputs": [
    {
     "name": "stdout",
     "output_type": "stream",
     "text": [
      "Exercise 75 is correct.\n"
     ]
    }
   ],
   "source": [
    "# Exercise 75\n",
    "# Write a function definition named count_negatives that takes in sequence of numbers and returns a count of the number of negative numbers\n",
    "def count_negatives(seq):\n",
    "    count = 0\n",
    "    for i in seq:\n",
    "        if i < 0:\n",
    "            count +=1\n",
    "    return count\n",
    "assert count_negatives([1, -2, 3]) == 1\n",
    "assert count_negatives([2, -5, -6]) == 2\n",
    "assert count_negatives([3, 3, 3]) == 0\n",
    "print(\"Exercise 75 is correct.\")"
   ]
  },
  {
   "cell_type": "code",
   "execution_count": 164,
   "metadata": {
    "execution": {
     "iopub.execute_input": "2021-09-04T22:56:52.623433Z",
     "iopub.status.busy": "2021-09-04T22:56:52.622896Z",
     "iopub.status.idle": "2021-09-04T22:56:52.630678Z",
     "shell.execute_reply": "2021-09-04T22:56:52.629792Z",
     "shell.execute_reply.started": "2021-09-04T22:56:52.623362Z"
    }
   },
   "outputs": [
    {
     "name": "stdout",
     "output_type": "stream",
     "text": [
      "Exercise 76 is correct.\n"
     ]
    }
   ],
   "source": [
    "# Exercise 76\n",
    "# Write a function definition named count_positives that takes in sequence of numbers and returns a count of the number of positive numbers\n",
    "def count_positives(seq):\n",
    "    count = 0\n",
    "    for i in seq:\n",
    "        if i > 0:\n",
    "            count +=1\n",
    "    return count\n",
    "assert count_positives([1, -2, 3]) == 2\n",
    "assert count_positives([2, -5, -6]) == 1\n",
    "assert count_positives([3, 3, 3]) == 3\n",
    "assert count_positives([-2, -1, -5]) == 0\n",
    "print(\"Exercise 76 is correct.\")"
   ]
  },
  {
   "cell_type": "code",
   "execution_count": 2,
   "metadata": {
    "execution": {
     "iopub.execute_input": "2021-09-04T23:29:32.688051Z",
     "iopub.status.busy": "2021-09-04T23:29:32.687695Z",
     "iopub.status.idle": "2021-09-04T23:29:32.696696Z",
     "shell.execute_reply": "2021-09-04T23:29:32.695687Z",
     "shell.execute_reply.started": "2021-09-04T23:29:32.687987Z"
    }
   },
   "outputs": [
    {
     "name": "stdout",
     "output_type": "stream",
     "text": [
      "Exercise 77 is correct.\n"
     ]
    }
   ],
   "source": [
    "# Exercise 77\n",
    "# Write a function definition named only_positive_evens that takes in sequence of numbers and returns a list containing all the positive evens from the sequence\n",
    "def only_positive_evens(seq):\n",
    "    desired = []\n",
    "    for i in seq:\n",
    "        if i>0 and i%2==0:\n",
    "            desired.append(i)\n",
    "    return desired\n",
    "    \n",
    "assert only_positive_evens([1, -2, 3]) == []\n",
    "assert only_positive_evens([2, -5, -6]) == [2]\n",
    "assert only_positive_evens([3, 3, 4, 6]) == [4, 6]\n",
    "assert only_positive_evens([2, 3, 4, -1, -5]) == [2, 4]\n",
    "print(\"Exercise 77 is correct.\")"
   ]
  },
  {
   "cell_type": "code",
   "execution_count": 3,
   "metadata": {
    "execution": {
     "iopub.execute_input": "2021-09-04T23:29:55.965527Z",
     "iopub.status.busy": "2021-09-04T23:29:55.964973Z",
     "iopub.status.idle": "2021-09-04T23:29:55.973741Z",
     "shell.execute_reply": "2021-09-04T23:29:55.972877Z",
     "shell.execute_reply.started": "2021-09-04T23:29:55.965229Z"
    }
   },
   "outputs": [
    {
     "name": "stdout",
     "output_type": "stream",
     "text": [
      "Exercise 78 is correct.\n"
     ]
    }
   ],
   "source": [
    "# Exercise 78\n",
    "# Write a function definition named only_positive_odds that takes in sequence of numbers and returns a list containing all the positive odd numbers from the sequence\n",
    "def only_positive_odds(seq):\n",
    "    desired = []\n",
    "    for i in seq:\n",
    "        if i>0 and i%2!=0:\n",
    "            desired.append(i)\n",
    "    return desired\n",
    "assert only_positive_odds([1, -2, 3]) == [1, 3]\n",
    "assert only_positive_odds([2, -5, -6]) == []\n",
    "assert only_positive_odds([3, 3, 4, 6]) == [3, 3]\n",
    "assert only_positive_odds([2, 3, 4, -1, -5]) == [3]\n",
    "print(\"Exercise 78 is correct.\")"
   ]
  },
  {
   "cell_type": "code",
   "execution_count": 4,
   "metadata": {
    "execution": {
     "iopub.execute_input": "2021-09-04T23:30:35.336281Z",
     "iopub.status.busy": "2021-09-04T23:30:35.335988Z",
     "iopub.status.idle": "2021-09-04T23:30:35.344778Z",
     "shell.execute_reply": "2021-09-04T23:30:35.343867Z",
     "shell.execute_reply.started": "2021-09-04T23:30:35.336237Z"
    }
   },
   "outputs": [
    {
     "name": "stdout",
     "output_type": "stream",
     "text": [
      "Exercise 79 is correct.\n"
     ]
    }
   ],
   "source": [
    "# Exercise 79\n",
    "# Write a function definition named only_negative_evens that takes in sequence of numbers and returns a list containing all the negative even numbers from the sequence\n",
    "def only_negative_evens(seq):\n",
    "    desired = []\n",
    "    for i in seq:\n",
    "        if i<0 and i%2==0:\n",
    "            desired.append(i)\n",
    "    return desired\n",
    "assert only_negative_evens([1, -2, 3]) == [-2]\n",
    "assert only_negative_evens([2, -5, -6]) == [-6]\n",
    "assert only_negative_evens([3, 3, 4, 6]) == []\n",
    "assert only_negative_evens([-2, 3, 4, -1, -4]) == [-2, -4]\n",
    "print(\"Exercise 79 is correct.\")"
   ]
  },
  {
   "cell_type": "code",
   "execution_count": 6,
   "metadata": {
    "execution": {
     "iopub.execute_input": "2021-09-04T23:36:27.821987Z",
     "iopub.status.busy": "2021-09-04T23:36:27.821631Z",
     "iopub.status.idle": "2021-09-04T23:36:27.831360Z",
     "shell.execute_reply": "2021-09-04T23:36:27.830376Z",
     "shell.execute_reply.started": "2021-09-04T23:36:27.821933Z"
    }
   },
   "outputs": [
    {
     "name": "stdout",
     "output_type": "stream",
     "text": [
      "Exercise 80 is correct.\n"
     ]
    }
   ],
   "source": [
    "# Exercise 80\n",
    "# Write a function definition named only_negative_odds that takes in sequence of numbers and returns a list containing all the negative odd numbers from the sequence\n",
    "def only_negative_odds(seq):\n",
    "    desired = []\n",
    "    for i in seq:\n",
    "        if i<0 and i%2!=0:\n",
    "            desired.append(i)\n",
    "    return desired\n",
    "assert only_negative_odds([1, -2, 3]) == []\n",
    "assert only_negative_odds([2, -5, -6]) == [-5]\n",
    "assert only_negative_odds([3, 3, 4, 6]) == []\n",
    "assert only_negative_odds([2, -3, 4, -1, -4]) == [-3, -1]\n",
    "print(\"Exercise 80 is correct.\")"
   ]
  },
  {
   "cell_type": "code",
   "execution_count": 9,
   "metadata": {
    "execution": {
     "iopub.execute_input": "2021-09-04T23:38:50.296261Z",
     "iopub.status.busy": "2021-09-04T23:38:50.295941Z",
     "iopub.status.idle": "2021-09-04T23:38:50.303367Z",
     "shell.execute_reply": "2021-09-04T23:38:50.302134Z",
     "shell.execute_reply.started": "2021-09-04T23:38:50.296212Z"
    }
   },
   "outputs": [
    {
     "name": "stdout",
     "output_type": "stream",
     "text": [
      "Exercise 81 is correct.\n"
     ]
    }
   ],
   "source": [
    "# Exercise 81\n",
    "# Write a function definition named shortest_string that takes in a list of strings and returns the shortest string in the list.\n",
    "def shortest_string(seq):\n",
    "    return min(seq, key=len)\n",
    "assert shortest_string([\"kiwi\", \"mango\", \"strawberry\"]) == \"kiwi\"\n",
    "assert shortest_string([\"hello\", \"everybody\"]) == \"hello\"\n",
    "assert shortest_string([\"mary\", \"had\", \"a\", \"little\", \"lamb\"]) == \"a\"\n",
    "print(\"Exercise 81 is correct.\")"
   ]
  },
  {
   "cell_type": "code",
   "execution_count": 10,
   "metadata": {
    "execution": {
     "iopub.execute_input": "2021-09-04T23:41:23.305313Z",
     "iopub.status.busy": "2021-09-04T23:41:23.304949Z",
     "iopub.status.idle": "2021-09-04T23:41:23.312320Z",
     "shell.execute_reply": "2021-09-04T23:41:23.311174Z",
     "shell.execute_reply.started": "2021-09-04T23:41:23.305252Z"
    }
   },
   "outputs": [
    {
     "name": "stdout",
     "output_type": "stream",
     "text": [
      "Exercise 82 is correct.\n"
     ]
    }
   ],
   "source": [
    "# Exercise 82\n",
    "# Write a function definition named longest_string that takes in sequence of strings and returns the longest string in the list.\n",
    "def longest_string(seq):\n",
    "    return max(seq, key=len)\n",
    "\n",
    "assert longest_string([\"kiwi\", \"mango\", \"strawberry\"]) == \"strawberry\"\n",
    "assert longest_string([\"hello\", \"everybody\"]) == \"everybody\"\n",
    "assert longest_string([\"mary\", \"had\", \"a\", \"little\", \"lamb\"]) == \"little\"\n",
    "print(\"Exercise 82 is correct.\")"
   ]
  },
  {
   "cell_type": "markdown",
   "metadata": {},
   "source": [
    "## Working with sets\n",
    "**Hint** Take a look at the `set` function in Python, the `set` data type, and built-in `set` methods."
   ]
  },
  {
   "cell_type": "code",
   "execution_count": null,
   "metadata": {
    "execution": {
     "iopub.status.busy": "2021-09-04T21:10:35.591502Z",
     "iopub.status.idle": "2021-09-04T21:10:35.591974Z"
    }
   },
   "outputs": [],
   "source": [
    "# Example set function usage\n",
    "print(set(\"kiwi\"))\n",
    "print(set([1, 2, 2, 3, 3, 3, 4, 4, 4, 4]))"
   ]
  },
  {
   "cell_type": "code",
   "execution_count": 13,
   "metadata": {
    "execution": {
     "iopub.execute_input": "2021-09-04T23:42:30.988479Z",
     "iopub.status.busy": "2021-09-04T23:42:30.988168Z",
     "iopub.status.idle": "2021-09-04T23:42:30.995833Z",
     "shell.execute_reply": "2021-09-04T23:42:30.995006Z",
     "shell.execute_reply.started": "2021-09-04T23:42:30.988432Z"
    }
   },
   "outputs": [
    {
     "name": "stdout",
     "output_type": "stream",
     "text": [
      "Exercise 83 is correct.\n"
     ]
    }
   ],
   "source": [
    "# Exercise 83\n",
    "# Write a function definition named get_unique_values that takes in a list and returns a set with only the unique values from that list.\n",
    "def get_unique_values(seq):\n",
    "    return set(seq)\n",
    "assert get_unique_values([\"ant\", \"ant\", \"mosquito\", \"mosquito\", \"ladybug\"]) == {\"ant\", \"mosquito\", \"ladybug\"}\n",
    "assert get_unique_values([\"b\", \"a\", \"n\", \"a\", \"n\", \"a\", \"s\"]) == {\"b\", \"a\", \"n\", \"s\"}\n",
    "assert get_unique_values([\"mary\", \"had\", \"a\", \"little\", \"lamb\", \"little\", \"lamb\", \"little\", \"lamb\"]) == {\"mary\", \"had\", \"a\", \"little\", \"lamb\"}\n",
    "print(\"Exercise 83 is correct.\")"
   ]
  },
  {
   "cell_type": "code",
   "execution_count": 14,
   "metadata": {
    "execution": {
     "iopub.execute_input": "2021-09-04T23:44:13.835327Z",
     "iopub.status.busy": "2021-09-04T23:44:13.835026Z",
     "iopub.status.idle": "2021-09-04T23:44:13.843459Z",
     "shell.execute_reply": "2021-09-04T23:44:13.842261Z",
     "shell.execute_reply.started": "2021-09-04T23:44:13.835281Z"
    }
   },
   "outputs": [
    {
     "name": "stdout",
     "output_type": "stream",
     "text": [
      "Exercise 84 is correct.\n"
     ]
    }
   ],
   "source": [
    "# Exercise 84\n",
    "# Write a function definition named get_unique_values_from_two_lists that takes two lists and returns a single set with only the unique values\n",
    "def get_unique_values_from_two_lists(x,y):\n",
    "    return set(x+y)\n",
    "assert get_unique_values_from_two_lists([5, 1, 2, 3], [3, 4, 5, 5]) == {1, 2, 3, 4, 5}\n",
    "assert get_unique_values_from_two_lists([1, 1], [2, 2, 3]) == {1, 2, 3}\n",
    "assert get_unique_values_from_two_lists([\"tomato\", \"mango\", \"kiwi\"], [\"eggplant\", \"tomato\", \"broccoli\"]) == {\"tomato\", \"mango\", \"kiwi\", \"eggplant\", \"broccoli\"}\n",
    "print(\"Exercise 84 is correct.\")"
   ]
  },
  {
   "cell_type": "code",
   "execution_count": 15,
   "metadata": {
    "execution": {
     "iopub.execute_input": "2021-09-04T23:45:04.671711Z",
     "iopub.status.busy": "2021-09-04T23:45:04.671415Z",
     "iopub.status.idle": "2021-09-04T23:45:04.679063Z",
     "shell.execute_reply": "2021-09-04T23:45:04.678238Z",
     "shell.execute_reply.started": "2021-09-04T23:45:04.671658Z"
    }
   },
   "outputs": [
    {
     "name": "stdout",
     "output_type": "stream",
     "text": [
      "Exercise 85 is correct.\n"
     ]
    }
   ],
   "source": [
    "# Exercise 85\n",
    "# Write a function definition named get_values_in_common that takes two lists and returns a single set with the values that each list has in common\n",
    "def get_values_in_common(x,y):\n",
    "    return set(x).intersection(y)\n",
    "assert get_values_in_common([5, 1, 2, 3], [3, 4, 5, 5]) == {3, 5}\n",
    "assert get_values_in_common([1, 2], [2, 2, 3]) == {2}\n",
    "assert get_values_in_common([\"tomato\", \"mango\", \"kiwi\"], [\"eggplant\", \"tomato\", \"broccoli\"]) == {\"tomato\"}\n",
    "print(\"Exercise 85 is correct.\")"
   ]
  },
  {
   "cell_type": "code",
   "execution_count": 16,
   "metadata": {
    "execution": {
     "iopub.execute_input": "2021-09-04T23:45:56.106897Z",
     "iopub.status.busy": "2021-09-04T23:45:56.106612Z",
     "iopub.status.idle": "2021-09-04T23:45:56.115419Z",
     "shell.execute_reply": "2021-09-04T23:45:56.114199Z",
     "shell.execute_reply.started": "2021-09-04T23:45:56.106861Z"
    }
   },
   "outputs": [
    {
     "name": "stdout",
     "output_type": "stream",
     "text": [
      "Exercise 86 is correct.\n"
     ]
    }
   ],
   "source": [
    "# Exercise 86\n",
    "# Write a function definition named get_values_not_in_common that takes two lists and returns a single set with the values that each list does not have in common\n",
    "def get_values_not_in_common(x,y):\n",
    "    return set(x).symmetric_difference(y)\n",
    "assert get_values_not_in_common([5, 1, 2, 3], [3, 4, 5, 5]) == {1, 2, 4}\n",
    "assert get_values_not_in_common([1, 1], [2, 2, 3]) == {1, 2, 3}\n",
    "assert get_values_not_in_common([\"tomato\", \"mango\", \"kiwi\"], [\"eggplant\", \"tomato\", \"broccoli\"]) == {\"mango\", \"kiwi\", \"eggplant\", \"broccoli\"}\n",
    "print(\"Exercise 86 is correct.\")"
   ]
  },
  {
   "cell_type": "markdown",
   "metadata": {},
   "source": [
    "## Working with Dictionaries\n"
   ]
  },
  {
   "cell_type": "code",
   "execution_count": 17,
   "metadata": {
    "execution": {
     "iopub.execute_input": "2021-09-04T23:46:17.173560Z",
     "iopub.status.busy": "2021-09-04T23:46:17.173211Z",
     "iopub.status.idle": "2021-09-04T23:46:17.179375Z",
     "shell.execute_reply": "2021-09-04T23:46:17.178241Z",
     "shell.execute_reply.started": "2021-09-04T23:46:17.173502Z"
    }
   },
   "outputs": [],
   "source": [
    "# Run this cell in order to have these two dictionary variables defined.\n",
    "tukey_paper = {\n",
    "    \"title\": \"The Future of Data Analysis\",\n",
    "    \"author\": \"John W. Tukey\",\n",
    "    \"link\": \"https://projecteuclid.org/euclid.aoms/1177704711\",\n",
    "    \"year_published\": 1962\n",
    "}\n",
    "\n",
    "thomas_paper = {\n",
    "    \"title\": \"A mathematical model of glutathione metabolism\",\n",
    "    \"author\": \"Rachel Thomas\",\n",
    "    \"link\": \"https://www.ncbi.nlm.nih.gov/pubmed/18442411\",\n",
    "    \"year_published\": 2008\n",
    "}"
   ]
  },
  {
   "cell_type": "code",
   "execution_count": 20,
   "metadata": {
    "execution": {
     "iopub.execute_input": "2021-09-04T23:48:15.316093Z",
     "iopub.status.busy": "2021-09-04T23:48:15.315761Z",
     "iopub.status.idle": "2021-09-04T23:48:15.322355Z",
     "shell.execute_reply": "2021-09-04T23:48:15.321109Z",
     "shell.execute_reply.started": "2021-09-04T23:48:15.316036Z"
    }
   },
   "outputs": [
    {
     "name": "stdout",
     "output_type": "stream",
     "text": [
      "Exercise 87 is correct.\n"
     ]
    }
   ],
   "source": [
    "# Exercise 87\n",
    "# Write a function named get_paper_title that takes in a dictionary and returns the title property\n",
    "def get_paper_title(dictionary):\n",
    "    title_name = dictionary['title']\n",
    "    return title_name\n",
    "assert get_paper_title(tukey_paper) == \"The Future of Data Analysis\"\n",
    "assert get_paper_title(thomas_paper) == \"A mathematical model of glutathione metabolism\"\n",
    "print(\"Exercise 87 is correct.\")"
   ]
  },
  {
   "cell_type": "code",
   "execution_count": 22,
   "metadata": {
    "execution": {
     "iopub.execute_input": "2021-09-04T23:50:44.678436Z",
     "iopub.status.busy": "2021-09-04T23:50:44.678120Z",
     "iopub.status.idle": "2021-09-04T23:50:44.684364Z",
     "shell.execute_reply": "2021-09-04T23:50:44.683368Z",
     "shell.execute_reply.started": "2021-09-04T23:50:44.678388Z"
    }
   },
   "outputs": [
    {
     "name": "stdout",
     "output_type": "stream",
     "text": [
      "Exercise 88 is correct.\n"
     ]
    }
   ],
   "source": [
    "# Exercise 88\n",
    "# Write a function named get_year_published that takes in a dictionary and returns the value behind the \"year_published\" key.\n",
    "def get_year_published(dictionary):\n",
    "    year = dictionary['year_published']\n",
    "    return year\n",
    "assert get_year_published(tukey_paper) == 1962\n",
    "assert get_year_published(thomas_paper) == 2008\n",
    "print(\"Exercise 88 is correct.\")"
   ]
  },
  {
   "cell_type": "code",
   "execution_count": 23,
   "metadata": {
    "execution": {
     "iopub.execute_input": "2021-09-04T23:50:48.520660Z",
     "iopub.status.busy": "2021-09-04T23:50:48.520326Z",
     "iopub.status.idle": "2021-09-04T23:50:48.527236Z",
     "shell.execute_reply": "2021-09-04T23:50:48.525113Z",
     "shell.execute_reply.started": "2021-09-04T23:50:48.520610Z"
    }
   },
   "outputs": [],
   "source": [
    "# Run this code to create data for the next two questions\n",
    "book = {\n",
    "    \"title\": \"Genetic Algorithms and Machine Learning for Programmers\",\n",
    "    \"price\": 36.99,\n",
    "    \"author\": \"Frances Buontempo\"\n",
    "}"
   ]
  },
  {
   "cell_type": "code",
   "execution_count": 24,
   "metadata": {
    "execution": {
     "iopub.execute_input": "2021-09-04T23:52:39.387030Z",
     "iopub.status.busy": "2021-09-04T23:52:39.386752Z",
     "iopub.status.idle": "2021-09-04T23:52:39.393195Z",
     "shell.execute_reply": "2021-09-04T23:52:39.392518Z",
     "shell.execute_reply.started": "2021-09-04T23:52:39.386994Z"
    }
   },
   "outputs": [
    {
     "name": "stdout",
     "output_type": "stream",
     "text": [
      "Exercise 89 is complete.\n"
     ]
    }
   ],
   "source": [
    "# Exercise 89\n",
    "# Write a function named get_price that takes in a dictionary and returns the price\n",
    "def get_price(dictionary):\n",
    "    price = dictionary['price']\n",
    "    return price\n",
    "assert get_price(book) == 36.99\n",
    "print(\"Exercise 89 is complete.\")"
   ]
  },
  {
   "cell_type": "code",
   "execution_count": 25,
   "metadata": {
    "execution": {
     "iopub.execute_input": "2021-09-04T23:53:30.043512Z",
     "iopub.status.busy": "2021-09-04T23:53:30.043183Z",
     "iopub.status.idle": "2021-09-04T23:53:30.048977Z",
     "shell.execute_reply": "2021-09-04T23:53:30.048133Z",
     "shell.execute_reply.started": "2021-09-04T23:53:30.043463Z"
    }
   },
   "outputs": [
    {
     "name": "stdout",
     "output_type": "stream",
     "text": [
      "Exercise 90 is complete.\n"
     ]
    }
   ],
   "source": [
    "# Exercise 90\n",
    "# Write a function named get_book_author that takes in a dictionary (the above declared book variable) and returns the author's name\n",
    "def get_book_author(dictionary):\n",
    "    author = dictionary['author']\n",
    "    return author\n",
    "\n",
    "assert get_book_author(book) == \"Frances Buontempo\"\n",
    "print(\"Exercise 90 is complete.\")"
   ]
  },
  {
   "cell_type": "markdown",
   "metadata": {},
   "source": [
    "## Working with Lists of Dictionaries\n",
    "**Hint** If you need an example of lists of dictionaries, see [https://gist.github.com/ryanorsinger/fce8154028a924c1073eac24c7c3f409](https://gist.github.com/ryanorsinger/fce8154028a924c1073eac24c7c3f409)"
   ]
  },
  {
   "cell_type": "code",
   "execution_count": 27,
   "metadata": {
    "execution": {
     "iopub.execute_input": "2021-09-04T23:54:31.391641Z",
     "iopub.status.busy": "2021-09-04T23:54:31.391325Z",
     "iopub.status.idle": "2021-09-04T23:54:31.397932Z",
     "shell.execute_reply": "2021-09-04T23:54:31.396942Z",
     "shell.execute_reply.started": "2021-09-04T23:54:31.391596Z"
    }
   },
   "outputs": [],
   "source": [
    "# Run this cell in order to have some setup data for the next exercises\n",
    "books = [\n",
    "    {\n",
    "        \"title\": \"Genetic Algorithms and Machine Learning for Programmers\",\n",
    "        \"price\": 36.99,\n",
    "        \"author\": \"Frances Buontempo\"\n",
    "    },\n",
    "    {\n",
    "        \"title\": \"The Visual Display of Quantitative Information\",\n",
    "        \"price\": 38.00,\n",
    "        \"author\": \"Edward Tufte\"\n",
    "    },\n",
    "    {\n",
    "        \"title\": \"Practical Object-Oriented Design\",\n",
    "        \"author\": \"Sandi Metz\",\n",
    "        \"price\": 30.47\n",
    "    },\n",
    "    {\n",
    "        \"title\": \"Weapons of Math Destruction\",\n",
    "        \"author\": \"Cathy O'Neil\",\n",
    "        \"price\": 17.44\n",
    "    }\n",
    "]"
   ]
  },
  {
   "cell_type": "code",
   "execution_count": 30,
   "metadata": {
    "execution": {
     "iopub.execute_input": "2021-09-04T23:55:34.033912Z",
     "iopub.status.busy": "2021-09-04T23:55:34.033382Z",
     "iopub.status.idle": "2021-09-04T23:55:34.038999Z",
     "shell.execute_reply": "2021-09-04T23:55:34.038389Z",
     "shell.execute_reply.started": "2021-09-04T23:55:34.033863Z"
    }
   },
   "outputs": [
    {
     "name": "stdout",
     "output_type": "stream",
     "text": [
      "Exercise 91 is complete.\n"
     ]
    }
   ],
   "source": [
    "# Exercise 91\n",
    "# Write a function named get_number_of_books that takes in a list of objects and returns the number of dictionaries in that list.\n",
    "def get_number_of_books(dictionary):\n",
    "    return len(dictionary)\n",
    "    \n",
    "assert get_number_of_books(books) == 4\n",
    "print(\"Exercise 91 is complete.\")"
   ]
  },
  {
   "cell_type": "code",
   "execution_count": 42,
   "metadata": {
    "execution": {
     "iopub.execute_input": "2021-09-05T00:06:46.491457Z",
     "iopub.status.busy": "2021-09-05T00:06:46.490829Z",
     "iopub.status.idle": "2021-09-05T00:06:46.498198Z",
     "shell.execute_reply": "2021-09-05T00:06:46.497495Z",
     "shell.execute_reply.started": "2021-09-05T00:06:46.491393Z"
    }
   },
   "outputs": [
    {
     "name": "stdout",
     "output_type": "stream",
     "text": [
      "Exercise 92 is complete.\n"
     ]
    }
   ],
   "source": [
    "# Exercise 92\n",
    "# Write a function named total_of_book_prices that takes in a list of dictionaries and returns the sum total of all the book prices added together\n",
    "def total_of_book_prices(list_of_dictionaries):\n",
    "    total = 0\n",
    "    for dictionary in list_of_dictionaries:\n",
    "        total +=dictionary['price']\n",
    "    return total\n",
    "        \n",
    "assert total_of_book_prices(books) == 122.9\n",
    "print(\"Exercise 92 is complete.\")"
   ]
  },
  {
   "cell_type": "code",
   "execution_count": 43,
   "metadata": {
    "execution": {
     "iopub.execute_input": "2021-09-05T00:08:46.101630Z",
     "iopub.status.busy": "2021-09-05T00:08:46.101321Z",
     "iopub.status.idle": "2021-09-05T00:08:46.108126Z",
     "shell.execute_reply": "2021-09-05T00:08:46.107072Z",
     "shell.execute_reply.started": "2021-09-05T00:08:46.101593Z"
    }
   },
   "outputs": [
    {
     "name": "stdout",
     "output_type": "stream",
     "text": [
      "Exercise 93 is complete.\n"
     ]
    }
   ],
   "source": [
    "# Exercise 93\n",
    "# Write a function named get_average_book_price that takes in a list of dictionaries and returns the average book price.\n",
    "def get_average_book_price(list_of_dictionaries):\n",
    "    total = 0\n",
    "    for dictionary in list_of_dictionaries:\n",
    "        total +=dictionary['price']\n",
    "    return total/len(list_of_dictionaries)   \n",
    "assert get_average_book_price(books) == 30.725\n",
    "print(\"Exercise 93 is complete.\")"
   ]
  },
  {
   "cell_type": "code",
   "execution_count": 50,
   "metadata": {
    "execution": {
     "iopub.execute_input": "2021-09-05T00:18:07.970046Z",
     "iopub.status.busy": "2021-09-05T00:18:07.969695Z",
     "iopub.status.idle": "2021-09-05T00:18:07.977405Z",
     "shell.execute_reply": "2021-09-05T00:18:07.976553Z",
     "shell.execute_reply.started": "2021-09-05T00:18:07.969986Z"
    }
   },
   "outputs": [
    {
     "name": "stdout",
     "output_type": "stream",
     "text": [
      "Exercise 94 is complete\n"
     ]
    }
   ],
   "source": [
    "# Exercise 94\n",
    "# Write a function called highest_price_book that takes in the above defined list of dictionaries \"books\" and returns the dictionary containing the title, price, and author of the book with the highest priced book.\n",
    "# Hint: Much like sometimes start functions with a variable set to zero, you may want to create a dictionary with the price set to zero to compare to each dictionary's price in the list\n",
    "def highest_price_book(list_of_dictionaries):\n",
    "    highest=0\n",
    "    most_expensive_book = []\n",
    "    for dictionary in list_of_dictionaries:\n",
    "        if dictionary['price'] > highest:\n",
    "            highest = dictionary['price']\n",
    "            most_expensive_book = dictionary\n",
    "    return most_expensive_book\n",
    "\n",
    "assert highest_price_book(books) == {\n",
    "    \"title\": \"The Visual Display of Quantitative Information\",\n",
    "    \"price\": 38.00,\n",
    "    \"author\": \"Edward Tufte\"\n",
    "}\n",
    "\n",
    "print(\"Exercise 94 is complete\")"
   ]
  },
  {
   "cell_type": "code",
   "execution_count": 51,
   "metadata": {
    "execution": {
     "iopub.execute_input": "2021-09-05T00:21:21.558006Z",
     "iopub.status.busy": "2021-09-05T00:21:21.557645Z",
     "iopub.status.idle": "2021-09-05T00:21:21.565303Z",
     "shell.execute_reply": "2021-09-05T00:21:21.564540Z",
     "shell.execute_reply.started": "2021-09-05T00:21:21.557948Z"
    }
   },
   "outputs": [
    {
     "name": "stdout",
     "output_type": "stream",
     "text": [
      "Exercise 95 is complete.\n"
     ]
    }
   ],
   "source": [
    "# Exercise 95\n",
    "# Write a function called lowest_priced_book that takes in the above defined list of dictionaries \"books\" and returns the dictionary containing the title, price, and author of the book with the lowest priced book.\n",
    "# Hint: Much like sometimes start functions with a variable set to zero or float('inf'), you may want to create a dictionary with the price set to float('inf') to compare to each dictionary in the list\n",
    "def lowest_price_book(list_of_dictionaries):\n",
    "    lowest = 10**10\n",
    "    bad_book = []\n",
    "    for dictionary in list_of_dictionaries:\n",
    "        if dictionary['price'] < lowest:\n",
    "            lowest = dictionary['price']\n",
    "            bad_book = dictionary\n",
    "    return bad_book\n",
    "        \n",
    "\n",
    "assert lowest_price_book(books) == {\n",
    "    \"title\": \"Weapons of Math Destruction\",\n",
    "    \"author\": \"Cathy O'Neil\",\n",
    "    \"price\": 17.44\n",
    "}\n",
    "print(\"Exercise 95 is complete.\")"
   ]
  },
  {
   "cell_type": "code",
   "execution_count": 52,
   "metadata": {
    "execution": {
     "iopub.execute_input": "2021-09-05T00:24:17.079464Z",
     "iopub.status.busy": "2021-09-05T00:24:17.079165Z",
     "iopub.status.idle": "2021-09-05T00:24:17.086925Z",
     "shell.execute_reply": "2021-09-05T00:24:17.085522Z",
     "shell.execute_reply.started": "2021-09-05T00:24:17.079426Z"
    }
   },
   "outputs": [],
   "source": [
    "shopping_cart = {\n",
    "    \"tax\": .08,\n",
    "    \"items\": [\n",
    "        {\n",
    "            \"title\": \"orange juice\",\n",
    "            \"price\": 3.99,\n",
    "            \"quantity\": 1\n",
    "        },\n",
    "        {\n",
    "            \"title\": \"rice\",\n",
    "            \"price\": 1.99,\n",
    "            \"quantity\": 3\n",
    "        },\n",
    "        {\n",
    "            \"title\": \"beans\",\n",
    "            \"price\": 0.99,\n",
    "            \"quantity\": 3\n",
    "        },\n",
    "        {\n",
    "            \"title\": \"chili sauce\",\n",
    "            \"price\": 2.99,\n",
    "            \"quantity\": 1\n",
    "        },\n",
    "        {\n",
    "            \"title\": \"chocolate\",\n",
    "            \"price\": 0.75,\n",
    "            \"quantity\": 9\n",
    "        }\n",
    "    ]\n",
    "}"
   ]
  },
  {
   "cell_type": "code",
   "execution_count": 54,
   "metadata": {
    "execution": {
     "iopub.execute_input": "2021-09-05T00:26:21.864425Z",
     "iopub.status.busy": "2021-09-05T00:26:21.863968Z",
     "iopub.status.idle": "2021-09-05T00:26:21.870302Z",
     "shell.execute_reply": "2021-09-05T00:26:21.869334Z",
     "shell.execute_reply.started": "2021-09-05T00:26:21.864381Z"
    }
   },
   "outputs": [
    {
     "name": "stdout",
     "output_type": "stream",
     "text": [
      "Exercise 96 is complete\n"
     ]
    }
   ],
   "source": [
    "# Exercise 96\n",
    "# Write a function named get_tax_rate that takes in the above shopping cart as input and returns the tax rate.\n",
    "# Hint: How do you access a key's value on a dictionary? The tax rate is one key of the entire shopping_cart dictionary.\n",
    "def get_tax_rate(shopping):\n",
    "    tax = shopping['tax']\n",
    "    return tax\n",
    "assert get_tax_rate(shopping_cart) == .08\n",
    "print(\"Exercise 96 is complete\")"
   ]
  },
  {
   "cell_type": "code",
   "execution_count": 59,
   "metadata": {
    "execution": {
     "iopub.execute_input": "2021-09-05T00:28:41.419965Z",
     "iopub.status.busy": "2021-09-05T00:28:41.419661Z",
     "iopub.status.idle": "2021-09-05T00:28:41.426064Z",
     "shell.execute_reply": "2021-09-05T00:28:41.425138Z",
     "shell.execute_reply.started": "2021-09-05T00:28:41.419919Z"
    }
   },
   "outputs": [
    {
     "name": "stdout",
     "output_type": "stream",
     "text": [
      "Exercise 97 is complete.\n"
     ]
    }
   ],
   "source": [
    "# Exercise 97\n",
    "# Write a function named number_of_item_types that takes in the shopping cart as input and returns the number of unique item types in the shopping cart. \n",
    "# We're not yet using the quantity of each item, but rather focusing on determining how many different types of items are in the cart.\n",
    "def number_of_item_types(shopping):\n",
    "    return len(shopping['items'])\n",
    "assert number_of_item_types(shopping_cart) == 5\n",
    "print(\"Exercise 97 is complete.\")"
   ]
  },
  {
   "cell_type": "code",
   "execution_count": 65,
   "metadata": {
    "execution": {
     "iopub.execute_input": "2021-09-05T00:32:34.312797Z",
     "iopub.status.busy": "2021-09-05T00:32:34.312446Z",
     "iopub.status.idle": "2021-09-05T00:32:34.319620Z",
     "shell.execute_reply": "2021-09-05T00:32:34.318653Z",
     "shell.execute_reply.started": "2021-09-05T00:32:34.312737Z"
    }
   },
   "outputs": [
    {
     "name": "stdout",
     "output_type": "stream",
     "text": [
      "Exercise 98 is complete.\n"
     ]
    }
   ],
   "source": [
    "# Exercise 98\n",
    "# Write a function named total_number_of_items that takes in the shopping cart as input and returns the total number all item quantities.\n",
    "# This should return the sum of all of the quantities from each item type\n",
    "def total_number_of_items(shopping):\n",
    "    total = 0\n",
    "    for entries in shopping['items']:\n",
    "        total += entries['quantity']\n",
    "    return total\n",
    "assert total_number_of_items(shopping_cart) == 17\n",
    "print(\"Exercise 98 is complete.\")"
   ]
  },
  {
   "cell_type": "code",
   "execution_count": 67,
   "metadata": {
    "execution": {
     "iopub.execute_input": "2021-09-05T00:34:51.947573Z",
     "iopub.status.busy": "2021-09-05T00:34:51.947076Z",
     "iopub.status.idle": "2021-09-05T00:34:51.954153Z",
     "shell.execute_reply": "2021-09-05T00:34:51.953226Z",
     "shell.execute_reply.started": "2021-09-05T00:34:51.947509Z"
    }
   },
   "outputs": [
    {
     "name": "stdout",
     "output_type": "stream",
     "text": [
      "Exercise 99 is complete.\n"
     ]
    }
   ],
   "source": [
    "# Exercise 99\n",
    "# Write a function named get_average_item_price that takes in the shopping cart as an input and returns the average of all the item prices.\n",
    "# Hint - This should determine the total price divided by the number of types of items. This does not account for each item type's quantity.\n",
    "def get_average_item_price(shopping):\n",
    "    total = 0\n",
    "    for entries in shopping['items']:\n",
    "        total += entries['price']\n",
    "        avg = total/len(shopping['items'])\n",
    "    return avg\n",
    "assert get_average_item_price(shopping_cart) == 2.1420000000000003\n",
    "print(\"Exercise 99 is complete.\")"
   ]
  },
  {
   "cell_type": "code",
   "execution_count": 68,
   "metadata": {
    "execution": {
     "iopub.execute_input": "2021-09-05T00:39:44.444660Z",
     "iopub.status.busy": "2021-09-05T00:39:44.444073Z",
     "iopub.status.idle": "2021-09-05T00:39:44.451481Z",
     "shell.execute_reply": "2021-09-05T00:39:44.450789Z",
     "shell.execute_reply.started": "2021-09-05T00:39:44.444597Z"
    }
   },
   "outputs": [
    {
     "name": "stdout",
     "output_type": "stream",
     "text": [
      "Exercise 100 is complete.\n"
     ]
    }
   ],
   "source": [
    "# Exercise 100\n",
    "# Write a function named get_average_spent_per_item that takes in the shopping cart and returns the average of summing each item's quanties times that item's price.\n",
    "# Hint: You may need to set an initial total price and total total quantity to zero, then sum up and divide that total price by the total quantity\n",
    "def get_average_spent_per_item(shopping):\n",
    "    total = 0\n",
    "    num_of_items = 0\n",
    "    for entry in shopping['items']:\n",
    "        total += entry['price'] * entry['quantity']\n",
    "        num_of_items += entry['quantity']\n",
    "    return total/num_of_items\n",
    "assert get_average_spent_per_item(shopping_cart) == 1.333529411764706\n",
    "print(\"Exercise 100 is complete.\")"
   ]
  },
  {
   "cell_type": "code",
   "execution_count": 72,
   "metadata": {
    "execution": {
     "iopub.execute_input": "2021-09-05T00:45:57.205793Z",
     "iopub.status.busy": "2021-09-05T00:45:57.205487Z",
     "iopub.status.idle": "2021-09-05T00:45:57.213432Z",
     "shell.execute_reply": "2021-09-05T00:45:57.211911Z",
     "shell.execute_reply.started": "2021-09-05T00:45:57.205739Z"
    }
   },
   "outputs": [
    {
     "name": "stdout",
     "output_type": "stream",
     "text": [
      "Exercise 101 is complete.\n"
     ]
    }
   ],
   "source": [
    "# Exercise 101\n",
    "# Write a function named most_spent_on_item that takes in the shopping cart as input and returns the dictionary associated with the item that has the highest price*quantity.\n",
    "# Be sure to do this as programmatically as possible. \n",
    "# Hint: Similarly to how we sometimes begin a function with setting a variable to zero, we need a starting place:\n",
    "# Hint: Consider creating a variable that is a dictionary with the keys \"price\" and \"quantity\" both set to 0. You can then compare each item's price and quantity total to the one from \"most\"\n",
    "def most_spent_on_item(shopping):\n",
    "    total = 0\n",
    "    big_bucks = []\n",
    "    for entry in shopping['items']:\n",
    "        if entry['price'] * entry['quantity'] > total:\n",
    "            total = entry['price'] * entry['quantity']\n",
    "            big_bucks = entry\n",
    "    return big_bucks\n",
    "        \n",
    "assert most_spent_on_item(shopping_cart) == {\n",
    "    \"title\": \"chocolate\",\n",
    "    \"price\": 0.75,\n",
    "    \"quantity\": 9\n",
    "}\n",
    "print(\"Exercise 101 is complete.\")"
   ]
  },
  {
   "cell_type": "markdown",
   "metadata": {},
   "source": [
    "Created by [Ryan Orsinger](https://ryanorsinger.com)\n",
    "\n",
    "Source code on [https://github.com/ryanorsinger/101-exercises](https://github.com/ryanorsinger/101-exercises)"
   ]
  },
  {
   "cell_type": "markdown",
   "metadata": {},
   "source": [
    "# Other related code"
   ]
  },
  {
   "cell_type": "code",
   "execution_count": 4,
   "metadata": {},
   "outputs": [
    {
     "name": "stdout",
     "output_type": "stream",
     "text": [
      "Factorial Completed\n"
     ]
    }
   ],
   "source": [
    "#factorial:\n",
    "\n",
    "#this function will multiply every preceding number from the desired one\n",
    "def factorial(x):\n",
    "    n = 1\n",
    "    for i in range(n, x+1):\n",
    "        n = n * i\n",
    "    return n\n",
    "\n",
    "assert factorial(5) == 120\n",
    "print('Factorial Completed')"
   ]
  },
  {
   "cell_type": "code",
   "execution_count": 3,
   "metadata": {},
   "outputs": [],
   "source": [
    "numbers = [1, 2, 3, 4, 5]"
   ]
  },
  {
   "cell_type": "code",
   "execution_count": 4,
   "metadata": {},
   "outputs": [
    {
     "data": {
      "text/plain": [
       "[1, 4, 9, 16, 25]"
      ]
     },
     "execution_count": 4,
     "metadata": {},
     "output_type": "execute_result"
    }
   ],
   "source": [
    "squares = [n**2 for n in numbers]\n",
    "squares"
   ]
  },
  {
   "cell_type": "code",
   "execution_count": 5,
   "metadata": {},
   "outputs": [
    {
     "data": {
      "text/plain": [
       "['I', 'will', 'split', 'this', 'sentence']"
      ]
     },
     "execution_count": 5,
     "metadata": {},
     "output_type": "execute_result"
    }
   ],
   "source": [
    "sentence = 'I will split this sentence'\n",
    "sentence.split()"
   ]
  },
  {
   "cell_type": "code",
   "execution_count": 7,
   "metadata": {},
   "outputs": [],
   "source": [
    "numbers.reverse()\n"
   ]
  },
  {
   "cell_type": "code",
   "execution_count": 8,
   "metadata": {},
   "outputs": [
    {
     "data": {
      "text/plain": [
       "[5, 4, 3, 2, 1]"
      ]
     },
     "execution_count": 8,
     "metadata": {},
     "output_type": "execute_result"
    }
   ],
   "source": [
    "numbers"
   ]
  },
  {
   "cell_type": "code",
   "execution_count": 5,
   "metadata": {},
   "outputs": [
    {
     "data": {
      "text/plain": [
       "6"
      ]
     },
     "execution_count": 5,
     "metadata": {},
     "output_type": "execute_result"
    }
   ],
   "source": [
    "#find the number of words in a string:\n",
    "def num_of_words(sentence):\n",
    "    sentence = sentence.split()\n",
    "    num = len(sentence)\n",
    "    return num\n",
    "\n",
    "num_of_words('Dinosaurs should have never gone extinct')"
   ]
  },
  {
   "cell_type": "code",
   "execution_count": 9,
   "metadata": {},
   "outputs": [
    {
     "data": {
      "text/plain": [
       "'dinosaurs.'"
      ]
     },
     "execution_count": 9,
     "metadata": {},
     "output_type": "execute_result"
    }
   ],
   "source": [
    "#find the longest word in a string:\n",
    "def longest_word(sentence):\n",
    "    longest = ''\n",
    "    sentence = sentence.split()\n",
    "    for i in sentence:\n",
    "        if len(longest) < len(i):\n",
    "            longest = i\n",
    "    return longest\n",
    "\n",
    "longest_word('There is a word that is longer than dinosaur, and that is its plural, dinosaurs.')"
   ]
  },
  {
   "cell_type": "code",
   "execution_count": 10,
   "metadata": {},
   "outputs": [
    {
     "name": "stdout",
     "output_type": "stream",
     "text": [
      "a\n",
      "waste\n",
      "of\n",
      "space\n"
     ]
    }
   ],
   "source": [
    "#print every word on a new line\n",
    "def new_word_new_line(sentence):\n",
    "    sentence = sentence.split()\n",
    "    for i in sentence:\n",
    "        print(i)\n",
    "        \n",
    "new_word_new_line('a waste of space')"
   ]
  },
  {
   "cell_type": "code",
   "execution_count": 200,
   "metadata": {},
   "outputs": [],
   "source": [
    "#print an array of words as one string\n",
    "array = ['xavier','is','not','a','waste','of','space']\n",
    "\n",
    "def words_one_line(array):\n",
    "    print(*array)"
   ]
  },
  {
   "cell_type": "code",
   "execution_count": 201,
   "metadata": {},
   "outputs": [
    {
     "name": "stdout",
     "output_type": "stream",
     "text": [
      "xavier is not a waste of space\n"
     ]
    }
   ],
   "source": [
    "words_one_line(array)"
   ]
  },
  {
   "cell_type": "code",
   "execution_count": 36,
   "metadata": {},
   "outputs": [],
   "source": [
    "#input number of terms to print\n",
    "def fibonacci(x):\n",
    "    n = x\n",
    "    n1 = 0\n",
    "    n2 = 1\n",
    "    \n",
    "    count = 0\n",
    "    if n > 1:\n",
    "        while count < n:\n",
    "            print(n1)\n",
    "            nth = n1 + n2\n",
    "            n1 = n2\n",
    "            n2 = nth\n",
    "            count +=1\n",
    "    elif n ==1:\n",
    "        print(n1)\n",
    "    else: \n",
    "        print('Input must be positive integer')"
   ]
  },
  {
   "cell_type": "code",
   "execution_count": 204,
   "metadata": {},
   "outputs": [
    {
     "name": "stdout",
     "output_type": "stream",
     "text": [
      "0\n",
      "1\n",
      "1\n",
      "2\n",
      "3\n"
     ]
    }
   ],
   "source": [
    "fibonacci(5)"
   ]
  },
  {
   "cell_type": "code",
   "execution_count": 208,
   "metadata": {},
   "outputs": [],
   "source": [
    "def palindrome(sentence):\n",
    "    sentence = sentence.strip()\n",
    "    forward = list(sentence)\n",
    "    backward = list(sentence)\n",
    "    backward.reverse()\n",
    "    if str(forward) == str(backward):\n",
    "        print ('palindrome')\n",
    "    else: \n",
    "        print ('not a palindrome')"
   ]
  },
  {
   "cell_type": "code",
   "execution_count": 209,
   "metadata": {},
   "outputs": [
    {
     "name": "stdout",
     "output_type": "stream",
     "text": [
      "palindrome\n"
     ]
    }
   ],
   "source": [
    "palindrome('racecar')"
   ]
  },
  {
   "cell_type": "code",
   "execution_count": 196,
   "metadata": {},
   "outputs": [],
   "source": [
    "sentence = 'jolie the bird'"
   ]
  },
  {
   "cell_type": "code",
   "execution_count": 197,
   "metadata": {},
   "outputs": [
    {
     "data": {
      "text/plain": [
       "False"
      ]
     },
     "execution_count": 197,
     "metadata": {},
     "output_type": "execute_result"
    }
   ],
   "source": [
    "sentence = sentence.strip()\n",
    "character_count = len(sentence)\n",
    "forward = list(sentence)\n",
    "backward = list(sentence)\n",
    "backward.reverse()\n",
    "str(forward) == str(backward)\n"
   ]
  },
  {
   "cell_type": "code",
   "execution_count": 190,
   "metadata": {},
   "outputs": [
    {
     "data": {
      "text/plain": [
       "\"['m', 'o', 'm']\""
      ]
     },
     "execution_count": 190,
     "metadata": {},
     "output_type": "execute_result"
    }
   ],
   "source": [
    "str(forward)"
   ]
  },
  {
   "cell_type": "code",
   "execution_count": 191,
   "metadata": {},
   "outputs": [
    {
     "data": {
      "text/plain": [
       "'None'"
      ]
     },
     "execution_count": 191,
     "metadata": {},
     "output_type": "execute_result"
    }
   ],
   "source": [
    "str(backward.reverse())"
   ]
  },
  {
   "cell_type": "code",
   "execution_count": 182,
   "metadata": {},
   "outputs": [
    {
     "data": {
      "text/plain": [
       "'mom'"
      ]
     },
     "execution_count": 182,
     "metadata": {},
     "output_type": "execute_result"
    }
   ],
   "source": [
    "sentence"
   ]
  },
  {
   "cell_type": "code",
   "execution_count": 183,
   "metadata": {},
   "outputs": [
    {
     "data": {
      "text/plain": [
       "['m', 'o', 'm']"
      ]
     },
     "execution_count": 183,
     "metadata": {},
     "output_type": "execute_result"
    }
   ],
   "source": [
    "forward"
   ]
  },
  {
   "cell_type": "code",
   "execution_count": 184,
   "metadata": {},
   "outputs": [
    {
     "data": {
      "text/plain": [
       "['m', 'o', 'm']"
      ]
     },
     "execution_count": 184,
     "metadata": {},
     "output_type": "execute_result"
    }
   ],
   "source": [
    "backward"
   ]
  },
  {
   "cell_type": "code",
   "execution_count": 185,
   "metadata": {},
   "outputs": [
    {
     "data": {
      "text/plain": [
       "['m', 'o', 'm']"
      ]
     },
     "execution_count": 185,
     "metadata": {},
     "output_type": "execute_result"
    }
   ],
   "source": [
    "forward"
   ]
  },
  {
   "cell_type": "code",
   "execution_count": 186,
   "metadata": {},
   "outputs": [
    {
     "data": {
      "text/plain": [
       "['m', 'o', 'm']"
      ]
     },
     "execution_count": 186,
     "metadata": {},
     "output_type": "execute_result"
    }
   ],
   "source": [
    "backward.reverse()\n",
    "backward"
   ]
  },
  {
   "cell_type": "code",
   "execution_count": 1,
   "metadata": {},
   "outputs": [
    {
     "name": "stdout",
     "output_type": "stream",
     "text": [
      "fizzbuzz\n",
      "1\n",
      "2\n",
      "fizz\n",
      "4\n",
      "buzz\n",
      "fizz\n",
      "7\n",
      "8\n",
      "fizz\n",
      "buzz\n",
      "11\n",
      "fizz\n",
      "13\n",
      "14\n",
      "fizzbuzz\n",
      "16\n",
      "17\n",
      "fizz\n",
      "19\n",
      "buzz\n",
      "fizz\n",
      "22\n",
      "23\n",
      "fizz\n",
      "buzz\n",
      "26\n",
      "fizz\n",
      "28\n",
      "29\n",
      "fizzbuzz\n",
      "31\n",
      "32\n",
      "fizz\n",
      "34\n",
      "buzz\n",
      "fizz\n",
      "37\n",
      "38\n",
      "fizz\n",
      "buzz\n",
      "41\n",
      "fizz\n",
      "43\n",
      "44\n",
      "fizzbuzz\n",
      "46\n",
      "47\n",
      "fizz\n",
      "49\n",
      "buzz\n"
     ]
    }
   ],
   "source": [
    "for i in range(0,51):\n",
    "    if i %3 ==0 and i%5 ==0:\n",
    "        print ('fizzbuzz')\n",
    "    elif i%5 ==0:\n",
    "        print ('buzz')\n",
    "    elif i%3 ==0:\n",
    "        print ('fizz')\n",
    "    else:\n",
    "        print(i)"
   ]
  },
  {
   "cell_type": "code",
   "execution_count": 3,
   "metadata": {},
   "outputs": [],
   "source": [
    "def fibonacci(x):\n",
    "    n = x\n",
    "    n1 = 0\n",
    "    n2 = 1\n",
    "    \n",
    "    count = 0\n",
    "    if n > 1:\n",
    "        while count < n:\n",
    "            print(n1)\n",
    "            nth = n1 + n2\n",
    "            n1 = n2\n",
    "            n2 = nth\n",
    "            count +=1\n",
    "    else:\n",
    "        print ('enter a positive integer greater than 1')"
   ]
  },
  {
   "cell_type": "code",
   "execution_count": 4,
   "metadata": {},
   "outputs": [
    {
     "name": "stdout",
     "output_type": "stream",
     "text": [
      "0\n",
      "1\n"
     ]
    }
   ],
   "source": [
    "fibonacci(2)"
   ]
  },
  {
   "cell_type": "code",
   "execution_count": 5,
   "metadata": {},
   "outputs": [],
   "source": [
    "def fibonacci(x):\n",
    "    n = x\n",
    "    n1 = 0\n",
    "    n2 = 1\n",
    "    \n",
    "    count = 0\n",
    "    if n > 1:\n",
    "        while count < n:\n",
    "            print(n1)\n",
    "            nth = n1 + n2\n",
    "            n1 = n2\n",
    "            n2 = nth\n",
    "            \n",
    "            count +=1\n",
    "    else:\n",
    "        print ('Please pick a positive integer > 1')"
   ]
  },
  {
   "cell_type": "code",
   "execution_count": 7,
   "metadata": {},
   "outputs": [
    {
     "name": "stdout",
     "output_type": "stream",
     "text": [
      "0\n",
      "1\n",
      "1\n",
      "2\n",
      "3\n",
      "5\n"
     ]
    }
   ],
   "source": [
    "fibonacci(6)"
   ]
  },
  {
   "cell_type": "code",
   "execution_count": 9,
   "metadata": {},
   "outputs": [],
   "source": [
    "def fibonacci(x):\n",
    "    n = x\n",
    "    n1 = 0\n",
    "    n2 = 1\n",
    "\n",
    "    count = 0\n",
    "\n",
    "    if n > 1:\n",
    "        while count < n:\n",
    "            print(n1)\n",
    "            nth = n1 + n2\n",
    "            n1 = n2\n",
    "            n2 = nth\n",
    "\n",
    "            count +=1\n",
    "    elif n == 1:\n",
    "        print(n1)\n",
    "    else:\n",
    "        print('Please enter a positive integer')"
   ]
  },
  {
   "cell_type": "code",
   "execution_count": 13,
   "metadata": {},
   "outputs": [
    {
     "name": "stdout",
     "output_type": "stream",
     "text": [
      "Please enter a positive integer\n"
     ]
    }
   ],
   "source": [
    "fibonacci(-100)"
   ]
  },
  {
   "cell_type": "code",
   "execution_count": 14,
   "metadata": {},
   "outputs": [],
   "source": [
    "def palindrome(sentence):\n",
    "    sentence = sentence.replace(' ','')\n",
    "    forward = list(sentence)\n",
    "    backward = list(sentence)\n",
    "    backward.reverse()\n",
    "    \n",
    "    if str(forward) == str(backward):\n",
    "        return True \n",
    "    else:\n",
    "        return False"
   ]
  },
  {
   "cell_type": "code",
   "execution_count": 20,
   "metadata": {},
   "outputs": [
    {
     "data": {
      "text/plain": [
       "False"
      ]
     },
     "execution_count": 20,
     "metadata": {},
     "output_type": "execute_result"
    }
   ],
   "source": [
    "palindrome('hello')"
   ]
  },
  {
   "cell_type": "code",
   "execution_count": 28,
   "metadata": {},
   "outputs": [],
   "source": [
    "def check_palindrome(sentence):\n",
    "    if len(sentence) %2 ==0:\n",
    "        for i in range(int(len(sentence)/2)):\n",
    "            if sentence[i] != sentence[-i-1]:\n",
    "                return False\n",
    "        return True\n",
    "    \n",
    "    else: \n",
    "        for i in range(int((len(sentence)-1)/2)):\n",
    "            if sentence[i] != sentence[-i-1]:\n",
    "                return False\n",
    "        return True"
   ]
  },
  {
   "cell_type": "code",
   "execution_count": 32,
   "metadata": {},
   "outputs": [
    {
     "data": {
      "text/plain": [
       "False"
      ]
     },
     "execution_count": 32,
     "metadata": {},
     "output_type": "execute_result"
    }
   ],
   "source": [
    "check_palindrome('anna ')"
   ]
  },
  {
   "cell_type": "code",
   "execution_count": 31,
   "metadata": {},
   "outputs": [
    {
     "data": {
      "text/plain": [
       "False"
      ]
     },
     "execution_count": 31,
     "metadata": {},
     "output_type": "execute_result"
    }
   ],
   "source": [
    "check_palindrome('ugh')"
   ]
  },
  {
   "cell_type": "code",
   "execution_count": 35,
   "metadata": {},
   "outputs": [],
   "source": [
    "assert check_palindrome('anna') == True"
   ]
  },
  {
   "cell_type": "code",
   "execution_count": null,
   "metadata": {},
   "outputs": [],
   "source": []
  }
 ],
 "metadata": {
  "kernelspec": {
   "display_name": "Python 3",
   "language": "python",
   "name": "python3"
  },
  "language_info": {
   "codemirror_mode": {
    "name": "ipython",
    "version": 3
   },
   "file_extension": ".py",
   "mimetype": "text/x-python",
   "name": "python",
   "nbconvert_exporter": "python",
   "pygments_lexer": "ipython3",
   "version": "3.8.5"
  }
 },
 "nbformat": 4,
 "nbformat_minor": 4
}
