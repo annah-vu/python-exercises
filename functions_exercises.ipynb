{
 "cells": [
  {
   "cell_type": "code",
   "execution_count": null,
   "metadata": {},
   "outputs": [],
   "source": []
  },
  {
   "cell_type": "code",
   "execution_count": null,
   "metadata": {},
   "outputs": [],
   "source": []
  },
  {
   "cell_type": "code",
   "execution_count": 8,
   "metadata": {},
   "outputs": [
    {
     "data": {
      "text/plain": [
       "8"
      ]
     },
     "execution_count": 8,
     "metadata": {},
     "output_type": "execute_result"
    }
   ],
   "source": [
    "lst = [0,1,2,5]\n",
    "def cumulative_sum(numbers):\n",
    "    for n in range(numbers):\n",
    "        lst.append(numbers)\n",
    "sum(lst) \n",
    "        "
   ]
  },
  {
   "cell_type": "code",
   "execution_count": 9,
   "metadata": {},
   "outputs": [
    {
     "data": {
      "text/plain": [
       "6"
      ]
     },
     "execution_count": 9,
     "metadata": {},
     "output_type": "execute_result"
    }
   ],
   "source": [
    "sum([1,2,3])"
   ]
  },
  {
   "cell_type": "code",
   "execution_count": 3,
   "metadata": {},
   "outputs": [
    {
     "name": "stdout",
     "output_type": "stream",
     "text": [
      "True\n"
     ]
    }
   ],
   "source": [
    "#1.) Define a function named is_two. It should accept one input and return True if the passed input is either the number or the string 2, False otherwise.\n",
    "def is_two(n):\n",
    "    if n == 2 or n == '2':\n",
    "        return True\n",
    "    else:\n",
    "        return False\n",
    "print(is_two(2))"
   ]
  },
  {
   "cell_type": "code",
   "execution_count": 10,
   "metadata": {},
   "outputs": [
    {
     "name": "stdout",
     "output_type": "stream",
     "text": [
      "True\n"
     ]
    }
   ],
   "source": [
    "# 2.) Define a function named is_vowel. It should return True if the passed string is a vowel, False otherwise.\n",
    "def is_vowel(letter):\n",
    "    vowel = set('AEIOUaeiou')\n",
    "    if letter in vowel:\n",
    "        return True\n",
    "    else: \n",
    "        return False\n",
    "print(is_vowel('e'))"
   ]
  },
  {
   "cell_type": "code",
   "execution_count": 15,
   "metadata": {},
   "outputs": [
    {
     "name": "stdout",
     "output_type": "stream",
     "text": [
      "True\n"
     ]
    }
   ],
   "source": [
    "#3.) Define a function named is_consonant. It should return True if the passed string is a consonant, False otherwise. Use your is_vowel function to accomplish this.\n",
    "def is_consonant(letter):\n",
    "    if is_vowel(letter) == False:\n",
    "        return True\n",
    "    else:\n",
    "        return False\n",
    "print(is_consonant('h'))"
   ]
  },
  {
   "cell_type": "code",
   "execution_count": 19,
   "metadata": {},
   "outputs": [
    {
     "name": "stdout",
     "output_type": "stream",
     "text": [
      "Cat\n"
     ]
    }
   ],
   "source": [
    "#4.) Define a function that accepts a string that is a word. The function should capitalize the first letter of the word if the word starts with a consonant.\n",
    "def capitalize_consonant(string):\n",
    "    if is_consonant(string[0]) == True:\n",
    "        return string.capitalize()\n",
    "    else:\n",
    "        return string        \n",
    "print(capitalize_consonant('cat'))"
   ]
  },
  {
   "cell_type": "code",
   "execution_count": 26,
   "metadata": {},
   "outputs": [
    {
     "name": "stdout",
     "output_type": "stream",
     "text": [
      "20.0\n"
     ]
    }
   ],
   "source": [
    "#5.) Define a function named calculate_tip. It should accept a tip percentage (a number between 0 and 1) and the bill total, and return the amount to tip.\n",
    "def calculate_tip(tip_percent, bill_total):\n",
    "    if tip_percent < 0 or tip_percent >= 1:\n",
    "        return print(f'{tip_percent} is invalid.')\n",
    "    else:\n",
    "        return tip_percent * bill_total\n",
    "print(calculate_tip(.20, 100))"
   ]
  },
  {
   "cell_type": "code",
   "execution_count": 35,
   "metadata": {},
   "outputs": [
    {
     "data": {
      "text/plain": [
       "45.0"
      ]
     },
     "execution_count": 35,
     "metadata": {},
     "output_type": "execute_result"
    }
   ],
   "source": [
    "#6.) Define a function named apply_discount. It should accept a original price, and a discount percentage, and return the price after the discount is applied.\n",
    "def apply_discount(og_price, disc_perc):\n",
    "    if disc_perc < 0 or disc_perc > 1:\n",
    "        return print(f'{disc_perc} is not in percentage form')\n",
    "    else:\n",
    "        return og_price - (og_price * disc_perc)\n",
    "apply_discount(50, .10)"
   ]
  },
  {
   "cell_type": "code",
   "execution_count": 43,
   "metadata": {},
   "outputs": [
    {
     "data": {
      "text/plain": [
       "34"
      ]
     },
     "execution_count": 43,
     "metadata": {},
     "output_type": "execute_result"
    }
   ],
   "source": [
    "#7.)Define a function named handle_commas. It should accept a string that is a number that contains commas in it as input, and return a number as output.\n",
    "def handle_commas(num):\n",
    "    num = num.replace(',','')\n",
    "    return int(num)\n",
    "print(handle_commas('3,,,,4,'))"
   ]
  },
  {
   "cell_type": "code",
   "execution_count": 49,
   "metadata": {},
   "outputs": [
    {
     "name": "stdout",
     "output_type": "stream",
     "text": [
      "100 is an A\n"
     ]
    }
   ],
   "source": [
    "#8.) Define a function named get_letter_grade. It should accept a number and return the letter grade associated with that number (A-F).\n",
    "def get_letter_grade(num):\n",
    "    if num > 89:\n",
    "        return (f'{num} is an A')\n",
    "    elif num > 79:\n",
    "        return (f'{num} is a B')\n",
    "    elif num > 69:\n",
    "        return (f'{num} is a C')\n",
    "    elif num > 59:\n",
    "        return (f'{num} is a D')\n",
    "    else:\n",
    "        return (f'{num} is an F')\n",
    "print(get_letter_grade(100))"
   ]
  },
  {
   "cell_type": "code",
   "execution_count": 54,
   "metadata": {},
   "outputs": [
    {
     "name": "stdout",
     "output_type": "stream",
     "text": [
      " lv brds\n"
     ]
    }
   ],
   "source": [
    "#9.) Define a function named remove_vowels that accepts a string and returns a string with all the vowels removed.\n",
    "def remove_vowels(string):\n",
    "    newstring = string\n",
    "    vowels = ('a', 'e', 'i', 'o', 'u')\n",
    "    for x in string.lower():\n",
    "        if x in vowels:\n",
    "            newstring = newstring.replace (x, \"\")\n",
    "    return newstring\n",
    "print(remove_vowels('i love birds'))"
   ]
  },
  {
   "cell_type": "code",
   "execution_count": 60,
   "metadata": {},
   "outputs": [
    {
     "name": "stdout",
     "output_type": "stream",
     "text": [
      "my_name_is_rowdy\n"
     ]
    },
    {
     "data": {
      "text/plain": [
       "'____hmmm__will_this_work'"
      ]
     },
     "execution_count": 60,
     "metadata": {},
     "output_type": "execute_result"
    }
   ],
   "source": [
    "#10.) Define a function named normalize_name. It should accept a string and return a valid python identifier, that is:\n",
    "#anything that is not a valid python identifier should be removed\n",
    "#leading and trailing whitespace should be removed\n",
    "#everything should be lowercase\n",
    "#spaces should be replaced with underscores\n",
    "\n",
    "def normalize_name(string):\n",
    "    string = string.lower()\n",
    "    string = string.strip()\n",
    "    string = string.replace(\" \", \"_\")\n",
    "    for i in string:\n",
    "        if i.isdigit() == True or i.isalpha() == True or i == \"_\":\n",
    "            continue\n",
    "        else:\n",
    "            string = string.replace(i, \"\")\n",
    "    return string\n",
    "    \n",
    "print(normalize_name(' My name is ROWDY!!!@@  '))"
   ]
  },
  {
   "cell_type": "code",
   "execution_count": 59,
   "metadata": {},
   "outputs": [
    {
     "name": "stdout",
     "output_type": "stream",
     "text": [
      "[10, 30, 60, 100, 150]\n"
     ]
    }
   ],
   "source": [
    "#11.) Write a function named cumulative_sum that accepts a list of numbers and returns a list that is the cumulative sum of the numbers in the list.\n",
    "def cumulative_sum(list_of_numbers):\n",
    "    new_list = []\n",
    "    length = len(lists)\n",
    "    new_list = [sum(lists[0:x:1]) for x in range(0, length+1)]\n",
    "    return new_list[1:]\n",
    "\n",
    "lists = [10, 20, 30, 40, 50]\n",
    "print (cumulative_sum(lists))"
   ]
  },
  {
   "cell_type": "code",
   "execution_count": 64,
   "metadata": {},
   "outputs": [
    {
     "data": {
      "text/plain": [
       "[10, 30, 60, 100, 150]"
      ]
     },
     "execution_count": 64,
     "metadata": {},
     "output_type": "execute_result"
    }
   ],
   "source": [
    "def cumulative_sum(numbers):\n",
    "    new_numbers = []\n",
    "    sums = []\n",
    "    for num in numbers:\n",
    "        new_numbers.append(num)\n",
    "        sums.append(sum(new_numbers))\n",
    "    return sums\n",
    "cumulative_sum([10,20,30,40,50])"
   ]
  },
  {
   "cell_type": "code",
   "execution_count": 65,
   "metadata": {},
   "outputs": [
    {
     "data": {
      "text/plain": [
       "[10, 30, 60, 100, 150]"
      ]
     },
     "execution_count": 65,
     "metadata": {},
     "output_type": "execute_result"
    }
   ],
   "source": [
    "def cumulative_sum(num_list):\n",
    "    newlist = []\n",
    "    temp = 0\n",
    "    for i in range(0, len(num_list)):\n",
    "        temp+=num_list[i]\n",
    "        newlist.append(temp)\n",
    "    return newlist\n",
    "cumulative_sum([10,20,30,40,50])"
   ]
  },
  {
   "cell_type": "code",
   "execution_count": 70,
   "metadata": {},
   "outputs": [
    {
     "data": {
      "text/plain": [
       "'8:00'"
      ]
     },
     "execution_count": 70,
     "metadata": {},
     "output_type": "execute_result"
    }
   ],
   "source": [
    "def convert_to_24(str1):\n",
    "    if str1[-2:] == \"AM\" and str1[:2] == \"12\":\n",
    "        return \"00\" + str1[2:-2]\n",
    "    elif str1[-2:] == \"AM\":\n",
    "        return str1[:-2]\n",
    "    elif str1[-2:] == \"PM\" and str1[:2] == \"12\":\n",
    "        return str1[:-2]\n",
    "    else:\n",
    "        return str(int(str1[:2]) + 12) + str1[2:8]\n",
    "    \n",
    "convert_to_24('8:00AM')"
   ]
  },
  {
   "cell_type": "code",
   "execution_count": null,
   "metadata": {},
   "outputs": [],
   "source": []
  }
 ],
 "metadata": {
  "kernelspec": {
   "display_name": "Python 3",
   "language": "python",
   "name": "python3"
  },
  "language_info": {
   "codemirror_mode": {
    "name": "ipython",
    "version": 3
   },
   "file_extension": ".py",
   "mimetype": "text/x-python",
   "name": "python",
   "nbconvert_exporter": "python",
   "pygments_lexer": "ipython3",
   "version": "3.8.5"
  }
 },
 "nbformat": 4,
 "nbformat_minor": 4
}
