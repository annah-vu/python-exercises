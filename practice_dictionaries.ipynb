{
 "cells": [
  {
   "cell_type": "code",
   "execution_count": 1,
   "id": "b85b2d24-f970-49b2-972b-1f42bfabda31",
   "metadata": {},
   "outputs": [],
   "source": [
    "pet_dict = {\n",
    "    \"name\": \"jolie\",\n",
    "    \"form\": \"bird\",\n",
    "    \"color\": \"grey\",\n",
    "    \"age\": 2\n",
    "}"
   ]
  },
  {
   "cell_type": "code",
   "execution_count": 2,
   "id": "10dadd71-8fb2-42f9-940a-18539a11bf62",
   "metadata": {},
   "outputs": [
    {
     "data": {
      "text/plain": [
       "{'name': 'jolie', 'form': 'bird', 'color': 'grey', 'age': 2}"
      ]
     },
     "execution_count": 2,
     "metadata": {},
     "output_type": "execute_result"
    }
   ],
   "source": [
    "pet_dict"
   ]
  },
  {
   "cell_type": "code",
   "execution_count": 3,
   "id": "cb0235ec-d7f0-4476-a9ad-0edfcd2421ec",
   "metadata": {},
   "outputs": [
    {
     "name": "stdout",
     "output_type": "stream",
     "text": [
      "4\n"
     ]
    }
   ],
   "source": [
    "#print number of items\n",
    "print(len(pet_dict))"
   ]
  },
  {
   "cell_type": "code",
   "execution_count": 4,
   "id": "cd57a7c3-600a-4428-b0e3-f85552425241",
   "metadata": {},
   "outputs": [
    {
     "name": "stdout",
     "output_type": "stream",
     "text": [
      "<class 'dict'>\n"
     ]
    }
   ],
   "source": [
    "#make sure it's a dictionary haha\n",
    "print(type(pet_dict))"
   ]
  },
  {
   "cell_type": "code",
   "execution_count": 5,
   "id": "865f92d8-eba4-475c-9acc-bb5db4bbdf22",
   "metadata": {},
   "outputs": [],
   "source": [
    "#get value of 'class' key\n",
    "x = pet_dict.get('class')\n",
    "x"
   ]
  },
  {
   "cell_type": "code",
   "execution_count": 6,
   "id": "59510ad2-1341-4dc2-bac7-f7d12a0ccc9c",
   "metadata": {},
   "outputs": [
    {
     "data": {
      "text/plain": [
       "dict_keys(['name', 'form', 'color', 'age'])"
      ]
     },
     "execution_count": 6,
     "metadata": {},
     "output_type": "execute_result"
    }
   ],
   "source": [
    "#get all keys\n",
    "x = pet_dict.keys()\n",
    "x"
   ]
  },
  {
   "cell_type": "code",
   "execution_count": 7,
   "id": "74f92678-6a27-41c8-a0a1-0a1bd9b9a2e7",
   "metadata": {},
   "outputs": [],
   "source": [
    "#add another key\n",
    "pet_dict['diet'] = 'seed'"
   ]
  },
  {
   "cell_type": "code",
   "execution_count": 8,
   "id": "1a95eaa3-e9bb-4b44-9877-1b9d682b4968",
   "metadata": {},
   "outputs": [
    {
     "data": {
      "text/plain": [
       "{'name': 'jolie', 'form': 'bird', 'color': 'grey', 'age': 2, 'diet': 'seed'}"
      ]
     },
     "execution_count": 8,
     "metadata": {},
     "output_type": "execute_result"
    }
   ],
   "source": [
    "pet_dict"
   ]
  },
  {
   "cell_type": "code",
   "execution_count": 9,
   "id": "309de7bf-e586-4f68-a58e-f22fc0e22697",
   "metadata": {},
   "outputs": [
    {
     "data": {
      "text/plain": [
       "dict_values(['jolie', 'bird', 'grey', 2, 'seed'])"
      ]
     },
     "execution_count": 9,
     "metadata": {},
     "output_type": "execute_result"
    }
   ],
   "source": [
    "#return all values in dictionary\n",
    "pet_dict.values()"
   ]
  },
  {
   "cell_type": "code",
   "execution_count": 10,
   "id": "4b24fe86-d64b-472a-bb31-e72deb2372ed",
   "metadata": {},
   "outputs": [],
   "source": [
    "#change entry\n",
    "pet_dict['diet'] = 'nutriberries'"
   ]
  },
  {
   "cell_type": "code",
   "execution_count": 11,
   "id": "d9c17251-66ab-45a1-8111-38fac9f615a3",
   "metadata": {},
   "outputs": [
    {
     "data": {
      "text/plain": [
       "{'name': 'jolie',\n",
       " 'form': 'bird',\n",
       " 'color': 'grey',\n",
       " 'age': 2,\n",
       " 'diet': 'nutriberries'}"
      ]
     },
     "execution_count": 11,
     "metadata": {},
     "output_type": "execute_result"
    }
   ],
   "source": [
    "pet_dict"
   ]
  },
  {
   "cell_type": "code",
   "execution_count": 12,
   "id": "cdce3c24-c349-4b4e-9510-b97de82b7a88",
   "metadata": {},
   "outputs": [
    {
     "data": {
      "text/plain": [
       "dict_items([('name', 'jolie'), ('form', 'bird'), ('color', 'grey'), ('age', 2), ('diet', 'nutriberries')])"
      ]
     },
     "execution_count": 12,
     "metadata": {},
     "output_type": "execute_result"
    }
   ],
   "source": [
    "#return each item in a dictionary, as tuples in a list\n",
    "pet_dict.items()"
   ]
  },
  {
   "cell_type": "code",
   "execution_count": 13,
   "id": "b4a7e4eb-a256-4a64-b902-c39145d11cc3",
   "metadata": {},
   "outputs": [],
   "source": [
    "def assurance(x):\n",
    "    if x in pet_dict:\n",
    "        print ('Yes, we have this information')\n",
    "    else:\n",
    "        print ('Scientists may still be trying to seek this information')"
   ]
  },
  {
   "cell_type": "code",
   "execution_count": 14,
   "id": "2b7644c9-38a0-46bd-a05c-382b8ceb2872",
   "metadata": {},
   "outputs": [
    {
     "name": "stdout",
     "output_type": "stream",
     "text": [
      "Yes, we have this information\n"
     ]
    }
   ],
   "source": [
    "assurance('form')"
   ]
  },
  {
   "cell_type": "code",
   "execution_count": 15,
   "id": "7d7dc963-a257-4566-9ab4-21453403215d",
   "metadata": {},
   "outputs": [
    {
     "name": "stdout",
     "output_type": "stream",
     "text": [
      "Scientists may still be trying to seek this information\n"
     ]
    }
   ],
   "source": [
    "assurance('beak color')"
   ]
  },
  {
   "cell_type": "code",
   "execution_count": 16,
   "id": "77764849-7c26-43de-b39a-62cf754aade0",
   "metadata": {},
   "outputs": [],
   "source": [
    "#you can also update dictionary entries like so\n",
    "pet_dict.update({'form': 'parrot'})"
   ]
  },
  {
   "cell_type": "code",
   "execution_count": 17,
   "id": "648cab3f-d717-4702-8e6f-b5970dabc5bd",
   "metadata": {},
   "outputs": [
    {
     "data": {
      "text/plain": [
       "{'name': 'jolie',\n",
       " 'form': 'parrot',\n",
       " 'color': 'grey',\n",
       " 'age': 2,\n",
       " 'diet': 'nutriberries'}"
      ]
     },
     "execution_count": 17,
     "metadata": {},
     "output_type": "execute_result"
    }
   ],
   "source": [
    "pet_dict"
   ]
  },
  {
   "cell_type": "code",
   "execution_count": 18,
   "id": "814095a0-3af8-4ad0-b8e2-a8928f5d89bb",
   "metadata": {},
   "outputs": [],
   "source": [
    "#update with new \n",
    "pet_dict.update({'personality': 'sassy'})"
   ]
  },
  {
   "cell_type": "code",
   "execution_count": 19,
   "id": "d903c335-221c-45e2-b6a0-6f9a9a62ae11",
   "metadata": {},
   "outputs": [],
   "source": [
    "#or\n",
    "pet_dict['price'] = 100000"
   ]
  },
  {
   "cell_type": "code",
   "execution_count": 20,
   "id": "6b095328-8823-4963-885f-54c19627fce9",
   "metadata": {},
   "outputs": [
    {
     "data": {
      "text/plain": [
       "{'name': 'jolie',\n",
       " 'form': 'parrot',\n",
       " 'color': 'grey',\n",
       " 'age': 2,\n",
       " 'diet': 'nutriberries',\n",
       " 'personality': 'sassy',\n",
       " 'price': 100000}"
      ]
     },
     "execution_count": 20,
     "metadata": {},
     "output_type": "execute_result"
    }
   ],
   "source": [
    "pet_dict"
   ]
  },
  {
   "cell_type": "code",
   "execution_count": 21,
   "id": "52e6f3b6-ae9d-41d8-9c01-1435e5d7c81d",
   "metadata": {},
   "outputs": [],
   "source": [
    "#remove feature\n",
    "pet_dict.pop('price')\n",
    "\n",
    "#or\n",
    "\n",
    "del pet_dict['personality']"
   ]
  },
  {
   "cell_type": "code",
   "execution_count": 22,
   "id": "139d85a0-485f-4dab-8611-aabe8ea94955",
   "metadata": {},
   "outputs": [],
   "source": [
    "pet_dict = {\n",
    "    'name': 'jolie',\n",
    "     'form': 'parrot',\n",
    "     'color': 'grey',\n",
    "     'age': 2,\n",
    "     'diet': 'nutriberries',\n",
    "     'personality': 'sassy',\n",
    "}"
   ]
  },
  {
   "cell_type": "code",
   "execution_count": 23,
   "id": "0a213e8a-1f75-4214-abe1-92ca8a354b80",
   "metadata": {},
   "outputs": [
    {
     "data": {
      "text/plain": [
       "'sassy'"
      ]
     },
     "execution_count": 23,
     "metadata": {},
     "output_type": "execute_result"
    }
   ],
   "source": [
    "pet_dict['personality']"
   ]
  },
  {
   "cell_type": "code",
   "execution_count": 24,
   "id": "64d64e37-ba16-426d-addd-013a195d1213",
   "metadata": {},
   "outputs": [
    {
     "name": "stdout",
     "output_type": "stream",
     "text": [
      "name\n",
      "form\n",
      "color\n",
      "age\n",
      "diet\n",
      "personality\n"
     ]
    }
   ],
   "source": [
    "#the keys\n",
    "for x in pet_dict.keys():\n",
    "    print (x)"
   ]
  },
  {
   "cell_type": "code",
   "execution_count": 25,
   "id": "8c3a1f33-63d7-4650-b5ab-b65777e6136a",
   "metadata": {},
   "outputs": [
    {
     "name": "stdout",
     "output_type": "stream",
     "text": [
      "jolie\n",
      "parrot\n",
      "grey\n",
      "2\n",
      "nutriberries\n",
      "sassy\n"
     ]
    }
   ],
   "source": [
    "#the values\n",
    "for x in pet_dict.values():\n",
    "    print (x)"
   ]
  },
  {
   "cell_type": "code",
   "execution_count": 26,
   "id": "3500817a-1e5e-4c35-9622-ecbdb7a2fee9",
   "metadata": {},
   "outputs": [
    {
     "name": "stdout",
     "output_type": "stream",
     "text": [
      "name jolie\n",
      "form parrot\n",
      "color grey\n",
      "age 2\n",
      "diet nutriberries\n",
      "personality sassy\n"
     ]
    }
   ],
   "source": [
    "#the items\n",
    "for x, y in pet_dict.items():\n",
    "    print(x,y)"
   ]
  },
  {
   "cell_type": "code",
   "execution_count": 27,
   "id": "dd38757b-212e-4f57-8db9-393a99d79c8b",
   "metadata": {},
   "outputs": [],
   "source": [
    "jolie = {'name': 'jolie',\n",
    "     'form': 'parrot',\n",
    "     'color': 'grey',\n",
    "     'age': 2,\n",
    "     'diet': 'nutriberries',\n",
    "     'personality': 'sassy',\n",
    "}"
   ]
  },
  {
   "cell_type": "code",
   "execution_count": 28,
   "id": "96a66a5a-1559-4352-b0f9-2d5ec9880d8e",
   "metadata": {},
   "outputs": [
    {
     "data": {
      "text/plain": [
       "{'name': 'jolie',\n",
       " 'form': 'parrot',\n",
       " 'color': 'grey',\n",
       " 'age': 2,\n",
       " 'diet': 'nutriberries',\n",
       " 'personality': 'sassy'}"
      ]
     },
     "execution_count": 28,
     "metadata": {},
     "output_type": "execute_result"
    }
   ],
   "source": [
    "jolie"
   ]
  },
  {
   "cell_type": "code",
   "execution_count": 29,
   "id": "3bfec8ce-ae8b-4b16-b051-ce9c23a7f32a",
   "metadata": {},
   "outputs": [],
   "source": [
    "bailey = {'name': 'bailey',\n",
    "     'form': 'dog',\n",
    "     'color': 'gold',\n",
    "     'age': 10,\n",
    "     'diet': 'beef',\n",
    "     'personality': 'sweet',\n",
    "}"
   ]
  },
  {
   "cell_type": "code",
   "execution_count": 30,
   "id": "2c1bccca-12c5-4382-b912-e640bd1b7651",
   "metadata": {},
   "outputs": [],
   "source": [
    "pet_dict = {\n",
    "    'pet1': bailey,\n",
    "    'pet2': jolie\n",
    "}"
   ]
  },
  {
   "cell_type": "code",
   "execution_count": 31,
   "id": "cc72c78a-0b1f-427a-8aa5-f12a6f015535",
   "metadata": {},
   "outputs": [
    {
     "name": "stdout",
     "output_type": "stream",
     "text": [
      "{'pet1': {'name': 'bailey', 'form': 'dog', 'color': 'gold', 'age': 10, 'diet': 'beef', 'personality': 'sweet'}, 'pet2': {'name': 'jolie', 'form': 'parrot', 'color': 'grey', 'age': 2, 'diet': 'nutriberries', 'personality': 'sassy'}}\n"
     ]
    }
   ],
   "source": [
    "print(pet_dict)"
   ]
  },
  {
   "cell_type": "code",
   "execution_count": 32,
   "id": "d9ccda6c-49b9-4780-ac7a-944959089f40",
   "metadata": {},
   "outputs": [
    {
     "data": {
      "text/plain": [
       "'bailey'"
      ]
     },
     "execution_count": 32,
     "metadata": {},
     "output_type": "execute_result"
    }
   ],
   "source": [
    "pet_dict['pet1']['name']"
   ]
  },
  {
   "cell_type": "code",
   "execution_count": 33,
   "id": "3c61bd61-2687-4a9d-8eef-729131a1049c",
   "metadata": {},
   "outputs": [],
   "source": [
    "pet_dict = [\n",
    "    {'name': 'bailey',\n",
    "     'form': 'dog',\n",
    "     'color': 'gold',\n",
    "     'age': 10,\n",
    "     'diet': 'beef',\n",
    "     'personality': 'sweet',\n",
    "},\n",
    "    {'name': 'jolie',\n",
    "     'form': 'parrot',\n",
    "     'color': 'grey',\n",
    "     'age': 2,\n",
    "     'diet': 'nutriberries',\n",
    "     'personality': 'sassy',\n",
    "}\n",
    "    ]"
   ]
  },
  {
   "cell_type": "code",
   "execution_count": 34,
   "id": "5e40b236-0142-45f5-9b02-09bfe034e501",
   "metadata": {},
   "outputs": [
    {
     "data": {
      "text/plain": [
       "'bailey'"
      ]
     },
     "execution_count": 34,
     "metadata": {},
     "output_type": "execute_result"
    }
   ],
   "source": [
    "pet_dict[0]['name']"
   ]
  },
  {
   "cell_type": "code",
   "execution_count": 35,
   "id": "6e6f6559-ae03-445b-aa4c-17c688f786d4",
   "metadata": {},
   "outputs": [
    {
     "data": {
      "text/plain": [
       "'jolie'"
      ]
     },
     "execution_count": 35,
     "metadata": {},
     "output_type": "execute_result"
    }
   ],
   "source": [
    "pet_dict[1]['name']"
   ]
  },
  {
   "cell_type": "code",
   "execution_count": 36,
   "id": "f151f5cc-517d-4ea3-8842-22195b4737c4",
   "metadata": {},
   "outputs": [
    {
     "name": "stdout",
     "output_type": "stream",
     "text": [
      "{'name': 'bailey', 'form': 'dog', 'color': 'gold', 'age': 10, 'diet': 'beef', 'personality': 'sweet'}\n",
      "{'name': 'jolie', 'form': 'parrot', 'color': 'grey', 'age': 2, 'diet': 'nutriberries', 'personality': 'sassy'}\n"
     ]
    }
   ],
   "source": [
    "for x in pet_dict:\n",
    "    print(x)"
   ]
  },
  {
   "cell_type": "code",
   "execution_count": 37,
   "id": "5411fd2f-106a-42eb-aba4-f1288a54f0b2",
   "metadata": {},
   "outputs": [
    {
     "data": {
      "text/plain": [
       "'Bailey'"
      ]
     },
     "execution_count": 37,
     "metadata": {},
     "output_type": "execute_result"
    }
   ],
   "source": [
    "pet_dict[0]['name'].title()"
   ]
  },
  {
   "cell_type": "code",
   "execution_count": 38,
   "id": "0d4dbb32-aa22-4c8a-be70-57cee51deedf",
   "metadata": {},
   "outputs": [],
   "source": [
    "pets = pet_dict[0]"
   ]
  },
  {
   "cell_type": "code",
   "execution_count": 39,
   "id": "57975550-fc5e-4f1a-890a-f6604b8f3a7e",
   "metadata": {},
   "outputs": [
    {
     "data": {
      "text/plain": [
       "{'name': 'bailey',\n",
       " 'form': 'dog',\n",
       " 'color': 'gold',\n",
       " 'age': 10,\n",
       " 'diet': 'beef',\n",
       " 'personality': 'sweet'}"
      ]
     },
     "execution_count": 39,
     "metadata": {},
     "output_type": "execute_result"
    }
   ],
   "source": [
    "pets"
   ]
  },
  {
   "cell_type": "code",
   "execution_count": 40,
   "id": "4693e7a7-9bf7-4647-bdca-7b8bea826ba2",
   "metadata": {},
   "outputs": [],
   "source": [
    "for pets in pet_dict:\n",
    "    pets[\"name\"] = pets[\"name\"].title()\n",
    "    pets[\"personality\"] = pets[\"personality\"].title()"
   ]
  },
  {
   "cell_type": "code",
   "execution_count": 41,
   "id": "90e1bb6d-418b-4ccd-893c-23e3688b0e80",
   "metadata": {},
   "outputs": [
    {
     "data": {
      "text/plain": [
       "[{'name': 'Bailey',\n",
       "  'form': 'dog',\n",
       "  'color': 'gold',\n",
       "  'age': 10,\n",
       "  'diet': 'beef',\n",
       "  'personality': 'Sweet'},\n",
       " {'name': 'Jolie',\n",
       "  'form': 'parrot',\n",
       "  'color': 'grey',\n",
       "  'age': 2,\n",
       "  'diet': 'nutriberries',\n",
       "  'personality': 'Sassy'}]"
      ]
     },
     "execution_count": 41,
     "metadata": {},
     "output_type": "execute_result"
    }
   ],
   "source": [
    "pet_dict"
   ]
  },
  {
   "cell_type": "code",
   "execution_count": 42,
   "id": "ac1d60bb-3e08-4f61-a695-d0ee06599129",
   "metadata": {},
   "outputs": [
    {
     "data": {
      "text/plain": [
       "'Bailey'"
      ]
     },
     "execution_count": 42,
     "metadata": {},
     "output_type": "execute_result"
    }
   ],
   "source": [
    "pet_dict[0]['name']"
   ]
  },
  {
   "cell_type": "code",
   "execution_count": 43,
   "id": "9142c4fb-ebb2-4a70-8806-ed280d953ef0",
   "metadata": {},
   "outputs": [
    {
     "name": "stdout",
     "output_type": "stream",
     "text": [
      "Bailey\n",
      "Jolie\n"
     ]
    }
   ],
   "source": [
    "for x in pet_dict:\n",
    "    print(x['name'])"
   ]
  },
  {
   "cell_type": "code",
   "execution_count": 44,
   "id": "58cfc13d-4589-4bf5-ac34-3073db4245f2",
   "metadata": {},
   "outputs": [
    {
     "name": "stdout",
     "output_type": "stream",
     "text": [
      "Bailey = dog\n",
      "Jolie = parrot\n"
     ]
    }
   ],
   "source": [
    "for x in pet_dict:\n",
    "    print(x['name'], '=', x['form'])"
   ]
  },
  {
   "cell_type": "code",
   "execution_count": 45,
   "id": "f11f142c-264a-4a8a-92cb-ec24a45da40b",
   "metadata": {},
   "outputs": [],
   "source": [
    "#modifying an entry\n",
    "pet_dict[0]['name'] = 'Bailey Bales'"
   ]
  },
  {
   "cell_type": "code",
   "execution_count": 46,
   "id": "05821ae4-a772-4c78-87a9-ae9aa598aafa",
   "metadata": {},
   "outputs": [
    {
     "data": {
      "text/plain": [
       "[{'name': 'Bailey Bales',\n",
       "  'form': 'dog',\n",
       "  'color': 'gold',\n",
       "  'age': 10,\n",
       "  'diet': 'beef',\n",
       "  'personality': 'Sweet'},\n",
       " {'name': 'Jolie',\n",
       "  'form': 'parrot',\n",
       "  'color': 'grey',\n",
       "  'age': 2,\n",
       "  'diet': 'nutriberries',\n",
       "  'personality': 'Sassy'}]"
      ]
     },
     "execution_count": 46,
     "metadata": {},
     "output_type": "execute_result"
    }
   ],
   "source": [
    "pet_dict"
   ]
  },
  {
   "cell_type": "code",
   "execution_count": 47,
   "id": "12c5c462-8847-4221-9161-a711f49a5845",
   "metadata": {},
   "outputs": [
    {
     "data": {
      "text/plain": [
       "dict_keys(['name', 'form', 'color', 'age', 'diet', 'personality'])"
      ]
     },
     "execution_count": 47,
     "metadata": {},
     "output_type": "execute_result"
    }
   ],
   "source": [
    "pet_dict[0].keys()"
   ]
  },
  {
   "cell_type": "code",
   "execution_count": 48,
   "id": "05802370-fb75-4f6b-aad7-0cfd7237e2f2",
   "metadata": {},
   "outputs": [
    {
     "data": {
      "text/plain": [
       "{'name': 'Jolie',\n",
       " 'form': 'parrot',\n",
       " 'color': 'grey',\n",
       " 'age': 2,\n",
       " 'diet': 'nutriberries',\n",
       " 'personality': 'Sassy'}"
      ]
     },
     "execution_count": 48,
     "metadata": {},
     "output_type": "execute_result"
    }
   ],
   "source": [
    "pets"
   ]
  },
  {
   "cell_type": "code",
   "execution_count": 49,
   "id": "224c76a3-cd1a-4efb-a359-906344cdc19b",
   "metadata": {},
   "outputs": [],
   "source": [
    "pets = pet_dict[0]"
   ]
  },
  {
   "cell_type": "code",
   "execution_count": 50,
   "id": "181c82ed-2985-4da4-9c03-92e7fff9129a",
   "metadata": {},
   "outputs": [
    {
     "data": {
      "text/plain": [
       "{'name': 'Bailey Bales',\n",
       " 'form': 'dog',\n",
       " 'color': 'gold',\n",
       " 'age': 10,\n",
       " 'diet': 'beef',\n",
       " 'personality': 'Sweet'}"
      ]
     },
     "execution_count": 50,
     "metadata": {},
     "output_type": "execute_result"
    }
   ],
   "source": [
    "pets"
   ]
  },
  {
   "cell_type": "code",
   "execution_count": 51,
   "id": "8ada8d11-1cb4-42ab-b093-b77d06518a76",
   "metadata": {},
   "outputs": [
    {
     "data": {
      "text/plain": [
       "{'name': 'Jolie',\n",
       " 'form': 'parrot',\n",
       " 'color': 'grey',\n",
       " 'age': 2,\n",
       " 'diet': 'nutriberries',\n",
       " 'personality': 'Sassy'}"
      ]
     },
     "execution_count": 51,
     "metadata": {},
     "output_type": "execute_result"
    }
   ],
   "source": [
    "pet_dict[1]"
   ]
  },
  {
   "cell_type": "code",
   "execution_count": 52,
   "id": "d914ce43-c265-4a23-9639-3040338093aa",
   "metadata": {},
   "outputs": [],
   "source": [
    "del pet_dict[0]['age']"
   ]
  },
  {
   "cell_type": "code",
   "execution_count": 53,
   "id": "bfd73bcd-24b9-4e29-8123-3a3a8fc5666f",
   "metadata": {},
   "outputs": [],
   "source": [
    "del pet_dict[1]['age']"
   ]
  },
  {
   "cell_type": "code",
   "execution_count": 54,
   "id": "9c153b9f-4f85-4838-bfcf-692556e76460",
   "metadata": {},
   "outputs": [],
   "source": [
    "for pets in pet_dict:\n",
    "    for col in pets.keys():\n",
    "        pets[col] = pets[col].title()"
   ]
  },
  {
   "cell_type": "code",
   "execution_count": 55,
   "id": "0721be49-b314-4c26-9180-4b5b71461b01",
   "metadata": {},
   "outputs": [
    {
     "data": {
      "text/plain": [
       "[{'name': 'Bailey Bales',\n",
       "  'form': 'Dog',\n",
       "  'color': 'Gold',\n",
       "  'diet': 'Beef',\n",
       "  'personality': 'Sweet'},\n",
       " {'name': 'Jolie',\n",
       "  'form': 'Parrot',\n",
       "  'color': 'Grey',\n",
       "  'diet': 'Nutriberries',\n",
       "  'personality': 'Sassy'}]"
      ]
     },
     "execution_count": 55,
     "metadata": {},
     "output_type": "execute_result"
    }
   ],
   "source": [
    "pet_dict"
   ]
  },
  {
   "cell_type": "code",
   "execution_count": 56,
   "id": "bee00560-2b1c-4b98-b58d-439ab7aac1ed",
   "metadata": {},
   "outputs": [
    {
     "data": {
      "text/plain": [
       "dict_keys(['name', 'form', 'color', 'diet', 'personality'])"
      ]
     },
     "execution_count": 56,
     "metadata": {},
     "output_type": "execute_result"
    }
   ],
   "source": [
    "pets.keys()"
   ]
  },
  {
   "cell_type": "code",
   "execution_count": null,
   "id": "90f87200-731d-4a4a-9310-37ab50da9da9",
   "metadata": {},
   "outputs": [],
   "source": []
  },
  {
   "cell_type": "code",
   "execution_count": 67,
   "id": "68f54e1e-ded1-4d75-9dc7-80bb686b4a40",
   "metadata": {},
   "outputs": [],
   "source": [
    "sentence = 'I want to take a nap, but I have work to do.    '"
   ]
  },
  {
   "cell_type": "code",
   "execution_count": 73,
   "id": "4d4ecde3-fd29-472f-9391-cf1668baabe5",
   "metadata": {},
   "outputs": [
    {
     "data": {
      "text/plain": [
       "'I want to take a nap, but I have work to do.'"
      ]
     },
     "execution_count": 73,
     "metadata": {},
     "output_type": "execute_result"
    }
   ],
   "source": [
    "sentence.strip()"
   ]
  },
  {
   "cell_type": "code",
   "execution_count": null,
   "id": "ee0395b2-d935-457f-b3bb-a9794a4c8bfd",
   "metadata": {},
   "outputs": [],
   "source": []
  }
 ],
 "metadata": {
  "kernelspec": {
   "display_name": "Python 3",
   "language": "python",
   "name": "python3"
  },
  "language_info": {
   "codemirror_mode": {
    "name": "ipython",
    "version": 3
   },
   "file_extension": ".py",
   "mimetype": "text/x-python",
   "name": "python",
   "nbconvert_exporter": "python",
   "pygments_lexer": "ipython3",
   "version": "3.8.5"
  }
 },
 "nbformat": 4,
 "nbformat_minor": 5
}
