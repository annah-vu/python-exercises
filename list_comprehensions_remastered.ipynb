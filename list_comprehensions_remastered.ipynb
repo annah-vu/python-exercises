{
 "cells": [
  {
   "cell_type": "code",
   "execution_count": 1,
   "id": "3d8b4ceb-91f5-4e15-a23b-f08018e755c2",
   "metadata": {},
   "outputs": [],
   "source": [
    "fruits = ['mango', 'kiwi', 'strawberry', 'guava', 'pineapple', 'mandarin orange']\n",
    "\n",
    "numbers = [2, 3, 4, 5, 6, 7, 8, 9, 10, 11, 13, 17, 19, 23, 256, -8, -4, -2, 5, -9]"
   ]
  },
  {
   "cell_type": "markdown",
   "id": "adf1c414-595a-41b1-80f9-6559ebf464fb",
   "metadata": {},
   "source": [
    "#### Exercise 1 -  Make a variable named uppercased_fruits to hold the output of the list comprehension. Output should be ['MANGO', 'KIWI', etc...]"
   ]
  },
  {
   "cell_type": "code",
   "execution_count": 5,
   "id": "b1706478-7b70-41c1-ae49-de0ca1ffe400",
   "metadata": {},
   "outputs": [
    {
     "name": "stdout",
     "output_type": "stream",
     "text": [
      "uppercased_fruits is ['MANGO', 'KIWI', 'STRAWBERRY', 'GUAVA', 'PINEAPPLE', 'MANDARIN ORANGE']\n"
     ]
    }
   ],
   "source": [
    "uppercased_fruits = [fruit.upper() for fruit in fruits]\n",
    "print(f'uppercased_fruits is {uppercased_fruits}')"
   ]
  },
  {
   "cell_type": "markdown",
   "id": "4b8c0302-0f81-4c7b-acf6-cf78593f8fad",
   "metadata": {},
   "source": [
    "#### Exercise 2 - create a variable named capitalized_fruits and use list comprehension syntax to produce output like ['Mango', 'Kiwi', 'Strawberry', etc...]"
   ]
  },
  {
   "cell_type": "code",
   "execution_count": 10,
   "id": "fbcf8c54-3160-44b2-b8de-2ecd814c5227",
   "metadata": {},
   "outputs": [],
   "source": [
    "capitalized_fruits = [fruit.title() for fruit in fruits]"
   ]
  },
  {
   "cell_type": "code",
   "execution_count": 11,
   "id": "6d790bd1-cb36-42aa-8a36-e5a51deaf9cd",
   "metadata": {},
   "outputs": [
    {
     "data": {
      "text/plain": [
       "['Mango', 'Kiwi', 'Strawberry', 'Guava', 'Pineapple', 'Mandarin Orange']"
      ]
     },
     "execution_count": 11,
     "metadata": {},
     "output_type": "execute_result"
    }
   ],
   "source": [
    "capitalized_fruits"
   ]
  },
  {
   "cell_type": "markdown",
   "id": "d1661634-cc1b-4d0e-981a-8c104d93e08d",
   "metadata": {},
   "source": [
    "#### Exercise 3 - Use a list comprehension to make a variable named fruits_with_more_than_two_vowels. Hint: You'll need a way to check how many vowels something has"
   ]
  },
  {
   "cell_type": "code",
   "execution_count": 16,
   "id": "1be2dd3a-3dd1-40db-9d54-a2f34cfa99eb",
   "metadata": {},
   "outputs": [],
   "source": [
    "def count_vowel(x):\n",
    "    x = x.lower()\n",
    "    count = 0\n",
    "    vowels = ['a','e','i','o','u']\n",
    "    for i in x:\n",
    "        if i in vowels:\n",
    "            count +=1\n",
    "    return count"
   ]
  },
  {
   "cell_type": "code",
   "execution_count": 18,
   "id": "7bf9f30f-2d9d-4d01-af62-4f1b91da2fd7",
   "metadata": {},
   "outputs": [
    {
     "data": {
      "text/plain": [
       "1"
      ]
     },
     "execution_count": 18,
     "metadata": {},
     "output_type": "execute_result"
    }
   ],
   "source": [
    "count_vowel('bird')"
   ]
  },
  {
   "cell_type": "code",
   "execution_count": 19,
   "id": "d44401ce-dd69-49d8-8548-e6980d99bc63",
   "metadata": {},
   "outputs": [],
   "source": [
    "fruits_with_more_than_two_vowels = [fruit for fruit in fruits if count_vowel(fruit) > 2]"
   ]
  },
  {
   "cell_type": "code",
   "execution_count": 20,
   "id": "10eb64c3-2be3-4b27-b40d-cae9a83c6abc",
   "metadata": {},
   "outputs": [
    {
     "data": {
      "text/plain": [
       "['guava', 'pineapple', 'mandarin orange']"
      ]
     },
     "execution_count": 20,
     "metadata": {},
     "output_type": "execute_result"
    }
   ],
   "source": [
    "fruits_with_more_than_two_vowels"
   ]
  },
  {
   "cell_type": "markdown",
   "id": "1ab2763e-a5c0-47d6-b38c-17091bafbb4f",
   "metadata": {},
   "source": [
    "#### Exercise 4 - make a variable named fruits_with_only_two_vowels. The result should be ['mango', 'kiwi', 'strawberry']"
   ]
  },
  {
   "cell_type": "code",
   "execution_count": null,
   "id": "0bf40188-e638-43a0-8689-20f6902a2af9",
   "metadata": {},
   "outputs": [],
   "source": [
    "fruits_with_more_than_two_vowels = [fruit for fruit in fruits if count_vowel(fruit) == 2]"
   ]
  },
  {
   "cell_type": "code",
   "execution_count": 22,
   "id": "e7476de0-35c5-4ecb-9c47-449a8ba1b83b",
   "metadata": {},
   "outputs": [
    {
     "data": {
      "text/plain": [
       "['mango', 'kiwi', 'strawberry']"
      ]
     },
     "execution_count": 22,
     "metadata": {},
     "output_type": "execute_result"
    }
   ],
   "source": [
    "fruits_with_more_than_two_vowels"
   ]
  },
  {
   "cell_type": "markdown",
   "id": "5430cb5f-074e-472f-a5ff-31dbd26f04b5",
   "metadata": {},
   "source": [
    "#### Exercise 5 - make a list that contains each fruit with more than 5 characters"
   ]
  },
  {
   "cell_type": "code",
   "execution_count": 23,
   "id": "34da47a1-e315-407d-b267-e12e7f38cc7e",
   "metadata": {},
   "outputs": [],
   "source": [
    "fruit_with_more_than_five = [fruit for fruit in fruits if len(fruit) > 5]"
   ]
  },
  {
   "cell_type": "code",
   "execution_count": 24,
   "id": "b9b70478-3a65-4886-b24a-4300aef95522",
   "metadata": {},
   "outputs": [
    {
     "data": {
      "text/plain": [
       "['strawberry', 'pineapple', 'mandarin orange']"
      ]
     },
     "execution_count": 24,
     "metadata": {},
     "output_type": "execute_result"
    }
   ],
   "source": [
    "fruit_with_more_than_five"
   ]
  },
  {
   "cell_type": "markdown",
   "id": "4b74244d-5a1a-4122-9779-1b6631f28c27",
   "metadata": {},
   "source": [
    "#### Exercise 6 - make a list that contains each fruit with exactly 5 characters"
   ]
  },
  {
   "cell_type": "code",
   "execution_count": 25,
   "id": "2243a3a1-3ae0-469b-823b-deccb7eeb2b8",
   "metadata": {},
   "outputs": [
    {
     "data": {
      "text/plain": [
       "['mango', 'guava']"
      ]
     },
     "execution_count": 25,
     "metadata": {},
     "output_type": "execute_result"
    }
   ],
   "source": [
    "fruit_with_five = [fruit for fruit in fruits if len(fruit) == 5]\n",
    "fruit_with_five"
   ]
  },
  {
   "cell_type": "markdown",
   "id": "e44734bb-6d63-4537-b08f-c4e069624f8e",
   "metadata": {},
   "source": [
    "#### Exercise 7 - Make a list that contains fruits that have less than 5 characters"
   ]
  },
  {
   "cell_type": "code",
   "execution_count": 27,
   "id": "5e6423b9-d2e8-41cb-8c6e-9ecc011c1a68",
   "metadata": {},
   "outputs": [
    {
     "data": {
      "text/plain": [
       "['kiwi']"
      ]
     },
     "execution_count": 27,
     "metadata": {},
     "output_type": "execute_result"
    }
   ],
   "source": [
    "fruit_with_less_than_five = [fruit for fruit in fruits if len(fruit) < 5]\n",
    "fruit_with_less_than_five"
   ]
  },
  {
   "cell_type": "markdown",
   "id": "4afdfc15-b7d3-4daa-9ca3-39a82313dfa2",
   "metadata": {},
   "source": [
    "#### Exercise 8 - Make a list containing the number of characters in each fruit. Output would be [5, 4, 10, etc... ]"
   ]
  },
  {
   "cell_type": "code",
   "execution_count": 28,
   "id": "0ee077d1-3395-4686-9144-4f8186f3f965",
   "metadata": {},
   "outputs": [
    {
     "data": {
      "text/plain": [
       "[5, 4, 10, 5, 9, 15]"
      ]
     },
     "execution_count": 28,
     "metadata": {},
     "output_type": "execute_result"
    }
   ],
   "source": [
    "characters = [len(fruit) for fruit in fruits]\n",
    "characters"
   ]
  },
  {
   "cell_type": "markdown",
   "id": "9d77373c-aef9-446a-a907-862caa5bfd96",
   "metadata": {},
   "source": [
    "#### Exercise 9 - Make a variable named fruits_with_letter_a that contains a list of only the fruits that contain the letter \"a\""
   ]
  },
  {
   "cell_type": "code",
   "execution_count": 29,
   "id": "b5106755-03d8-4f01-958f-c55a62148a7a",
   "metadata": {},
   "outputs": [],
   "source": [
    "def contains_a(x):\n",
    "    x = x.lower()\n",
    "    letter = ['a']\n",
    "    for i in x:\n",
    "        if i in letter:\n",
    "            return True\n",
    "    else:\n",
    "        return False"
   ]
  },
  {
   "cell_type": "code",
   "execution_count": 38,
   "id": "1e789361-015e-4fd3-96f5-f993214ea567",
   "metadata": {},
   "outputs": [
    {
     "data": {
      "text/plain": [
       "False"
      ]
     },
     "execution_count": 38,
     "metadata": {},
     "output_type": "execute_result"
    }
   ],
   "source": [
    "contains_a('you will not find')"
   ]
  },
  {
   "cell_type": "code",
   "execution_count": 37,
   "id": "42cd1087-d585-4a0d-933c-3dee0e87630b",
   "metadata": {},
   "outputs": [
    {
     "data": {
      "text/plain": [
       "True"
      ]
     },
     "execution_count": 37,
     "metadata": {},
     "output_type": "execute_result"
    }
   ],
   "source": [
    "contains_a('you will find what you seek')"
   ]
  },
  {
   "cell_type": "code",
   "execution_count": 43,
   "id": "4c2091e6-1d40-43fd-82a4-f2e399352707",
   "metadata": {},
   "outputs": [],
   "source": [
    "fruits_with_letter_a = [fruit for fruit in fruits if contains_a(fruit)]\n",
    "#or\n",
    "fruits_with_letter_a = [fruit for fruit in fruits if contains_a(fruit)==True]"
   ]
  },
  {
   "cell_type": "code",
   "execution_count": 44,
   "id": "bfbe16ec-50d8-474d-ad38-27c0a347f6ff",
   "metadata": {},
   "outputs": [
    {
     "data": {
      "text/plain": [
       "['mango', 'strawberry', 'guava', 'pineapple', 'mandarin orange']"
      ]
     },
     "execution_count": 44,
     "metadata": {},
     "output_type": "execute_result"
    }
   ],
   "source": [
    "fruits_with_letter_a"
   ]
  },
  {
   "cell_type": "markdown",
   "id": "feafc33d-7ba3-4239-918f-fc2f5db66935",
   "metadata": {},
   "source": [
    "#### Exercise 10 - Make a variable named even_numbers that holds only the even numbers "
   ]
  },
  {
   "cell_type": "code",
   "execution_count": 46,
   "id": "bd38ea7d-9801-49dd-98a4-a99ca34f35ad",
   "metadata": {},
   "outputs": [],
   "source": [
    "even_numbers = [number for number in numbers if number%2 ==0]"
   ]
  },
  {
   "cell_type": "code",
   "execution_count": 47,
   "id": "45b0ddc6-15d6-4003-a96a-8375c2c80df1",
   "metadata": {},
   "outputs": [
    {
     "data": {
      "text/plain": [
       "[2, 4, 6, 8, 10, 256, -8, -4, -2]"
      ]
     },
     "execution_count": 47,
     "metadata": {},
     "output_type": "execute_result"
    }
   ],
   "source": [
    "even_numbers"
   ]
  },
  {
   "cell_type": "markdown",
   "id": "5b95f984-8fde-4d0e-976a-918820d99db7",
   "metadata": {},
   "source": [
    "#### Exercise 11 - Make a variable named odd_numbers that holds only the odd numbers"
   ]
  },
  {
   "cell_type": "code",
   "execution_count": 48,
   "id": "eecbc888-23e4-4d93-9492-8fa59270d533",
   "metadata": {},
   "outputs": [],
   "source": [
    "odd_numbers = [number for number in numbers if number%2 !=0]"
   ]
  },
  {
   "cell_type": "code",
   "execution_count": 49,
   "id": "c63c41de-5a20-4433-a6ac-1b1e7be3bc89",
   "metadata": {},
   "outputs": [
    {
     "data": {
      "text/plain": [
       "[3, 5, 7, 9, 11, 13, 17, 19, 23, 5, -9]"
      ]
     },
     "execution_count": 49,
     "metadata": {},
     "output_type": "execute_result"
    }
   ],
   "source": [
    "odd_numbers"
   ]
  },
  {
   "cell_type": "markdown",
   "id": "26be590e-244c-48ae-ba3e-076bc21e5b07",
   "metadata": {},
   "source": [
    "#### Exercise 12 - Make a variable named positive_numbers that holds only the positive numbers"
   ]
  },
  {
   "cell_type": "code",
   "execution_count": 51,
   "id": "c5c678a3-4420-49be-96c3-ea6ce216afe3",
   "metadata": {},
   "outputs": [
    {
     "data": {
      "text/plain": [
       "[2, 3, 4, 5, 6, 7, 8, 9, 10, 11, 13, 17, 19, 23, 256, 5]"
      ]
     },
     "execution_count": 51,
     "metadata": {},
     "output_type": "execute_result"
    }
   ],
   "source": [
    "positive_numbers = [number for number in numbers if number > 0]\n",
    "positive_numbers"
   ]
  },
  {
   "cell_type": "markdown",
   "id": "f90b93dc-7c30-484f-87bd-142a456f449d",
   "metadata": {},
   "source": [
    "#### Exercise 13 - Make a variable named negative_numbers that holds only the negative numbers"
   ]
  },
  {
   "cell_type": "code",
   "execution_count": 53,
   "id": "789e548c-7d07-48f4-a700-3892d0a48abd",
   "metadata": {},
   "outputs": [
    {
     "data": {
      "text/plain": [
       "[-8, -4, -2, -9]"
      ]
     },
     "execution_count": 53,
     "metadata": {},
     "output_type": "execute_result"
    }
   ],
   "source": [
    "negative_numbers = [number for number in numbers if number <0]\n",
    "negative_numbers"
   ]
  },
  {
   "cell_type": "markdown",
   "id": "b1dda147-2f77-489f-a87d-a7b529e1a7a8",
   "metadata": {},
   "source": [
    "#### Exercise 14 - use a list comprehension w/ a conditional in order to produce a list of numbers with 2 or more numerals"
   ]
  },
  {
   "cell_type": "code",
   "execution_count": 67,
   "id": "f8db43e2-55be-4b5e-b79b-3245ed29a316",
   "metadata": {},
   "outputs": [],
   "source": [
    "more_than_two_numerals = [number for number in numbers if (number <= -10 or number >=10)]"
   ]
  },
  {
   "cell_type": "code",
   "execution_count": 68,
   "id": "3683c6c9-62fe-41a0-8c3f-5cc7259818e0",
   "metadata": {},
   "outputs": [
    {
     "data": {
      "text/plain": [
       "[10, 11, 13, 17, 19, 23, 256]"
      ]
     },
     "execution_count": 68,
     "metadata": {},
     "output_type": "execute_result"
    }
   ],
   "source": [
    "more_than_two_numerals"
   ]
  },
  {
   "cell_type": "markdown",
   "id": "3bd59b7c-4670-4789-81d2-ec6dd9306c78",
   "metadata": {},
   "source": [
    "#### Exercise 15 - Make a variable named numbers_squared that contains the numbers list with each element squared. Output is [4, 9, 16, etc...]"
   ]
  },
  {
   "cell_type": "code",
   "execution_count": 69,
   "id": "97e48e3d-4f65-4a77-982a-195d652d7e8b",
   "metadata": {},
   "outputs": [],
   "source": [
    "numbers_squared = [number**2 for number in numbers]"
   ]
  },
  {
   "cell_type": "code",
   "execution_count": 70,
   "id": "a341f910-3228-4552-8b5e-6a030aae13f6",
   "metadata": {},
   "outputs": [
    {
     "data": {
      "text/plain": [
       "[4,\n",
       " 9,\n",
       " 16,\n",
       " 25,\n",
       " 36,\n",
       " 49,\n",
       " 64,\n",
       " 81,\n",
       " 100,\n",
       " 121,\n",
       " 169,\n",
       " 289,\n",
       " 361,\n",
       " 529,\n",
       " 65536,\n",
       " 64,\n",
       " 16,\n",
       " 4,\n",
       " 25,\n",
       " 81]"
      ]
     },
     "execution_count": 70,
     "metadata": {},
     "output_type": "execute_result"
    }
   ],
   "source": [
    "numbers_squared"
   ]
  },
  {
   "cell_type": "markdown",
   "id": "43a2daca-8f4f-4d82-b4dc-8560a04b713c",
   "metadata": {},
   "source": [
    "#### Exercise 16 - Make a variable named odd_negative_numbers that contains only the numbers that are both odd and negative."
   ]
  },
  {
   "cell_type": "code",
   "execution_count": 71,
   "id": "2e0bc8dc-de58-4a3d-9797-f04000f6ecaa",
   "metadata": {},
   "outputs": [],
   "source": [
    "odd_negative_numbers = [number for number in numbers if number %2 !=0 and number < 0]"
   ]
  },
  {
   "cell_type": "code",
   "execution_count": 72,
   "id": "4f1116c2-a9df-4db2-8809-5313a2ae42d9",
   "metadata": {},
   "outputs": [
    {
     "data": {
      "text/plain": [
       "[-9]"
      ]
     },
     "execution_count": 72,
     "metadata": {},
     "output_type": "execute_result"
    }
   ],
   "source": [
    "odd_negative_numbers"
   ]
  },
  {
   "cell_type": "markdown",
   "id": "9dcb4805-fa8d-4228-a943-313672ed799e",
   "metadata": {},
   "source": [
    "#### Exercise 17 - Make a variable named numbers_plus_5. In it, return a list containing each number plus five. "
   ]
  },
  {
   "cell_type": "code",
   "execution_count": 73,
   "id": "5968d3b0-baa5-478f-88d0-425068b6cb39",
   "metadata": {},
   "outputs": [],
   "source": [
    "numbers_plus_5 = [number +5 for number in numbers]"
   ]
  },
  {
   "cell_type": "code",
   "execution_count": 74,
   "id": "d0036cfc-f9c6-4363-9c97-17a0a9554a67",
   "metadata": {},
   "outputs": [
    {
     "data": {
      "text/plain": [
       "[7, 8, 9, 10, 11, 12, 13, 14, 15, 16, 18, 22, 24, 28, 261, -3, 1, 3, 10, -4]"
      ]
     },
     "execution_count": 74,
     "metadata": {},
     "output_type": "execute_result"
    }
   ],
   "source": [
    "numbers_plus_5"
   ]
  },
  {
   "cell_type": "markdown",
   "id": "64d60c26-1fa4-4097-a8ba-188990d77b54",
   "metadata": {},
   "source": [
    "#### BONUS Make a variable named \"primes\" that is a list containing the prime numbers in the numbers list."
   ]
  },
  {
   "cell_type": "code",
   "execution_count": 91,
   "id": "37bc7e97-2310-4f07-a159-96ec7ef15803",
   "metadata": {},
   "outputs": [],
   "source": [
    "def is_prime(x):\n",
    "    if x >2:\n",
    "        for i in range(2,x):\n",
    "            if x%i ==0:\n",
    "                return False\n",
    "        else:\n",
    "            return True\n",
    "    else:\n",
    "        print('enter a number greater than 2')"
   ]
  },
  {
   "cell_type": "code",
   "execution_count": 95,
   "id": "5dd423f9-576a-4f5c-b174-9e228363d397",
   "metadata": {},
   "outputs": [
    {
     "data": {
      "text/plain": [
       "True"
      ]
     },
     "execution_count": 95,
     "metadata": {},
     "output_type": "execute_result"
    }
   ],
   "source": [
    "is_prime(19)"
   ]
  },
  {
   "cell_type": "code",
   "execution_count": 96,
   "id": "a452a7b3-fa8f-4697-8515-4f4458db4c1b",
   "metadata": {},
   "outputs": [
    {
     "name": "stdout",
     "output_type": "stream",
     "text": [
      "enter a number greater than 2\n",
      "enter a number greater than 2\n",
      "enter a number greater than 2\n",
      "enter a number greater than 2\n",
      "enter a number greater than 2\n"
     ]
    }
   ],
   "source": [
    "primes = [number for number in numbers if is_prime(number)]"
   ]
  },
  {
   "cell_type": "code",
   "execution_count": 97,
   "id": "ad63b1a5-53ba-436e-abad-81c18d5dfc80",
   "metadata": {},
   "outputs": [
    {
     "data": {
      "text/plain": [
       "[3, 5, 7, 11, 13, 17, 19, 23, 5]"
      ]
     },
     "execution_count": 97,
     "metadata": {},
     "output_type": "execute_result"
    }
   ],
   "source": [
    "primes"
   ]
  },
  {
   "cell_type": "code",
   "execution_count": null,
   "id": "7abb6059-9d95-4e70-b809-ff5b01176f30",
   "metadata": {},
   "outputs": [],
   "source": []
  }
 ],
 "metadata": {
  "kernelspec": {
   "display_name": "Python 3",
   "language": "python",
   "name": "python3"
  },
  "language_info": {
   "codemirror_mode": {
    "name": "ipython",
    "version": 3
   },
   "file_extension": ".py",
   "mimetype": "text/x-python",
   "name": "python",
   "nbconvert_exporter": "python",
   "pygments_lexer": "ipython3",
   "version": "3.8.5"
  }
 },
 "nbformat": 4,
 "nbformat_minor": 5
}
