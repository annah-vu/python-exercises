{
 "cells": [
  {
   "cell_type": "code",
   "execution_count": 1,
   "metadata": {},
   "outputs": [
    {
     "name": "stdout",
     "output_type": "stream",
     "text": [
      "What day is it today?Monday\n",
      "Today is Monday\n"
     ]
    }
   ],
   "source": [
    "day_of_the_week = input('What day is it today?')\n",
    "day_of_the_week = day_of_the_week.lower()\n",
    "if day_of_the_week == ('monday'):\n",
    "  print('Today is Monday')\n",
    "else:\n",
    "  print('Today is not Monday');"
   ]
  },
  {
   "cell_type": "code",
   "execution_count": 1,
   "metadata": {},
   "outputs": [
    {
     "name": "stdout",
     "output_type": "stream",
     "text": [
      "595\n"
     ]
    }
   ],
   "source": [
    "hours_worked = 41\n",
    "hourly_pay = 14\n",
    "overtime_hours = hours_worked - 40\n",
    "if hours_worked <= 40:\n",
    "  print(hours_worked * hourly_pay)\n",
    "else:\n",
    "  print ((((hourly_pay // 2) + hourly_pay) * overtime_hours) + (hours_worked * hourly_pay))"
   ]
  },
  {
   "cell_type": "code",
   "execution_count": 2,
   "metadata": {},
   "outputs": [
    {
     "name": "stdout",
     "output_type": "stream",
     "text": [
      "5\n",
      "6\n",
      "7\n",
      "8\n",
      "9\n",
      "10\n",
      "11\n",
      "12\n",
      "13\n",
      "14\n",
      "15\n"
     ]
    }
   ],
   "source": [
    "i = 5\n",
    "while i <= 15:\n",
    "    print(i)\n",
    "    i +=1"
   ]
  },
  {
   "cell_type": "code",
   "execution_count": null,
   "metadata": {},
   "outputs": [],
   "source": [
    "i = 0\n",
    "while i <=100:\n",
    "    print(i)\n",
    "    i+=2"
   ]
  },
  {
   "cell_type": "code",
   "execution_count": null,
   "metadata": {},
   "outputs": [],
   "source": [
    "i = 100\n",
    "while i>=-10:\n",
    "    print(i)\n",
    "    i-=5"
   ]
  },
  {
   "cell_type": "code",
   "execution_count": 3,
   "metadata": {},
   "outputs": [
    {
     "name": "stdout",
     "output_type": "stream",
     "text": [
      "2\n",
      "4\n",
      "16\n",
      "256\n",
      "65536\n"
     ]
    }
   ],
   "source": [
    "i = 2\n",
    "while i < 1000000:\n",
    "    print(i)\n",
    "    i*=i"
   ]
  },
  {
   "cell_type": "code",
   "execution_count": 4,
   "metadata": {},
   "outputs": [
    {
     "name": "stdout",
     "output_type": "stream",
     "text": [
      "100\n",
      "95\n",
      "90\n",
      "85\n",
      "80\n",
      "75\n",
      "70\n",
      "65\n",
      "60\n",
      "55\n",
      "50\n",
      "45\n",
      "40\n",
      "35\n",
      "30\n",
      "25\n",
      "20\n",
      "15\n",
      "10\n",
      "5\n"
     ]
    }
   ],
   "source": [
    "i = 100\n",
    "while i >= 5:\n",
    "    print(i)\n",
    "    i-=5"
   ]
  },
  {
   "cell_type": "code",
   "execution_count": 12,
   "metadata": {
    "scrolled": true
   },
   "outputs": [
    {
     "name": "stdout",
     "output_type": "stream",
     "text": [
      "Type a number: 100\n",
      "100 x 1 = 100\n",
      "100 x 2 = 200\n",
      "100 x 3 = 300\n",
      "100 x 4 = 400\n",
      "100 x 5 = 500\n",
      "100 x 6 = 600\n",
      "100 x 7 = 700\n",
      "100 x 8 = 800\n",
      "100 x 9 = 900\n",
      "100 x 10 = 1000\n"
     ]
    }
   ],
   "source": [
    "select_number = int(input(\"Type a number: \"))\n",
    "for i in range(1,11):\n",
    "    print(select_number, 'x', i, '=', select_number*i)"
   ]
  },
  {
   "cell_type": "code",
   "execution_count": 13,
   "metadata": {},
   "outputs": [
    {
     "name": "stdout",
     "output_type": "stream",
     "text": [
      "1\n",
      "22\n",
      "333\n",
      "4444\n",
      "55555\n",
      "666666\n",
      "7777777\n",
      "88888888\n",
      "999999999\n"
     ]
    }
   ],
   "source": [
    "for n in range(1,10):\n",
    "    print(f'{n}' * n)"
   ]
  },
  {
   "cell_type": "code",
   "execution_count": 1,
   "metadata": {},
   "outputs": [
    {
     "name": "stdout",
     "output_type": "stream",
     "text": [
      "Number to skip is: 24\n",
      "Number to skip is: 16\n",
      "Number to skip is: 2\n",
      "Number to skip is: 4\n",
      "Number to skip is: 7\n",
      "Here is an odd number: 1\n",
      "Here is an odd number: 3\n",
      "Here is an odd number: 5\n",
      "Yikes! skipping number: 7\n",
      "Here is an odd number: 9\n",
      "Here is an odd number: 11\n",
      "Here is an odd number: 13\n",
      "Here is an odd number: 15\n",
      "Here is an odd number: 17\n",
      "Here is an odd number: 19\n",
      "Here is an odd number: 21\n",
      "Here is an odd number: 23\n",
      "Here is an odd number: 25\n",
      "Here is an odd number: 27\n",
      "Here is an odd number: 29\n",
      "Here is an odd number: 31\n",
      "Here is an odd number: 33\n",
      "Here is an odd number: 35\n",
      "Here is an odd number: 37\n",
      "Here is an odd number: 39\n",
      "Here is an odd number: 41\n",
      "Here is an odd number: 43\n",
      "Here is an odd number: 45\n",
      "Here is an odd number: 47\n",
      "Here is an odd number: 49\n"
     ]
    }
   ],
   "source": [
    "userInput = int(input('Number to skip is: '))\n",
    "while userInput % 2 == 0:\n",
    "    userInput = int(input('Number to skip is: '))\n",
    "for num in range(1, 50, 2):\n",
    "    if(num != userInput):\n",
    "        print('Here is an odd number: {}'.format(num))\n",
    "    else:\n",
    "        print('Yikes! skipping number: {}'.format(userInput))"
   ]
  },
  {
   "cell_type": "code",
   "execution_count": 4,
   "metadata": {},
   "outputs": [
    {
     "name": "stdout",
     "output_type": "stream",
     "text": [
      "Number to skip is: 27\n",
      "Here is an odd number:1\n",
      "Here is an odd number:3\n",
      "Here is an odd number:5\n",
      "Here is an odd number:7\n",
      "Here is an odd number:9\n",
      "Here is an odd number:11\n",
      "Here is an odd number:13\n",
      "Here is an odd number:15\n",
      "Here is an odd number:17\n",
      "Here is an odd number:19\n",
      "Here is an odd number:21\n",
      "Here is an odd number:23\n",
      "Here is an odd number:25\n",
      "Yikes! skipping number: 27\n",
      "Here is an odd number:29\n",
      "Here is an odd number:31\n",
      "Here is an odd number:33\n",
      "Here is an odd number:35\n",
      "Here is an odd number:37\n",
      "Here is an odd number:39\n",
      "Here is an odd number:41\n",
      "Here is an odd number:43\n",
      "Here is an odd number:45\n",
      "Here is an odd number:47\n",
      "Here is an odd number:49\n"
     ]
    }
   ],
   "source": [
    "userInput = int(input('Number to skip is: '))\n",
    "while userInput % 2 == 0:\n",
    "    userInput = int(input('Number to skip is: '))\n",
    "for num in range(1, 50, 2):\n",
    "    if(num != userInput):\n",
    "        print(f'Here is an odd number:{num}')\n",
    "    else:\n",
    "        print(f'Yikes! skipping number: {userInput}')"
   ]
  },
  {
   "cell_type": "code",
   "execution_count": 45,
   "metadata": {},
   "outputs": [
    {
     "name": "stdout",
     "output_type": "stream",
     "text": [
      "1\n",
      "2\n",
      "Fizz\n",
      "4\n",
      "Buzz\n",
      "Fizz\n",
      "7\n",
      "8\n",
      "Fizz\n",
      "Buzz\n",
      "11\n",
      "Fizz\n",
      "13\n",
      "14\n",
      "FizzBuzz\n",
      "16\n",
      "17\n",
      "Fizz\n",
      "19\n",
      "Buzz\n",
      "Fizz\n",
      "22\n",
      "23\n",
      "Fizz\n",
      "Buzz\n",
      "26\n",
      "Fizz\n",
      "28\n",
      "29\n",
      "FizzBuzz\n",
      "31\n",
      "32\n",
      "Fizz\n",
      "34\n",
      "Buzz\n",
      "Fizz\n",
      "37\n",
      "38\n",
      "Fizz\n",
      "Buzz\n",
      "41\n",
      "Fizz\n",
      "43\n",
      "44\n",
      "FizzBuzz\n",
      "46\n",
      "47\n",
      "Fizz\n",
      "49\n",
      "Buzz\n",
      "Fizz\n",
      "52\n",
      "53\n",
      "Fizz\n",
      "Buzz\n",
      "56\n",
      "Fizz\n",
      "58\n",
      "59\n",
      "FizzBuzz\n",
      "61\n",
      "62\n",
      "Fizz\n",
      "64\n",
      "Buzz\n",
      "Fizz\n",
      "67\n",
      "68\n",
      "Fizz\n",
      "Buzz\n",
      "71\n",
      "Fizz\n",
      "73\n",
      "74\n",
      "FizzBuzz\n",
      "76\n",
      "77\n",
      "Fizz\n",
      "79\n",
      "Buzz\n",
      "Fizz\n",
      "82\n",
      "83\n",
      "Fizz\n",
      "Buzz\n",
      "86\n",
      "Fizz\n",
      "88\n",
      "89\n",
      "FizzBuzz\n",
      "91\n",
      "92\n",
      "Fizz\n",
      "94\n",
      "Buzz\n",
      "Fizz\n",
      "97\n",
      "98\n",
      "Fizz\n",
      "Buzz\n"
     ]
    }
   ],
   "source": [
    "for n in range(1,101):\n",
    "    \n",
    "    if n % 15 == 0:\n",
    "        print('FizzBuzz')\n",
    "        continue\n",
    "    elif n % 3 == 0:\n",
    "        print('Fizz')\n",
    "        continue\n",
    "    elif n % 5 == 0:\n",
    "        print('Buzz')\n",
    "        continue\n",
    "    else:\n",
    "        print(n)\n",
    "        "
   ]
  },
  {
   "cell_type": "code",
   "execution_count": 39,
   "metadata": {},
   "outputs": [
    {
     "name": "stdout",
     "output_type": "stream",
     "text": [
      "1\n",
      "2\n",
      "Fizz\n",
      "4\n",
      "Buzz\n",
      "Fizz\n",
      "7\n",
      "8\n",
      "Fizz\n",
      "Buzz\n",
      "11\n",
      "Fizz\n",
      "13\n",
      "14\n",
      "FizzBuzz\n",
      "16\n",
      "17\n",
      "Fizz\n",
      "19\n",
      "Buzz\n",
      "Fizz\n",
      "22\n",
      "23\n",
      "Fizz\n",
      "Buzz\n",
      "26\n",
      "Fizz\n",
      "28\n",
      "29\n",
      "FizzBuzz\n",
      "31\n",
      "32\n",
      "Fizz\n",
      "34\n",
      "Buzz\n",
      "Fizz\n",
      "37\n",
      "38\n",
      "Fizz\n",
      "Buzz\n",
      "41\n",
      "Fizz\n",
      "43\n",
      "44\n",
      "FizzBuzz\n",
      "46\n",
      "47\n",
      "Fizz\n",
      "49\n",
      "Buzz\n",
      "Fizz\n",
      "52\n",
      "53\n",
      "Fizz\n",
      "Buzz\n",
      "56\n",
      "Fizz\n",
      "58\n",
      "59\n",
      "FizzBuzz\n",
      "61\n",
      "62\n",
      "Fizz\n",
      "64\n",
      "Buzz\n",
      "Fizz\n",
      "67\n",
      "68\n",
      "Fizz\n",
      "Buzz\n",
      "71\n",
      "Fizz\n",
      "73\n",
      "74\n",
      "FizzBuzz\n",
      "76\n",
      "77\n",
      "Fizz\n",
      "79\n",
      "Buzz\n",
      "Fizz\n",
      "82\n",
      "83\n",
      "Fizz\n",
      "Buzz\n",
      "86\n",
      "Fizz\n",
      "88\n",
      "89\n",
      "FizzBuzz\n",
      "91\n",
      "92\n",
      "Fizz\n",
      "94\n",
      "Buzz\n",
      "Fizz\n",
      "97\n",
      "98\n",
      "Fizz\n",
      "Buzz\n"
     ]
    }
   ],
   "source": [
    "for n in range(1,101):\n",
    "    if n % 15 == 0:\n",
    "        print(\"FizzBuzz\")                                        \n",
    "        continue\n",
    "\n",
    "    elif n % 3 == 0:    \n",
    "        print(\"Fizz\")                                        \n",
    "        continue\n",
    "\n",
    "    elif n % 5 == 0:        \n",
    "        print(\"Buzz\")                                    \n",
    "        continue\n",
    "\n",
    "    print(n)"
   ]
  },
  {
   "cell_type": "code",
   "execution_count": 9,
   "metadata": {},
   "outputs": [
    {
     "name": "stdout",
     "output_type": "stream",
     "text": [
      "Please inset a positive integer: yolo\n",
      "Please inset a positive integer: 10\n",
      "Do you want to continue? :yolo is the motto\n",
      "\n",
      "number  | squared | cubed\n",
      "------  | ------- | -----\n",
      "     1) |       1 |     1\n",
      "     2) |       4 |     8\n",
      "     3) |       9 |    27\n",
      "     4) |      16 |    64\n",
      "     5) |      25 |   125\n",
      "     6) |      36 |   216\n",
      "     7) |      49 |   343\n",
      "     8) |      64 |   512\n",
      "     9) |      81 |   729\n",
      "    10) |     100 |  1000\n"
     ]
    }
   ],
   "source": [
    "while True:\n",
    "    posited_num = input('Please inset a positive integer: ')\n",
    "    if posited_num.isdigit():\n",
    "        if int(posited_num) > 0:\n",
    "            break \n",
    "proceed = input('Do you want to continue? :')\n",
    "if proceed.lower().startswith('y'):\n",
    "    posited_num = int(posited_num)\n",
    "    print()\n",
    "    print('number  | squared | cubed')\n",
    "    print('------  | ------- | -----')\n",
    "    for i in range(1, posited_num + 1):\n",
    "        i_squared = i ** 2\n",
    "        i_cubed = i**3\n",
    "        print(f'{i: 6}) | {i_squared: 7} | {i_cubed: 5}')"
   ]
  },
  {
   "cell_type": "code",
   "execution_count": 10,
   "metadata": {},
   "outputs": [
    {
     "name": "stdout",
     "output_type": "stream",
     "text": [
      "Please enter a number between 0 and 100 90\n"
     ]
    }
   ],
   "source": [
    "while True:\n",
    "    user_grade = input(\"Please enter a number between 0 and 100 \")\n",
    "    if user_grade.isdigit():\n",
    "        user_grade = int(user_grade)\n",
    "        if user_grade < 0 or user_grade > 100:\n",
    "            continue\n",
    "        break "
   ]
  },
  {
   "cell_type": "code",
   "execution_count": null,
   "metadata": {},
   "outputs": [],
   "source": [
    "while True:\n",
    "    user_grade = input(\"Please enter a number between 0 and 100 \")\n",
    "    if user_grade.isdigit():\n",
    "        user_grade = int(user_grade)\n",
    "        if user_grade < 0 or user_grade > 100:\n",
    "            continue\n",
    "        break \n",
    "    \n",
    "\n",
    "if user_grade in range(0,60):\n",
    "    grade = 'F'\n",
    "elif user_grade in range(61,67):\n",
    "    grade = 'D'\n",
    "elif user_grade in range(68,80):\n",
    "    grade = 'C'\n",
    "elif user_grade in range(81,88):\n",
    "    grade = 'B'\n",
    "else:\n",
    "    grade = 'A'\n",
    "print(grade)"
   ]
  },
  {
   "cell_type": "code",
   "execution_count": 11,
   "metadata": {},
   "outputs": [
    {
     "name": "stdout",
     "output_type": "stream",
     "text": [
      "title :  Cook Book for Birds\n",
      "author :  Roger Sandoval\n",
      "genre :  Comedy\n",
      "----------\n",
      "title :  Chihuahuas in Sweaters\n",
      "author :  Rogelio Sandoval\n",
      "genre :  Non-fiction\n",
      "----------\n",
      "title :  Los Conejos y Una Necia\n",
      "author :  Rogelio G. Sandoval\n",
      "genre :  Sci-Fi\n",
      "----------\n",
      "title :  Haunting of Tortilla Chips\n",
      "author :  Roggie Sandoval\n",
      "genre :  Sci-Fi\n",
      "----------\n",
      "title :  Cook Book for Birds The SQL: What IF You Cook the Bird Instead of Cooking for the Bird?\n",
      "author :  Roger Sandoval\n",
      "genre :  Comedy\n",
      "----------\n",
      "Please select a genre, and I will find you a book to your liking: Non-fiction\n",
      "This may be of interest to you, since you like Non-fiction:\n",
      "Chihuahuas in Sweaters\n"
     ]
    }
   ],
   "source": [
    "bookshelf = [\n",
    "    {'title': 'Cook Book for Birds',\n",
    "    'author': 'Roger Sandoval',\n",
    "    'genre': 'Comedy'},\n",
    "    {'title': 'Chihuahuas in Sweaters',\n",
    "    'author': 'Rogelio Sandoval',\n",
    "    'genre': 'Non-fiction'},\n",
    "    {'title': 'Los Conejos y Una Necia',\n",
    "    'author': 'Rogelio G. Sandoval',\n",
    "    'genre': 'Sci-Fi'},\n",
    "      {'title': 'Haunting of Tortilla Chips',\n",
    "    'author': 'Roggie Sandoval',\n",
    "    'genre': 'Sci-Fi'},\n",
    "    {'title': 'Cook Book for Birds The SQL: What IF You Cook the Bird Instead of Cooking for the Bird?',\n",
    "    'author': 'Roger Sandoval',\n",
    "    'genre': 'Comedy'},\n",
    "]\n",
    "for book in bookshelf:\n",
    "    [print(key, ': ', book[key]) for key in book]\n",
    "    print('----------')\n",
    "\n",
    "select_genre = input('Please select a genre, and I will find you a book to your liking: ')\n",
    "\n",
    "matches = []\n",
    "for book in bookshelf:\n",
    "    if book['genre'].lower() == select_genre.lower():\n",
    "        matches.append(book['title'])\n",
    "if matches == []:\n",
    "    print('We must not have the same taste in books. Try again next time!')\n",
    "else:\n",
    "    print(f'This may be of interest to you, since you like {select_genre}:')\n",
    "    [print(match) for match in matches]"
   ]
  },
  {
   "cell_type": "code",
   "execution_count": null,
   "metadata": {},
   "outputs": [],
   "source": []
  }
 ],
 "metadata": {
  "kernelspec": {
   "display_name": "Python 3",
   "language": "python",
   "name": "python3"
  },
  "language_info": {
   "codemirror_mode": {
    "name": "ipython",
    "version": 3
   },
   "file_extension": ".py",
   "mimetype": "text/x-python",
   "name": "python",
   "nbconvert_exporter": "python",
   "pygments_lexer": "ipython3",
   "version": "3.8.5"
  }
 },
 "nbformat": 4,
 "nbformat_minor": 4
}
