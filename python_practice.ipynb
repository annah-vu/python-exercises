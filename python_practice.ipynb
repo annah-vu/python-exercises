{
 "cells": [
  {
   "cell_type": "code",
   "execution_count": 1,
   "id": "7ca84761-7e34-4579-bc68-574903c4d926",
   "metadata": {},
   "outputs": [],
   "source": [
    "#Welcome to my journal of python"
   ]
  },
  {
   "cell_type": "code",
   "execution_count": 2,
   "id": "4bcafa00-4fa5-47dd-9e30-b6f927ee6160",
   "metadata": {},
   "outputs": [],
   "source": [
    "# How many words in a string?"
   ]
  },
  {
   "cell_type": "code",
   "execution_count": 3,
   "id": "45241edf-6ec8-4fad-b9f5-5f54c526cef8",
   "metadata": {},
   "outputs": [],
   "source": [
    "sentence = 'I am taking my dog to the park'\n",
    "sentence_split = sentence.split()"
   ]
  },
  {
   "cell_type": "code",
   "execution_count": 4,
   "id": "dc57b122-3362-4c60-ab60-9b7aa6920a0f",
   "metadata": {},
   "outputs": [
    {
     "data": {
      "text/plain": [
       "['I', 'am', 'taking', 'my', 'dog', 'to', 'the', 'park']"
      ]
     },
     "execution_count": 4,
     "metadata": {},
     "output_type": "execute_result"
    }
   ],
   "source": [
    "sentence_split"
   ]
  },
  {
   "cell_type": "code",
   "execution_count": 5,
   "id": "8027570d-2bd0-4c6e-b219-65d4a2b74351",
   "metadata": {},
   "outputs": [
    {
     "data": {
      "text/plain": [
       "8"
      ]
     },
     "execution_count": 5,
     "metadata": {},
     "output_type": "execute_result"
    }
   ],
   "source": [
    "len(sentence_split)"
   ]
  },
  {
   "cell_type": "code",
   "execution_count": 6,
   "id": "6ce95da7-9454-47c1-8647-42035b1045e9",
   "metadata": {},
   "outputs": [],
   "source": [
    "#longest word"
   ]
  },
  {
   "cell_type": "code",
   "execution_count": 30,
   "id": "2560adf4-3da4-4f7d-9863-eaed043a669f",
   "metadata": {},
   "outputs": [],
   "source": [
    "def longest_word(sentence):\n",
    "    sentence =  sentence.split()\n",
    "    longest= ''\n",
    "    for i in sentence:\n",
    "        if len(i) > len(longest):\n",
    "            longest = i\n",
    "    return print(f'The longest word is {longest}, and its length is {len(longest)}')\n",
    "        "
   ]
  },
  {
   "cell_type": "code",
   "execution_count": 31,
   "id": "d586f6cc-707b-476c-997d-6c290184b9d1",
   "metadata": {},
   "outputs": [
    {
     "name": "stdout",
     "output_type": "stream",
     "text": [
      "The longest word is taking, and its length is 6\n"
     ]
    }
   ],
   "source": [
    "longest_word(sentence)"
   ]
  },
  {
   "cell_type": "code",
   "execution_count": 9,
   "id": "dde09552-75e1-4cf6-af24-4227d9bde63e",
   "metadata": {},
   "outputs": [],
   "source": [
    "#print each word on a new line"
   ]
  },
  {
   "cell_type": "code",
   "execution_count": 10,
   "id": "46181235-bd14-44b4-a96e-1cbac2034612",
   "metadata": {},
   "outputs": [],
   "source": [
    "def new_line(sentence):\n",
    "    sentence = sentence.split()\n",
    "    for i in sentence:\n",
    "        print (i)"
   ]
  },
  {
   "cell_type": "code",
   "execution_count": 11,
   "id": "4f8425fd-eee5-4f68-812f-10922705fc3a",
   "metadata": {},
   "outputs": [
    {
     "name": "stdout",
     "output_type": "stream",
     "text": [
      "a\n",
      "waste\n",
      "of\n",
      "space\n"
     ]
    }
   ],
   "source": [
    "new_line('a waste of space')"
   ]
  },
  {
   "cell_type": "code",
   "execution_count": 12,
   "id": "c6661cc7-9e0f-40c2-afe3-75e0bc97d514",
   "metadata": {},
   "outputs": [],
   "source": [
    "#fibonacci"
   ]
  },
  {
   "cell_type": "code",
   "execution_count": 13,
   "id": "7332bd8e-43ca-4555-83f6-a8067717a7c7",
   "metadata": {},
   "outputs": [],
   "source": [
    "def fibonacci(x):\n",
    "    n = x\n",
    "    n1 = 0\n",
    "    n2 = 1\n",
    "    \n",
    "    count = 0\n",
    "    \n",
    "    if n > 1:\n",
    "        while count < n:\n",
    "            print(n1)\n",
    "            nth = n1+n2\n",
    "            n1 = n2\n",
    "            n2 = nth\n",
    "            count +=1\n",
    "    elif n == 1:\n",
    "        print(n1)\n",
    "    else:\n",
    "        print ('Enter a positive integer')\n",
    "    "
   ]
  },
  {
   "cell_type": "code",
   "execution_count": 14,
   "id": "a9e39126-ca24-43c4-80d7-e6cbfa51a3cb",
   "metadata": {},
   "outputs": [
    {
     "name": "stdout",
     "output_type": "stream",
     "text": [
      "0\n",
      "1\n",
      "1\n",
      "2\n",
      "3\n",
      "5\n"
     ]
    }
   ],
   "source": [
    "fibonacci(6)"
   ]
  },
  {
   "cell_type": "code",
   "execution_count": 15,
   "id": "93d51a05-3d55-440f-803a-ca6e819d8fd0",
   "metadata": {},
   "outputs": [],
   "source": [
    "def palindrome(sentence):\n",
    "    sentence = sentence.replace(' ','')\n",
    "    forward = list(sentence)\n",
    "    backward = list(sentence)\n",
    "    backward.reverse()\n",
    "    if str(forward) == str(backward):\n",
    "        return True\n",
    "    else:\n",
    "        return False\n",
    "    "
   ]
  },
  {
   "cell_type": "code",
   "execution_count": 16,
   "id": "ccc2429f-058b-4f3a-9504-78905030c031",
   "metadata": {},
   "outputs": [
    {
     "data": {
      "text/plain": [
       "True"
      ]
     },
     "execution_count": 16,
     "metadata": {},
     "output_type": "execute_result"
    }
   ],
   "source": [
    "palindrome('racecar')"
   ]
  },
  {
   "cell_type": "code",
   "execution_count": 21,
   "id": "58291f19-84b4-4413-aeb3-7b225d983479",
   "metadata": {},
   "outputs": [
    {
     "data": {
      "text/plain": [
       "True"
      ]
     },
     "execution_count": 21,
     "metadata": {},
     "output_type": "execute_result"
    }
   ],
   "source": [
    "palindrome('anna')"
   ]
  },
  {
   "cell_type": "code",
   "execution_count": 22,
   "id": "d21b4647-a017-4ef2-a836-f22eaa8f10e4",
   "metadata": {},
   "outputs": [
    {
     "data": {
      "text/plain": [
       "False"
      ]
     },
     "execution_count": 22,
     "metadata": {},
     "output_type": "execute_result"
    }
   ],
   "source": [
    "palindrome('enchilada')"
   ]
  },
  {
   "cell_type": "code",
   "execution_count": 25,
   "id": "745e1c85-530c-46e8-89ca-d4ac28bfebbb",
   "metadata": {},
   "outputs": [],
   "source": [
    "def palindrome(sentence):\n",
    "    if len(sentence) %2 ==0:\n",
    "        for i in range(int(len(sentence)/2)):\n",
    "            if sentence[i] != sentence[-i-1]:\n",
    "                return False\n",
    "        return True\n",
    "    if len(sentence)%2 !=0:\n",
    "        for i in range(int((len(sentence)-1)/2)):\n",
    "            if sentence[i] != sentence[-i-1]:\n",
    "                return False\n",
    "        return True"
   ]
  },
  {
   "cell_type": "code",
   "execution_count": 26,
   "id": "5a4cdbb8-d5c0-4e0a-b51f-5b89b02f0db0",
   "metadata": {},
   "outputs": [
    {
     "data": {
      "text/plain": [
       "True"
      ]
     },
     "execution_count": 26,
     "metadata": {},
     "output_type": "execute_result"
    }
   ],
   "source": [
    "palindrome('mom')"
   ]
  },
  {
   "cell_type": "code",
   "execution_count": 32,
   "id": "833a65f4-806e-4535-94e0-eb678143747b",
   "metadata": {},
   "outputs": [],
   "source": [
    "#what if...\n",
    "def words_one_line(array):\n",
    "    print(*array)"
   ]
  },
  {
   "cell_type": "code",
   "execution_count": 35,
   "id": "b5fb1cca-95c3-4426-b392-ae59339bc829",
   "metadata": {},
   "outputs": [
    {
     "name": "stdout",
     "output_type": "stream",
     "text": [
      "we belong together\n"
     ]
    }
   ],
   "source": [
    "words_one_line(['we','belong','together'])"
   ]
  },
  {
   "cell_type": "code",
   "execution_count": null,
   "id": "04a32af1-6439-4d0f-8ccc-813f3d7c6dba",
   "metadata": {},
   "outputs": [],
   "source": []
  }
 ],
 "metadata": {
  "kernelspec": {
   "display_name": "Python 3",
   "language": "python",
   "name": "python3"
  },
  "language_info": {
   "codemirror_mode": {
    "name": "ipython",
    "version": 3
   },
   "file_extension": ".py",
   "mimetype": "text/x-python",
   "name": "python",
   "nbconvert_exporter": "python",
   "pygments_lexer": "ipython3",
   "version": "3.8.5"
  }
 },
 "nbformat": 4,
 "nbformat_minor": 5
}
