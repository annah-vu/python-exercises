{
 "cells": [
  {
   "cell_type": "code",
   "execution_count": 1,
   "id": "70575fb2-3881-4f21-9668-48c85e9cd825",
   "metadata": {},
   "outputs": [],
   "source": [
    "students = [\n",
    "    {\n",
    "        \"id\": \"100001\",\n",
    "        \"student\": \"Ada Lovelace\",\n",
    "        \"coffee_preference\": \"light\",\n",
    "        \"course\": \"web development\",\n",
    "        \"grades\": [70, 91, 82, 71],\n",
    "        \"pets\": [{\"species\": \"horse\", \"age\": 8}],\n",
    "    },\n",
    "    {\n",
    "        \"id\": \"100002\",\n",
    "        \"student\": \"Thomas Bayes\",\n",
    "        \"coffee_preference\": \"medium\",\n",
    "        \"course\": \"data science\",\n",
    "        \"grades\": [75, 73, 86, 100],\n",
    "        \"pets\": [],\n",
    "    },\n",
    "    {\n",
    "        \"id\": \"100003\",\n",
    "        \"student\": \"Marie Curie\",\n",
    "        \"coffee_preference\": \"light\",\n",
    "        \"course\": \"web development\",\n",
    "        \"grades\": [70, 89, 69, 65],\n",
    "        \"pets\": [{\"species\": \"cat\", \"age\": 0}],\n",
    "    },\n",
    "    {\n",
    "        \"id\": \"100004\",\n",
    "        \"student\": \"Grace Hopper\",\n",
    "        \"coffee_preference\": \"dark\",\n",
    "        \"course\": \"data science\",\n",
    "        \"grades\": [73, 66, 83, 92],\n",
    "        \"pets\": [{\"species\": \"dog\", \"age\": 4}, {\"species\": \"cat\", \"age\": 4}],\n",
    "    },\n",
    "    {\n",
    "        \"id\": \"100005\",\n",
    "        \"student\": \"Alan Turing\",\n",
    "        \"coffee_preference\": \"dark\",\n",
    "        \"course\": \"web development\",\n",
    "        \"grades\": [78, 98, 85, 65],\n",
    "        \"pets\": [\n",
    "            {\"species\": \"horse\", \"age\": 6},\n",
    "            {\"species\": \"horse\", \"age\": 7},\n",
    "            {\"species\": \"dog\", \"age\": 5},\n",
    "        ],\n",
    "    },\n",
    "    {\n",
    "        \"id\": \"100006\",\n",
    "        \"student\": \"Rosalind Franklin\",\n",
    "        \"coffee_preference\": \"dark\",\n",
    "        \"course\": \"data science\",\n",
    "        \"grades\": [76, 70, 96, 81],\n",
    "        \"pets\": [],\n",
    "    },\n",
    "    {\n",
    "        \"id\": \"100007\",\n",
    "        \"student\": \"Elizabeth Blackwell\",\n",
    "        \"coffee_preference\": \"dark\",\n",
    "        \"course\": \"web development\",\n",
    "        \"grades\": [69, 94, 89, 86],\n",
    "        \"pets\": [{\"species\": \"cat\", \"age\": 10}],\n",
    "    },\n",
    "    {\n",
    "        \"id\": \"100008\",\n",
    "        \"student\": \"Rene Descartes\",\n",
    "        \"coffee_preference\": \"medium\",\n",
    "        \"course\": \"data science\",\n",
    "        \"grades\": [87, 79, 90, 99],\n",
    "        \"pets\": [{\"species\": \"cat\", \"age\": 10}, {\"species\": \"cat\", \"age\": 8}],\n",
    "    },\n",
    "    {\n",
    "        \"id\": \"100009\",\n",
    "        \"student\": \"Ahmed Zewail\",\n",
    "        \"coffee_preference\": \"medium\",\n",
    "        \"course\": \"data science\",\n",
    "        \"grades\": [74, 99, 93, 89],\n",
    "        \"pets\": [{\"species\": \"cat\", \"age\": 0}, {\"species\": \"cat\", \"age\": 0}],\n",
    "    },\n",
    "    {\n",
    "        \"id\": \"100010\",\n",
    "        \"student\": \"Chien-Shiung Wu\",\n",
    "        \"coffee_preference\": \"medium\",\n",
    "        \"course\": \"web development\",\n",
    "        \"grades\": [82, 92, 91, 65],\n",
    "        \"pets\": [{\"species\": \"cat\", \"age\": 8}],\n",
    "    },\n",
    "    {\n",
    "        \"id\": \"100011\",\n",
    "        \"student\": \"William Sanford Nye\",\n",
    "        \"coffee_preference\": \"dark\",\n",
    "        \"course\": \"data science\",\n",
    "        \"grades\": [70, 92, 65, 99],\n",
    "        \"pets\": [{\"species\": \"cat\", \"age\": 8}, {\"species\": \"cat\", \"age\": 5}],\n",
    "    },\n",
    "    {\n",
    "        \"id\": \"100012\",\n",
    "        \"student\": \"Carl Sagan\",\n",
    "        \"coffee_preference\": \"medium\",\n",
    "        \"course\": \"data science\",\n",
    "        \"grades\": [100, 86, 91, 87],\n",
    "        \"pets\": [{\"species\": \"cat\", \"age\": 10}],\n",
    "    },\n",
    "    {\n",
    "        \"id\": \"100013\",\n",
    "        \"student\": \"Jane Goodall\",\n",
    "        \"coffee_preference\": \"light\",\n",
    "        \"course\": \"web development\",\n",
    "        \"grades\": [80, 70, 68, 98],\n",
    "        \"pets\": [{\"species\": \"horse\", \"age\": 4}],\n",
    "    },\n",
    "    {\n",
    "        \"id\": \"100014\",\n",
    "        \"student\": \"Richard Feynman\",\n",
    "        \"coffee_preference\": \"medium\",\n",
    "        \"course\": \"web development\",\n",
    "        \"grades\": [73, 99, 86, 98],\n",
    "        \"pets\": [{\"species\": \"dog\", \"age\": 6}],\n",
    "    },\n",
    "]"
   ]
  },
  {
   "cell_type": "markdown",
   "id": "a5f81bc4-6608-4d46-a45c-db134be78f4b",
   "metadata": {},
   "source": [
    "#### 1.) How many students are there?"
   ]
  },
  {
   "cell_type": "code",
   "execution_count": 2,
   "id": "137544d1-b00f-4936-b273-8326f287da1a",
   "metadata": {},
   "outputs": [
    {
     "data": {
      "text/plain": [
       "14"
      ]
     },
     "execution_count": 2,
     "metadata": {},
     "output_type": "execute_result"
    }
   ],
   "source": [
    "len([student for student in students])"
   ]
  },
  {
   "cell_type": "markdown",
   "id": "4e81b30c-1dda-4216-a8c7-48159da314df",
   "metadata": {},
   "source": [
    "#### 2.) How many students prefer light coffee? "
   ]
  },
  {
   "cell_type": "code",
   "execution_count": 6,
   "id": "f2062729-3fa1-4193-97ae-45fcb08b8063",
   "metadata": {},
   "outputs": [
    {
     "data": {
      "text/plain": [
       "3"
      ]
     },
     "execution_count": 6,
     "metadata": {},
     "output_type": "execute_result"
    }
   ],
   "source": [
    "len([student for student in students if student['coffee_preference']=='light']) "
   ]
  },
  {
   "cell_type": "markdown",
   "id": "56b92404-a479-4c24-9cc9-a29191ccfaf9",
   "metadata": {},
   "source": [
    "#### 2a.) For each type of coffee roast?"
   ]
  },
  {
   "cell_type": "code",
   "execution_count": 7,
   "id": "4f2816ef-8a72-4037-a152-3990710bc1e1",
   "metadata": {},
   "outputs": [
    {
     "data": {
      "text/plain": [
       "6"
      ]
     },
     "execution_count": 7,
     "metadata": {},
     "output_type": "execute_result"
    }
   ],
   "source": [
    "#medium\n",
    "len([student for student in students if student['coffee_preference']=='medium']) "
   ]
  },
  {
   "cell_type": "code",
   "execution_count": 15,
   "id": "68e090bd-db2b-46da-9716-6ea4af9a691a",
   "metadata": {},
   "outputs": [
    {
     "data": {
      "text/plain": [
       "5"
      ]
     },
     "execution_count": 15,
     "metadata": {},
     "output_type": "execute_result"
    }
   ],
   "source": [
    "#dark\n",
    "len([student for student in students if student['coffee_preference']=='dark'])"
   ]
  },
  {
   "cell_type": "markdown",
   "id": "8ef34c03-dc40-4414-9f45-6149ca637400",
   "metadata": {},
   "source": [
    "#### 3.) How many types of each pet are there?"
   ]
  },
  {
   "cell_type": "code",
   "execution_count": 29,
   "id": "e048d4eb-1b21-4945-adaf-55234f9106f7",
   "metadata": {},
   "outputs": [],
   "source": [
    "pet_types = set(sum([[pet['species'] for pet in student['pets']] for student in students],[]))"
   ]
  },
  {
   "cell_type": "code",
   "execution_count": 30,
   "id": "f9ff5ae1-eb13-44b9-9b51-cdad8ea2ba2b",
   "metadata": {},
   "outputs": [
    {
     "data": {
      "text/plain": [
       "{'cat', 'dog', 'horse'}"
      ]
     },
     "execution_count": 30,
     "metadata": {},
     "output_type": "execute_result"
    }
   ],
   "source": [
    "pet_types"
   ]
  },
  {
   "cell_type": "code",
   "execution_count": 40,
   "id": "abad9979-146e-4f89-a287-fd997e40ca07",
   "metadata": {},
   "outputs": [
    {
     "name": "stdout",
     "output_type": "stream",
     "text": [
      "[11] cats\n",
      "[3] dogs\n",
      "[4] horses\n"
     ]
    }
   ],
   "source": [
    "print([sum(len([pets['species'] for pets in student['pets'] if pets['species'] == 'cat']) for student in students)], \"cats\")\n",
    "print([sum(len([pets['species'] for pets in student['pets'] if pets['species'] == 'dog']) for student in students)], \"dogs\")\n",
    "print([sum(len([pets['species'] for pets in student['pets'] if pets['species'] == 'horse']) for student in students)], \"horses\")"
   ]
  },
  {
   "cell_type": "markdown",
   "id": "7f8b38b1-6b89-49cd-b75f-8c17d2f5e671",
   "metadata": {},
   "source": [
    "#### 4.) How many grades does each student have? Do they all have the same number of grades?"
   ]
  },
  {
   "cell_type": "code",
   "execution_count": 56,
   "id": "fc8cf9f1-3194-482b-ac1c-da4db92e7fd5",
   "metadata": {},
   "outputs": [
    {
     "data": {
      "text/plain": [
       "[{4}]"
      ]
     },
     "execution_count": 56,
     "metadata": {},
     "output_type": "execute_result"
    }
   ],
   "source": [
    "[set(len(student['grades']) for student in students)]"
   ]
  },
  {
   "cell_type": "code",
   "execution_count": 57,
   "id": "fb63d751-c374-46e9-b02d-9afcaf513cae",
   "metadata": {},
   "outputs": [],
   "source": [
    "#every student has 4 grades"
   ]
  },
  {
   "cell_type": "markdown",
   "id": "5ac0aa95-d372-401a-987d-0ff0995fbf26",
   "metadata": {},
   "source": [
    "### 5.) What is each student's grade average?"
   ]
  },
  {
   "cell_type": "code",
   "execution_count": null,
   "id": "64af707a-697b-435b-ba6e-83da7cfcf512",
   "metadata": {},
   "outputs": [],
   "source": []
  }
 ],
 "metadata": {
  "kernelspec": {
   "display_name": "Python 3",
   "language": "python",
   "name": "python3"
  },
  "language_info": {
   "codemirror_mode": {
    "name": "ipython",
    "version": 3
   },
   "file_extension": ".py",
   "mimetype": "text/x-python",
   "name": "python",
   "nbconvert_exporter": "python",
   "pygments_lexer": "ipython3",
   "version": "3.8.5"
  }
 },
 "nbformat": 4,
 "nbformat_minor": 5
}
