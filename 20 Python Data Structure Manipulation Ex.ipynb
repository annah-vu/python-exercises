{
 "cells": [
  {
   "cell_type": "code",
   "execution_count": null,
   "metadata": {},
   "outputs": [],
   "source": []
  },
  {
   "cell_type": "code",
   "execution_count": 3,
   "metadata": {},
   "outputs": [],
   "source": [
    "students = [\n",
    "    {\n",
    "        \"id\": \"100001\",\n",
    "        \"student\": \"Ada Lovelace\",\n",
    "        \"coffee_preference\": \"light\",\n",
    "        \"course\": \"web development\",\n",
    "        \"grades\": [70, 91, 82, 71],\n",
    "        \"pets\": [{\"species\": \"horse\", \"age\": 8}],\n",
    "    },\n",
    "    {\n",
    "        \"id\": \"100002\",\n",
    "        \"student\": \"Thomas Bayes\",\n",
    "        \"coffee_preference\": \"medium\",\n",
    "        \"course\": \"data science\",\n",
    "        \"grades\": [75, 73, 86, 100],\n",
    "        \"pets\": [],\n",
    "    },\n",
    "    {\n",
    "        \"id\": \"100003\",\n",
    "        \"student\": \"Marie Curie\",\n",
    "        \"coffee_preference\": \"light\",\n",
    "        \"course\": \"web development\",\n",
    "        \"grades\": [70, 89, 69, 65],\n",
    "        \"pets\": [{\"species\": \"cat\", \"age\": 0}],\n",
    "    },\n",
    "    {\n",
    "        \"id\": \"100004\",\n",
    "        \"student\": \"Grace Hopper\",\n",
    "        \"coffee_preference\": \"dark\",\n",
    "        \"course\": \"data science\",\n",
    "        \"grades\": [73, 66, 83, 92],\n",
    "        \"pets\": [{\"species\": \"dog\", \"age\": 4}, {\"species\": \"cat\", \"age\": 4}],\n",
    "    },\n",
    "    {\n",
    "        \"id\": \"100005\",\n",
    "        \"student\": \"Alan Turing\",\n",
    "        \"coffee_preference\": \"dark\",\n",
    "        \"course\": \"web development\",\n",
    "        \"grades\": [78, 98, 85, 65],\n",
    "        \"pets\": [\n",
    "            {\"species\": \"horse\", \"age\": 6},\n",
    "            {\"species\": \"horse\", \"age\": 7},\n",
    "            {\"species\": \"dog\", \"age\": 5},\n",
    "        ],\n",
    "    },\n",
    "    {\n",
    "        \"id\": \"100006\",\n",
    "        \"student\": \"Rosalind Franklin\",\n",
    "        \"coffee_preference\": \"dark\",\n",
    "        \"course\": \"data science\",\n",
    "        \"grades\": [76, 70, 96, 81],\n",
    "        \"pets\": [],\n",
    "    },\n",
    "    {\n",
    "        \"id\": \"100007\",\n",
    "        \"student\": \"Elizabeth Blackwell\",\n",
    "        \"coffee_preference\": \"dark\",\n",
    "        \"course\": \"web development\",\n",
    "        \"grades\": [69, 94, 89, 86],\n",
    "        \"pets\": [{\"species\": \"cat\", \"age\": 10}],\n",
    "    },\n",
    "    {\n",
    "        \"id\": \"100008\",\n",
    "        \"student\": \"Rene Descartes\",\n",
    "        \"coffee_preference\": \"medium\",\n",
    "        \"course\": \"data science\",\n",
    "        \"grades\": [87, 79, 90, 99],\n",
    "        \"pets\": [{\"species\": \"cat\", \"age\": 10}, {\"species\": \"cat\", \"age\": 8}],\n",
    "    },\n",
    "    {\n",
    "        \"id\": \"100009\",\n",
    "        \"student\": \"Ahmed Zewail\",\n",
    "        \"coffee_preference\": \"medium\",\n",
    "        \"course\": \"data science\",\n",
    "        \"grades\": [74, 99, 93, 89],\n",
    "        \"pets\": [{\"species\": \"cat\", \"age\": 0}, {\"species\": \"cat\", \"age\": 0}],\n",
    "    },\n",
    "    {\n",
    "        \"id\": \"100010\",\n",
    "        \"student\": \"Chien-Shiung Wu\",\n",
    "        \"coffee_preference\": \"medium\",\n",
    "        \"course\": \"web development\",\n",
    "        \"grades\": [82, 92, 91, 65],\n",
    "        \"pets\": [{\"species\": \"cat\", \"age\": 8}],\n",
    "    },\n",
    "    {\n",
    "        \"id\": \"100011\",\n",
    "        \"student\": \"William Sanford Nye\",\n",
    "        \"coffee_preference\": \"dark\",\n",
    "        \"course\": \"data science\",\n",
    "        \"grades\": [70, 92, 65, 99],\n",
    "        \"pets\": [{\"species\": \"cat\", \"age\": 8}, {\"species\": \"cat\", \"age\": 5}],\n",
    "    },\n",
    "    {\n",
    "        \"id\": \"100012\",\n",
    "        \"student\": \"Carl Sagan\",\n",
    "        \"coffee_preference\": \"medium\",\n",
    "        \"course\": \"data science\",\n",
    "        \"grades\": [100, 86, 91, 87],\n",
    "        \"pets\": [{\"species\": \"cat\", \"age\": 10}],\n",
    "    },\n",
    "    {\n",
    "        \"id\": \"100013\",\n",
    "        \"student\": \"Jane Goodall\",\n",
    "        \"coffee_preference\": \"light\",\n",
    "        \"course\": \"web development\",\n",
    "        \"grades\": [80, 70, 68, 98],\n",
    "        \"pets\": [{\"species\": \"horse\", \"age\": 4}],\n",
    "    },\n",
    "    {\n",
    "        \"id\": \"100014\",\n",
    "        \"student\": \"Richard Feynman\",\n",
    "        \"coffee_preference\": \"medium\",\n",
    "        \"course\": \"web development\",\n",
    "        \"grades\": [73, 99, 86, 98],\n",
    "        \"pets\": [{\"species\": \"dog\", \"age\": 6}],\n",
    "    },\n",
    "]"
   ]
  },
  {
   "cell_type": "code",
   "execution_count": 3,
   "metadata": {},
   "outputs": [
    {
     "data": {
      "text/plain": [
       "14"
      ]
     },
     "execution_count": 3,
     "metadata": {},
     "output_type": "execute_result"
    }
   ],
   "source": [
    "#1.)  How many students are there\n",
    "len(students)"
   ]
  },
  {
   "cell_type": "code",
   "execution_count": 22,
   "metadata": {},
   "outputs": [
    {
     "name": "stdout",
     "output_type": "stream",
     "text": [
      "3\n",
      "6\n",
      "5\n"
     ]
    }
   ],
   "source": [
    "\n",
    "#2.)  How many students prefer light coffee? For each type of coffee roast?\n",
    "    #light is 3, medium is 6, dark is 5. \n",
    "print(len([student for student in students if student['coffee_preference'] == 'light']))\n",
    "print(len([student for student in students if student['coffee_preference'] == 'medium']))\n",
    "print(len([student for student in students if student['coffee_preference'] == 'dark']))"
   ]
  },
  {
   "cell_type": "code",
   "execution_count": 6,
   "metadata": {},
   "outputs": [
    {
     "name": "stdout",
     "output_type": "stream",
     "text": [
      "{'horse', 'cat', 'dog'}\n"
     ]
    }
   ],
   "source": [
    "print(set(sum([[pet['species'] for pet in student['pets']] for student in students],[])))"
   ]
  },
  {
   "cell_type": "code",
   "execution_count": 11,
   "metadata": {},
   "outputs": [
    {
     "name": "stdout",
     "output_type": "stream",
     "text": [
      "{'dog', 'horse', 'cat'}\n",
      "There are [11] cats\n",
      "There are [3] dogs\n",
      "There are [4] horses\n"
     ]
    }
   ],
   "source": [
    "#3.) How many types of each pet are there?\n",
    "\n",
    "print(\"There are\",[sum(len([pets['species'] for pets in student['pets'] if pets['species'] == 'cat']) for student in students)], \"cats\")\n",
    "print(\"There are\",[sum(len([pets['species'] for pets in student['pets'] if pets['species'] == 'dog']) for student in students)], \"dogs\")\n",
    "print(\"There are\",[sum(len([pets['species'] for pets in student['pets'] if pets['species'] == 'horse']) for student in students)], \"horses\")"
   ]
  },
  {
   "cell_type": "code",
   "execution_count": 6,
   "metadata": {
    "scrolled": true
   },
   "outputs": [
    {
     "data": {
      "text/plain": [
       "[{4}]"
      ]
     },
     "execution_count": 6,
     "metadata": {},
     "output_type": "execute_result"
    }
   ],
   "source": [
    "#4.) How many grades does each student have? Do they all have the same number of grades?\n",
    "[set(len(student['grades']) for student in students)]"
   ]
  },
  {
   "cell_type": "code",
   "execution_count": 12,
   "metadata": {},
   "outputs": [
    {
     "data": {
      "text/plain": [
       "[78.5,\n",
       " 83.5,\n",
       " 73.25,\n",
       " 78.5,\n",
       " 81.5,\n",
       " 80.75,\n",
       " 84.5,\n",
       " 88.75,\n",
       " 88.75,\n",
       " 82.5,\n",
       " 81.5,\n",
       " 91.0,\n",
       " 79.0,\n",
       " 89.0]"
      ]
     },
     "execution_count": 12,
     "metadata": {},
     "output_type": "execute_result"
    }
   ],
   "source": [
    "#5.) What is each student's grade average?\n",
    "[student['grades'] for student in students]\n",
    "[sum(student['grades']) for student in students]\n",
    "[(sum(student['grades'])) / (len(student['grades'])) for student in students]"
   ]
  },
  {
   "cell_type": "code",
   "execution_count": 4,
   "metadata": {},
   "outputs": [
    {
     "name": "stdout",
     "output_type": "stream",
     "text": [
      "Ada Lovelace has 1 pet(s)\n",
      "Ada Lovelace has 1 pet(s)\n",
      "Thomas Bayes has 0 pet(s)\n",
      "Marie Curie has 1 pet(s)\n",
      "Grace Hopper has 2 pet(s)\n",
      "Alan Turing has 3 pet(s)\n",
      "Rosalind Franklin has 0 pet(s)\n",
      "Elizabeth Blackwell has 1 pet(s)\n",
      "Rene Descartes has 2 pet(s)\n",
      "Ahmed Zewail has 2 pet(s)\n",
      "Chien-Shiung Wu has 1 pet(s)\n",
      "William Sanford Nye has 2 pet(s)\n",
      "Carl Sagan has 1 pet(s)\n",
      "Jane Goodall has 1 pet(s)\n",
      "Richard Feynman has 1 pet(s)\n"
     ]
    }
   ],
   "source": [
    "#6.) How many pets does each student have?\n",
    "[len([pet for pet in student['pets']]) for student in students]\n",
    "\n",
    "student = students[0]\n",
    "student[\"pets\"]\n",
    "len(student[\"pets\"])\n",
    "number_of_pets =  len(student[\"pets\"])\n",
    "print(f\"{student['student']} has {number_of_pets} pet(s)\")\n",
    "\n",
    "for student in students:\n",
    "    number_of_pets =  len(student[\"pets\"])\n",
    "    print(f\"{student['student']} has {number_of_pets} pet(s)\") "
   ]
  },
  {
   "cell_type": "code",
   "execution_count": 30,
   "metadata": {},
   "outputs": [
    {
     "name": "stdout",
     "output_type": "stream",
     "text": [
      "The number of students in web development is  7\n",
      "The number of students in data science is  7\n"
     ]
    }
   ],
   "source": [
    "#7.) How many students are in web development? data science?\n",
    "print(\"The number of students in web development is \", len([student for student in students if student['course'] == 'web development']))\n",
    "print(\"The number of students in data science is \", len([student for student in students if student['course'] == 'data science']))"
   ]
  },
  {
   "cell_type": "code",
   "execution_count": 35,
   "metadata": {},
   "outputs": [
    {
     "name": "stdout",
     "output_type": "stream",
     "text": [
      "The average number of pets for students in web development is 1.2857142857142858\n"
     ]
    }
   ],
   "source": [
    "#8.) What is the average number of pets for students in web development?\n",
    "sum([len(student['pets']) for student in students if student['course'] == 'web development']) / len([len(student['pets']) for student in students if student['course'] == 'web development'])\n",
    "print(\"The average number of pets for students in web development is\", sum([len(student['pets']) for student in students if student['course'] == 'web development']) / len([len(student['pets']) for student in students if student['course'] == 'web development']))"
   ]
  },
  {
   "cell_type": "code",
   "execution_count": 46,
   "metadata": {},
   "outputs": [
    {
     "name": "stdout",
     "output_type": "stream",
     "text": [
      "The average pet age for data science students is 7.0\n"
     ]
    }
   ],
   "source": [
    "#9.) What is the average pet age for students in data science?\n",
    "pet_ages = \\\n",
    "sum(sum([[pet['age'] for pet in student['pets']] for student in students if student['course'] == 'data science'], []))\n",
    "pet_ages\n",
    "\n",
    "data_science_pets = \\\n",
    "len([[pet['age'] for pet in student['pets']] for student in students if student['course'] == 'data science'])\n",
    "data_science_pets\n",
    "pet_ages / data_science_pets\n",
    "\n",
    "print(\"The average pet age for data science students is\", pet_ages/data_science_pets)"
   ]
  },
  {
   "cell_type": "code",
   "execution_count": 47,
   "metadata": {},
   "outputs": [
    {
     "data": {
      "text/plain": [
       "(4, 'medium')"
      ]
     },
     "execution_count": 47,
     "metadata": {},
     "output_type": "execute_result"
    }
   ],
   "source": [
    "#10.) What is most frequent coffee preference for data science students?\n",
    "data_coffee = [student['coffee_preference'] for student in students if student['course'] == 'data science']\n",
    "data_coffee\n",
    "max(set(list(zip([data_coffee.count(w) for w in data_coffee], data_coffee))))"
   ]
  },
  {
   "cell_type": "code",
   "execution_count": 52,
   "metadata": {},
   "outputs": [
    {
     "name": "stdout",
     "output_type": "stream",
     "text": [
      "Least coffee preference for web development was (2, 'dark')\n"
     ]
    },
    {
     "data": {
      "text/plain": [
       "(3, 'dark')"
      ]
     },
     "execution_count": 52,
     "metadata": {},
     "output_type": "execute_result"
    }
   ],
   "source": [
    "#11.) What is the least frequent coffee preference for web development students?\n",
    "web_coffee = [student['coffee_preference'] for student in students if student['course'] == 'web development']\n",
    "web_coffee\n",
    "min(set(list(zip([web_coffee.count(w) for w in web_coffee], web_coffee))))\n",
    "print(\"Least coffee preference for web development was\", min(set(list(zip([web_coffee.count(w) for w in web_coffee], web_coffee)))))\n",
    "min(set(list(zip([data_coffee.count(w) for w in data_coffee], data_coffee))))"
   ]
  },
  {
   "cell_type": "code",
   "execution_count": 55,
   "metadata": {},
   "outputs": [
    {
     "name": "stdout",
     "output_type": "stream",
     "text": [
      "The average grade for students with at least two pets is [81.5]\n"
     ]
    }
   ],
   "source": [
    "#12.) What is the average grade for students with at least 2 pets?\n",
    "[(sum(student['grades'])) / (len(student['grades'])) for student in students if len(student['pets']) > 2]\n",
    "\n",
    "print(\"The average grade for students with at least two pets is\", [(sum(student['grades'])) / (len(student['grades'])) for student in students if len(student['pets']) > 2])"
   ]
  },
  {
   "cell_type": "code",
   "execution_count": 57,
   "metadata": {},
   "outputs": [
    {
     "name": "stdout",
     "output_type": "stream",
     "text": [
      "1 student(s) have 3 pets\n"
     ]
    }
   ],
   "source": [
    "#13.) How many students have 3 pets?\n",
    "len([student for student in students if len(student['pets']) == 3])\n",
    "print(len([student for student in students if len(student['pets']) == 3]), \"student(s) have 3 pets\")"
   ]
  },
  {
   "cell_type": "code",
   "execution_count": 68,
   "metadata": {},
   "outputs": [
    {
     "name": "stdout",
     "output_type": "stream",
     "text": [
      "Average grade for students with no pets is 82.125\n"
     ]
    }
   ],
   "source": [
    "#14.) What is the average grade for students with 0 pets?\n",
    "no_pets = [(sum(student['grades'])) / (len(student['grades'])) for student in students if len(student['pets']) == 0]\n",
    "\n",
    "average_no_pets = (sum(no_pets)) / (len(no_pets))\n",
    "print(f\"Average grade for students with no pets is {average_no_pets}\")"
   ]
  },
  {
   "cell_type": "code",
   "execution_count": 77,
   "metadata": {},
   "outputs": [
    {
     "name": "stdout",
     "output_type": "stream",
     "text": [
      "The average grade for web dev students is 81.17857142857143, and the average grade for data science students is 84.67857142857143\n"
     ]
    }
   ],
   "source": [
    "#15.) What is the average grade for web development students? data science students?\n",
    "web_dev = [(sum(student['grades'])) / (len(student['grades'])) for student in students if student['course'] == 'web development']\n",
    "\n",
    "avg_web_dev = sum(web_dev) / len(web_dev)\n",
    "\n",
    "data_science = [(sum(student['grades'])) / (len(student['grades'])) for student in students if student['course'] == 'data science']\n",
    "\n",
    "avg_data_science = sum(data_science) / len(data_science)\n",
    "\n",
    "print(f\"The average grade for web dev students is {avg_web_dev}, and the average grade for data science students is {avg_data_science}\")"
   ]
  },
  {
   "cell_type": "code",
   "execution_count": 80,
   "metadata": {},
   "outputs": [
    {
     "name": "stdout",
     "output_type": "stream",
     "text": [
      "The average grade range for dark coffee drinkers is 28.8\n"
     ]
    }
   ],
   "source": [
    "#16.) What is the average grade range (i.e. highest grade - lowest grade) for dark coffee drinkers?\n",
    "coffee_grade_range = [max(student['grades']) - min(student['grades']) for student in students if student['coffee_preference'] == 'dark']\n",
    "\n",
    "avg_coffee_grade_range = sum(coffee_grade_range) / len(coffee_grade_range)\n",
    "\n",
    "print(f\"The average grade range for dark coffee drinkers is {avg_coffee_grade_range}\")"
   ]
  },
  {
   "cell_type": "code",
   "execution_count": 83,
   "metadata": {},
   "outputs": [
    {
     "name": "stdout",
     "output_type": "stream",
     "text": [
      "The average number of pets for medium coffee drinkers is 1.1666666666666667 \n"
     ]
    }
   ],
   "source": [
    "#17.) What is the average number of pets for medium coffee drinkers?\n",
    "medium_pets = [len(student['pets']) for student in students if student['coffee_preference'] == 'medium']\n",
    "\n",
    "medium_pets_avg = sum(medium_pets) / len(medium_pets)\n",
    "\n",
    "print(f\"The average number of pets for medium coffee drinkers is {medium_pets_avg} \")"
   ]
  },
  {
   "cell_type": "code",
   "execution_count": 85,
   "metadata": {},
   "outputs": [
    {
     "name": "stdout",
     "output_type": "stream",
     "text": [
      "Here is the number and most common type of pet for web dev students (4, 'horse')\n"
     ]
    }
   ],
   "source": [
    "#18.) What is the most common type of pet for web development students?\n",
    "web_pet = [[pet['species'] for pet in student['pets']] for student in students if student['course'] == 'web development']\n",
    "web_pet = sum(web_pet, [])\n",
    "\n",
    "max(list(zip([web_pet.count(x) for x in web_pet], web_pet)))\n",
    "\n",
    "print(\"Here is the number and most common type of pet for web dev students\", max(list(zip([web_pet.count(x) for x in web_pet], web_pet))))"
   ]
  },
  {
   "cell_type": "code",
   "execution_count": 88,
   "metadata": {},
   "outputs": [
    {
     "name": "stdout",
     "output_type": "stream",
     "text": [
      "The average name length for students is 13.642857142857142\n"
     ]
    }
   ],
   "source": [
    "#19.) Average Name Length\n",
    "avg_name_length = sum([len(student['student']) for student in students]) / len([len(student['student']) for student in students])\n",
    "print(f\"The average name length for students is {avg_name_length}\")"
   ]
  },
  {
   "cell_type": "code",
   "execution_count": 91,
   "metadata": {},
   "outputs": [
    {
     "name": "stdout",
     "output_type": "stream",
     "text": [
      "The oldest pet age for light coffee drinkers is 8\n"
     ]
    }
   ],
   "source": [
    "#20.) What is the highest pet age for light coffee drinkers?\n",
    "pet_ages = \\\n",
    "max(sum([[pet['age'] for pet in student['pets']] for student in students if student['coffee_preference'] == 'light'], []))\n",
    "pet_ages\n",
    "\n",
    "print(f\"The oldest pet age for light coffee drinkers is {pet_ages}\")"
   ]
  },
  {
   "cell_type": "code",
   "execution_count": null,
   "metadata": {},
   "outputs": [],
   "source": []
  }
 ],
 "metadata": {
  "kernelspec": {
   "display_name": "Python 3",
   "language": "python",
   "name": "python3"
  },
  "language_info": {
   "codemirror_mode": {
    "name": "ipython",
    "version": 3
   },
   "file_extension": ".py",
   "mimetype": "text/x-python",
   "name": "python",
   "nbconvert_exporter": "python",
   "pygments_lexer": "ipython3",
   "version": "3.8.5"
  }
 },
 "nbformat": 4,
 "nbformat_minor": 4
}
